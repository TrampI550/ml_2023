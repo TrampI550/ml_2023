{
  "cells": [
    {
      "cell_type": "code",
      "execution_count": 1095,
      "metadata": {
        "id": "hmwS3L5qjzbT"
      },
      "outputs": [],
      "source": [
        "import funcs_my_and_from_git\n",
        "from sklearn.preprocessing import LabelBinarizer"
      ]
    },
    {
      "cell_type": "markdown",
      "metadata": {
        "id": "N9jqXln4oyDu"
      },
      "source": [
        "С сайта Bikez.com был собран с помощью специального парсера с целью пополнить существующий набор данных по бывшим в употреблении мотоциклам. Там хранится информация о характеристиках проданных мотоциклах до 2022 года.\n",
        "\n",
        "all_bikez_curated.csv — это то, что осталось от необработанного набора данных после прохождения начальной стадии предварительной обработки, на которой сохранялись только наиболее доступные и наиболее релевантные атрибуты.\n",
        "\n",
        "Используя этот набор данных, мы могли бы попытаться создать модель, работа которой отражала бы суть того, что исторически предполагалось в каждой категории мотоциклов. Итак, попробуем изучить возможность определить, к какому типу относится мотоцикл в соответствии с его **техническими характеристиками**.\n",
        "\n",
        "Описание характеристик:\n",
        "\n",
        "* `Brand` - марка мотоцикла\n",
        "* `Model` - модель мотоцикла\n",
        "* `Year` - год производства мотоцикла\n",
        "* `Category` – класс, к которому принадлежит мотоцикл на рынке\n",
        "* `Rating` - средний рейтинг из 5 звезд\n",
        "* `Displacement (ccm)` — объем двигателя мотоцикла в кубических сантиметрах (см3)\n",
        "* `Power (hp)` — максимальная выходная мощность в лошадиных силах (л.с.)\n",
        "* `Torque (Nm)` — максимальный крутящий момент в ньютон-метрах (Нм)\n",
        "* `Engine cylinder` — количество цилиндров в двигателе, а также конфигурация\n",
        "* `Engine stroke` - количество тактов для завершения одного рабочего хода двигателя\n",
        "* `Gearbox` – количество передач\n",
        "* `Bore (mm)` — диаметр цилиндров в миллиметрах (мм)\n",
        "* `Stroke (mm)` — расстояние внутри цилиндра, которое проходит поршень в миллиметрах(мм)\n",
        "* `Transmission type` - тип трансмиссии мотоцикла\n",
        "* `Front brakes` - тип переднего тормоза\n",
        "* `Rear brakes` - тип заднего тормоза\n",
        "* `Front tire` - размер передней шины\n",
        "* `Rear tire` - размер задней шины\n",
        "* `Front suspension` - тип и конфигурация передней подвески\n",
        "* `Rear suspension` - тип и конфигурация задней подвески\n",
        "* `Dry weight (kg)` - вес мотоцикла без каких-либо жидкостей, в килограммах (кг)\n",
        "* `Wheelbase (mm)` - расстояние между точками соприкосновения передних и задних колес с землей в миллиметрах (мм)\n",
        "* `Fuel capacity (lts)` - максимальная вместимость топливного бака в литрах (лт)\n",
        "* `Fuel system` - система подачи топлива в двигатель\n",
        "* `Fuel control` – конфигурация клапанов двигателя\n",
        "* `Seat height (mm)` - высота от низа сиденья до земли в миллиметрах (мм)\n",
        "* `Cooling system` – система охлаждения двигателя\n",
        "* `Color options` — возможные варианты цвета модели мотоцикла для конкретного года выпуска"
      ]
    },
    {
      "cell_type": "code",
      "execution_count": 1097,
      "metadata": {
        "colab": {
          "base_uri": "https://localhost:8080/"
        },
        "id": "bO23GfyqxupM",
        "outputId": "9fd338f9-ef7f-4f0f-f114-8a94e0c685cc"
      },
      "outputs": [
        {
          "name": "stdout",
          "output_type": "stream",
          "text": [
            "\n",
            "Число объектов: 38472\n",
            "Число признаков: 28\n"
          ]
        },
        {
          "name": "stderr",
          "output_type": "stream",
          "text": [
            "<ipython-input-1097-fa983f64e246>:1: DtypeWarning: Columns (12) have mixed types. Specify dtype option on import or set low_memory=False.\n",
            "  data_raw = pd.read_csv(\"all_bikez_curated.csv\")\n"
          ]
        }
      ],
      "source": [
        "data_raw = pd.read_csv(\"all_bikez_curated.csv\")\n",
        "print(f'''\n",
        "Число объектов: {data_raw.shape[0]}\n",
        "Число признаков: {data_raw.shape[1]}''')"
      ]
    },
    {
      "cell_type": "code",
      "execution_count": 1098,
      "metadata": {
        "colab": {
          "base_uri": "https://localhost:8080/",
          "height": 314
        },
        "id": "gCoSIXfkwb7O",
        "outputId": "41a062c0-9129-4a18-86c0-acd3765b9894"
      },
      "outputs": [
        {
          "data": {
            "text/html": [
              "\n",
              "  <div id=\"df-cc7a1928-034d-414c-8d95-a962c6f8b33c\" class=\"colab-df-container\">\n",
              "    <div>\n",
              "<style scoped>\n",
              "    .dataframe tbody tr th:only-of-type {\n",
              "        vertical-align: middle;\n",
              "    }\n",
              "\n",
              "    .dataframe tbody tr th {\n",
              "        vertical-align: top;\n",
              "    }\n",
              "\n",
              "    .dataframe thead th {\n",
              "        text-align: right;\n",
              "    }\n",
              "</style>\n",
              "<table border=\"1\" class=\"dataframe\">\n",
              "  <thead>\n",
              "    <tr style=\"text-align: right;\">\n",
              "      <th></th>\n",
              "      <th>Brand</th>\n",
              "      <th>Model</th>\n",
              "      <th>Year</th>\n",
              "      <th>Category</th>\n",
              "      <th>Rating</th>\n",
              "      <th>Displacement (ccm)</th>\n",
              "      <th>Power (hp)</th>\n",
              "      <th>Torque (Nm)</th>\n",
              "      <th>Engine cylinder</th>\n",
              "      <th>Engine stroke</th>\n",
              "      <th>...</th>\n",
              "      <th>Dry weight (kg)</th>\n",
              "      <th>Wheelbase (mm)</th>\n",
              "      <th>Seat height (mm)</th>\n",
              "      <th>Front brakes</th>\n",
              "      <th>Rear brakes</th>\n",
              "      <th>Front tire</th>\n",
              "      <th>Rear tire</th>\n",
              "      <th>Front suspension</th>\n",
              "      <th>Rear suspension</th>\n",
              "      <th>Color options</th>\n",
              "    </tr>\n",
              "  </thead>\n",
              "  <tbody>\n",
              "    <tr>\n",
              "      <th>0</th>\n",
              "      <td>acabion</td>\n",
              "      <td>da vinci 650-vi</td>\n",
              "      <td>2011</td>\n",
              "      <td>Prototype / concept model</td>\n",
              "      <td>3.2</td>\n",
              "      <td>NaN</td>\n",
              "      <td>804.0</td>\n",
              "      <td>NaN</td>\n",
              "      <td>Electric</td>\n",
              "      <td>Electric</td>\n",
              "      <td>...</td>\n",
              "      <td>420.0</td>\n",
              "      <td>NaN</td>\n",
              "      <td>NaN</td>\n",
              "      <td>Single disc</td>\n",
              "      <td>Single disc</td>\n",
              "      <td>NaN</td>\n",
              "      <td>NaN</td>\n",
              "      <td>NaN</td>\n",
              "      <td>NaN</td>\n",
              "      <td>NaN</td>\n",
              "    </tr>\n",
              "    <tr>\n",
              "      <th>1</th>\n",
              "      <td>acabion</td>\n",
              "      <td>gtbo 55</td>\n",
              "      <td>2007</td>\n",
              "      <td>Sport</td>\n",
              "      <td>2.6</td>\n",
              "      <td>1300.0</td>\n",
              "      <td>541.0</td>\n",
              "      <td>420.0</td>\n",
              "      <td>In-line four</td>\n",
              "      <td>four-stroke</td>\n",
              "      <td>...</td>\n",
              "      <td>360.0</td>\n",
              "      <td>NaN</td>\n",
              "      <td>NaN</td>\n",
              "      <td>NaN</td>\n",
              "      <td>NaN</td>\n",
              "      <td>NaN</td>\n",
              "      <td>NaN</td>\n",
              "      <td>NaN</td>\n",
              "      <td>NaN</td>\n",
              "      <td>NaN</td>\n",
              "    </tr>\n",
              "    <tr>\n",
              "      <th>2</th>\n",
              "      <td>acabion</td>\n",
              "      <td>gtbo 600 daytona-vi</td>\n",
              "      <td>2011</td>\n",
              "      <td>Prototype / concept model</td>\n",
              "      <td>3.5</td>\n",
              "      <td>NaN</td>\n",
              "      <td>536.0</td>\n",
              "      <td>NaN</td>\n",
              "      <td>Electric</td>\n",
              "      <td>Electric</td>\n",
              "      <td>...</td>\n",
              "      <td>420.0</td>\n",
              "      <td>NaN</td>\n",
              "      <td>NaN</td>\n",
              "      <td>Single disc</td>\n",
              "      <td>Single disc</td>\n",
              "      <td>NaN</td>\n",
              "      <td>NaN</td>\n",
              "      <td>NaN</td>\n",
              "      <td>NaN</td>\n",
              "      <td>NaN</td>\n",
              "    </tr>\n",
              "  </tbody>\n",
              "</table>\n",
              "<p>3 rows × 28 columns</p>\n",
              "</div>\n",
              "    <div class=\"colab-df-buttons\">\n",
              "\n",
              "  <div class=\"colab-df-container\">\n",
              "    <button class=\"colab-df-convert\" onclick=\"convertToInteractive('df-cc7a1928-034d-414c-8d95-a962c6f8b33c')\"\n",
              "            title=\"Convert this dataframe to an interactive table.\"\n",
              "            style=\"display:none;\">\n",
              "\n",
              "  <svg xmlns=\"http://www.w3.org/2000/svg\" height=\"24px\" viewBox=\"0 -960 960 960\">\n",
              "    <path d=\"M120-120v-720h720v720H120Zm60-500h600v-160H180v160Zm220 220h160v-160H400v160Zm0 220h160v-160H400v160ZM180-400h160v-160H180v160Zm440 0h160v-160H620v160ZM180-180h160v-160H180v160Zm440 0h160v-160H620v160Z\"/>\n",
              "  </svg>\n",
              "    </button>\n",
              "\n",
              "  <style>\n",
              "    .colab-df-container {\n",
              "      display:flex;\n",
              "      gap: 12px;\n",
              "    }\n",
              "\n",
              "    .colab-df-convert {\n",
              "      background-color: #E8F0FE;\n",
              "      border: none;\n",
              "      border-radius: 50%;\n",
              "      cursor: pointer;\n",
              "      display: none;\n",
              "      fill: #1967D2;\n",
              "      height: 32px;\n",
              "      padding: 0 0 0 0;\n",
              "      width: 32px;\n",
              "    }\n",
              "\n",
              "    .colab-df-convert:hover {\n",
              "      background-color: #E2EBFA;\n",
              "      box-shadow: 0px 1px 2px rgba(60, 64, 67, 0.3), 0px 1px 3px 1px rgba(60, 64, 67, 0.15);\n",
              "      fill: #174EA6;\n",
              "    }\n",
              "\n",
              "    .colab-df-buttons div {\n",
              "      margin-bottom: 4px;\n",
              "    }\n",
              "\n",
              "    [theme=dark] .colab-df-convert {\n",
              "      background-color: #3B4455;\n",
              "      fill: #D2E3FC;\n",
              "    }\n",
              "\n",
              "    [theme=dark] .colab-df-convert:hover {\n",
              "      background-color: #434B5C;\n",
              "      box-shadow: 0px 1px 3px 1px rgba(0, 0, 0, 0.15);\n",
              "      filter: drop-shadow(0px 1px 2px rgba(0, 0, 0, 0.3));\n",
              "      fill: #FFFFFF;\n",
              "    }\n",
              "  </style>\n",
              "\n",
              "    <script>\n",
              "      const buttonEl =\n",
              "        document.querySelector('#df-cc7a1928-034d-414c-8d95-a962c6f8b33c button.colab-df-convert');\n",
              "      buttonEl.style.display =\n",
              "        google.colab.kernel.accessAllowed ? 'block' : 'none';\n",
              "\n",
              "      async function convertToInteractive(key) {\n",
              "        const element = document.querySelector('#df-cc7a1928-034d-414c-8d95-a962c6f8b33c');\n",
              "        const dataTable =\n",
              "          await google.colab.kernel.invokeFunction('convertToInteractive',\n",
              "                                                    [key], {});\n",
              "        if (!dataTable) return;\n",
              "\n",
              "        const docLinkHtml = 'Like what you see? Visit the ' +\n",
              "          '<a target=\"_blank\" href=https://colab.research.google.com/notebooks/data_table.ipynb>data table notebook</a>'\n",
              "          + ' to learn more about interactive tables.';\n",
              "        element.innerHTML = '';\n",
              "        dataTable['output_type'] = 'display_data';\n",
              "        await google.colab.output.renderOutput(dataTable, element);\n",
              "        const docLink = document.createElement('div');\n",
              "        docLink.innerHTML = docLinkHtml;\n",
              "        element.appendChild(docLink);\n",
              "      }\n",
              "    </script>\n",
              "  </div>\n",
              "\n",
              "\n",
              "<div id=\"df-89bf019e-686a-45e5-a0b8-8d4c0e461623\">\n",
              "  <button class=\"colab-df-quickchart\" onclick=\"quickchart('df-89bf019e-686a-45e5-a0b8-8d4c0e461623')\"\n",
              "            title=\"Suggest charts\"\n",
              "            style=\"display:none;\">\n",
              "\n",
              "<svg xmlns=\"http://www.w3.org/2000/svg\" height=\"24px\"viewBox=\"0 0 24 24\"\n",
              "     width=\"24px\">\n",
              "    <g>\n",
              "        <path d=\"M19 3H5c-1.1 0-2 .9-2 2v14c0 1.1.9 2 2 2h14c1.1 0 2-.9 2-2V5c0-1.1-.9-2-2-2zM9 17H7v-7h2v7zm4 0h-2V7h2v10zm4 0h-2v-4h2v4z\"/>\n",
              "    </g>\n",
              "</svg>\n",
              "  </button>\n",
              "\n",
              "<style>\n",
              "  .colab-df-quickchart {\n",
              "      --bg-color: #E8F0FE;\n",
              "      --fill-color: #1967D2;\n",
              "      --hover-bg-color: #E2EBFA;\n",
              "      --hover-fill-color: #174EA6;\n",
              "      --disabled-fill-color: #AAA;\n",
              "      --disabled-bg-color: #DDD;\n",
              "  }\n",
              "\n",
              "  [theme=dark] .colab-df-quickchart {\n",
              "      --bg-color: #3B4455;\n",
              "      --fill-color: #D2E3FC;\n",
              "      --hover-bg-color: #434B5C;\n",
              "      --hover-fill-color: #FFFFFF;\n",
              "      --disabled-bg-color: #3B4455;\n",
              "      --disabled-fill-color: #666;\n",
              "  }\n",
              "\n",
              "  .colab-df-quickchart {\n",
              "    background-color: var(--bg-color);\n",
              "    border: none;\n",
              "    border-radius: 50%;\n",
              "    cursor: pointer;\n",
              "    display: none;\n",
              "    fill: var(--fill-color);\n",
              "    height: 32px;\n",
              "    padding: 0;\n",
              "    width: 32px;\n",
              "  }\n",
              "\n",
              "  .colab-df-quickchart:hover {\n",
              "    background-color: var(--hover-bg-color);\n",
              "    box-shadow: 0 1px 2px rgba(60, 64, 67, 0.3), 0 1px 3px 1px rgba(60, 64, 67, 0.15);\n",
              "    fill: var(--button-hover-fill-color);\n",
              "  }\n",
              "\n",
              "  .colab-df-quickchart-complete:disabled,\n",
              "  .colab-df-quickchart-complete:disabled:hover {\n",
              "    background-color: var(--disabled-bg-color);\n",
              "    fill: var(--disabled-fill-color);\n",
              "    box-shadow: none;\n",
              "  }\n",
              "\n",
              "  .colab-df-spinner {\n",
              "    border: 2px solid var(--fill-color);\n",
              "    border-color: transparent;\n",
              "    border-bottom-color: var(--fill-color);\n",
              "    animation:\n",
              "      spin 1s steps(1) infinite;\n",
              "  }\n",
              "\n",
              "  @keyframes spin {\n",
              "    0% {\n",
              "      border-color: transparent;\n",
              "      border-bottom-color: var(--fill-color);\n",
              "      border-left-color: var(--fill-color);\n",
              "    }\n",
              "    20% {\n",
              "      border-color: transparent;\n",
              "      border-left-color: var(--fill-color);\n",
              "      border-top-color: var(--fill-color);\n",
              "    }\n",
              "    30% {\n",
              "      border-color: transparent;\n",
              "      border-left-color: var(--fill-color);\n",
              "      border-top-color: var(--fill-color);\n",
              "      border-right-color: var(--fill-color);\n",
              "    }\n",
              "    40% {\n",
              "      border-color: transparent;\n",
              "      border-right-color: var(--fill-color);\n",
              "      border-top-color: var(--fill-color);\n",
              "    }\n",
              "    60% {\n",
              "      border-color: transparent;\n",
              "      border-right-color: var(--fill-color);\n",
              "    }\n",
              "    80% {\n",
              "      border-color: transparent;\n",
              "      border-right-color: var(--fill-color);\n",
              "      border-bottom-color: var(--fill-color);\n",
              "    }\n",
              "    90% {\n",
              "      border-color: transparent;\n",
              "      border-bottom-color: var(--fill-color);\n",
              "    }\n",
              "  }\n",
              "</style>\n",
              "\n",
              "  <script>\n",
              "    async function quickchart(key) {\n",
              "      const quickchartButtonEl =\n",
              "        document.querySelector('#' + key + ' button');\n",
              "      quickchartButtonEl.disabled = true;  // To prevent multiple clicks.\n",
              "      quickchartButtonEl.classList.add('colab-df-spinner');\n",
              "      try {\n",
              "        const charts = await google.colab.kernel.invokeFunction(\n",
              "            'suggestCharts', [key], {});\n",
              "      } catch (error) {\n",
              "        console.error('Error during call to suggestCharts:', error);\n",
              "      }\n",
              "      quickchartButtonEl.classList.remove('colab-df-spinner');\n",
              "      quickchartButtonEl.classList.add('colab-df-quickchart-complete');\n",
              "    }\n",
              "    (() => {\n",
              "      let quickchartButtonEl =\n",
              "        document.querySelector('#df-89bf019e-686a-45e5-a0b8-8d4c0e461623 button');\n",
              "      quickchartButtonEl.style.display =\n",
              "        google.colab.kernel.accessAllowed ? 'block' : 'none';\n",
              "    })();\n",
              "  </script>\n",
              "</div>\n",
              "    </div>\n",
              "  </div>\n"
            ],
            "text/plain": [
              "     Brand                Model  Year                   Category  Rating  \\\n",
              "0  acabion      da vinci 650-vi  2011  Prototype / concept model     3.2   \n",
              "1  acabion              gtbo 55  2007                      Sport     2.6   \n",
              "2  acabion  gtbo 600 daytona-vi  2011  Prototype / concept model     3.5   \n",
              "\n",
              "   Displacement (ccm)  Power (hp)  Torque (Nm) Engine cylinder Engine stroke  \\\n",
              "0                 NaN       804.0          NaN        Electric      Electric   \n",
              "1              1300.0       541.0        420.0    In-line four   four-stroke   \n",
              "2                 NaN       536.0          NaN        Electric      Electric   \n",
              "\n",
              "   ... Dry weight (kg)  Wheelbase (mm) Seat height (mm)  Front brakes  \\\n",
              "0  ...           420.0             NaN              NaN   Single disc   \n",
              "1  ...           360.0             NaN              NaN           NaN   \n",
              "2  ...           420.0             NaN              NaN   Single disc   \n",
              "\n",
              "   Rear brakes Front tire Rear tire Front suspension  Rear suspension  \\\n",
              "0  Single disc        NaN       NaN              NaN              NaN   \n",
              "1          NaN        NaN       NaN              NaN              NaN   \n",
              "2  Single disc        NaN       NaN              NaN              NaN   \n",
              "\n",
              "   Color options  \n",
              "0            NaN  \n",
              "1            NaN  \n",
              "2            NaN  \n",
              "\n",
              "[3 rows x 28 columns]"
            ]
          },
          "execution_count": 1098,
          "metadata": {},
          "output_type": "execute_result"
        }
      ],
      "source": [
        "data_raw.head(3)"
      ]
    },
    {
      "cell_type": "markdown",
      "metadata": {
        "id": "hBon1GlROLZb"
      },
      "source": [
        "Сразу избавимся от невлияющих на исход признаков, таких как 'Brand', 'Model' и 'Rating'. Они не описывают характеристики мотоцикла. А ведь цель определить тип мотоцикла по его техническим характеристикам."
      ]
    },
    {
      "cell_type": "code",
      "execution_count": 1099,
      "metadata": {
        "id": "YE9adTw5OO3n"
      },
      "outputs": [],
      "source": [
        "irrelevant_columns = ['Brand', 'Model', 'Rating']\n",
        "data_raw = data_raw.drop(columns=irrelevant_columns)"
      ]
    },
    {
      "cell_type": "markdown",
      "metadata": {
        "id": "VjZvr-K2PGN9"
      },
      "source": [
        "Отрисуем график типов мотоциклов, представленных в данном датасете."
      ]
    },
    {
      "cell_type": "code",
      "execution_count": 1100,
      "metadata": {
        "colab": {
          "base_uri": "https://localhost:8080/",
          "height": 578
        },
        "id": "dBjuOW0iHY1c",
        "outputId": "03322825-c64b-4d4a-c447-2e70da27dd6c"
      },
      "outputs": [
        {
          "data": {
            "image/png": "[encoded data removed]",
            "text/plain": [
              "<Figure size 640x480 with 1 Axes>"
            ]
          },
          "metadata": {},
          "output_type": "display_data"
        }
      ],
      "source": [
        "showSchedule(data_raw)\n",
        "pass"
      ]
    },
    {
      "cell_type": "markdown",
      "metadata": {
        "id": "QwjaiQF_LaoI"
      },
      "source": [
        "На графике можно увидеть столбец \"Unspecified category\", он не представляет для нас никакой ценности, а наоборот лишь мешает, поэтому нужно удалить его из датафрейма."
      ]
    },
    {
      "cell_type": "code",
      "execution_count": 1101,
      "metadata": {
        "id": "xIz26ZXIMjJa"
      },
      "outputs": [],
      "source": [
        "unsp_index = data_raw['Category'] == 'Unspecified category'\n",
        "data_raw = data_raw[~unsp_index]"
      ]
    },
    {
      "cell_type": "markdown",
      "metadata": {
        "id": "z1fuuRVyMiL6"
      },
      "source": [
        "Следом мы можем заметить несколько малочисленных представителей классов мотоциклов. Их число не переваливает за 150, и, казалось бы, от них можно избавиться, но сначала попробуем почистить \"бракованные\" строки таблицы.\n",
        "\n",
        "Так получилось, что в данном датасете много пропущенных полей, а значения столбцов могут колебаться до 6000. В общем, любые приемы по работе с NaN полями приведут только к ухудшению обучения модели. Попробуем удалить все строки, в которых есть хоть одно пропущенное значение и посмотрим сколько же останется от каждого представителя Category."
      ]
    },
    {
      "cell_type": "code",
      "execution_count": 1102,
      "metadata": {
        "id": "OhUCXbO_AGNl"
      },
      "outputs": [],
      "source": [
        "conditions = [~data_raw[col].isnull() for col in data_raw.columns]\n",
        "cond = conditions[0]\n",
        "for c in conditions[1:]:\n",
        "    cond = cond & c\n",
        "selected_rows = cond[cond==True]\n",
        "data_raw = data_raw.loc[selected_rows.index,:]"
      ]
    },
    {
      "cell_type": "code",
      "execution_count": 1103,
      "metadata": {
        "colab": {
          "base_uri": "https://localhost:8080/"
        },
        "id": "WYRHr64jVAb6",
        "outputId": "6e14b8a5-3c00-4d4c-d74e-0321293252f5"
      },
      "outputs": [
        {
          "data": {
            "text/plain": [
              "Year                   0\n",
              "Category               0\n",
              "Displacement (ccm)     0\n",
              "Power (hp)             0\n",
              "Torque (Nm)            0\n",
              "Engine cylinder        0\n",
              "Engine stroke          0\n",
              "Gearbox                0\n",
              "Bore (mm)              0\n",
              "Stroke (mm)            0\n",
              "Fuel capacity (lts)    0\n",
              "Fuel system            0\n",
              "Fuel control           0\n",
              "Cooling system         0\n",
              "Transmission type      0\n",
              "Dry weight (kg)        0\n",
              "Wheelbase (mm)         0\n",
              "Seat height (mm)       0\n",
              "Front brakes           0\n",
              "Rear brakes            0\n",
              "Front tire             0\n",
              "Rear tire              0\n",
              "Front suspension       0\n",
              "Rear suspension        0\n",
              "Color options          0\n",
              "dtype: int64"
            ]
          },
          "execution_count": 1103,
          "metadata": {},
          "output_type": "execute_result"
        }
      ],
      "source": [
        "data_raw.isnull().sum()"
      ]
    },
    {
      "cell_type": "markdown",
      "metadata": {
        "id": "f9OuIn11RPfw"
      },
      "source": [
        "Снова построим график, можем видеть, что численность представителей каждого из классов уменьшилась пропорционально."
      ]
    },
    {
      "cell_type": "code",
      "execution_count": 1104,
      "metadata": {
        "colab": {
          "base_uri": "https://localhost:8080/",
          "height": 578
        },
        "id": "DgYTvYjRQxrJ",
        "outputId": "13744fed-f3e1-44bf-ede7-8d93303d795e"
      },
      "outputs": [
        {
          "data": {
            "image/png": "[encoded data removed]",
            "text/plain": [
              "<Figure size 640x480 with 1 Axes>"
            ]
          },
          "metadata": {},
          "output_type": "display_data"
        }
      ],
      "source": [
        "showSchedule(data_raw, 'Category', \"после очистки от пустых рядов\")\n",
        "pass"
      ]
    },
    {
      "cell_type": "markdown",
      "metadata": {
        "id": "XQwxj9uoTGrQ"
      },
      "source": [
        "Выбросим все строки, категория которых представлена в количестве меньше 100:"
      ]
    },
    {
      "cell_type": "code",
      "execution_count": 1105,
      "metadata": {
        "id": "3yAvOFjZ5x1P"
      },
      "outputs": [],
      "source": [
        "count_threshold = 100\n",
        "counted = data_raw.groupby('Category').count()\n",
        "cat_to_drop = counted[counted.max(axis=1) < count_threshold].index.tolist()\n",
        "index_to_drop = []\n",
        "for cat in cat_to_drop:\n",
        "    index_to_drop += data_raw[data_raw['Category'] == cat].index.tolist()\n",
        "data_raw = data_raw.drop(index=index_to_drop)"
      ]
    },
    {
      "cell_type": "markdown",
      "metadata": {
        "id": "DBeX-G3MTTaK"
      },
      "source": [
        "Набор данных должен быть сбалансированным. Перепредставленные категории подвергаются случайному уменьшению выборки. Выбранный критерий заключается в том, что ни в одной категории не будет более чем в два раза больше примеров, чем в наименее часто встречающейся категории."
      ]
    },
    {
      "cell_type": "code",
      "execution_count": 1106,
      "metadata": {
        "id": "_Esh4E4XTRsK"
      },
      "outputs": [],
      "source": [
        "lowest_count = data_raw.groupby('Category').count().max(axis=1).min()\n",
        "n_random_rows = lowest_count * 2\n",
        "row_blocks = []\n",
        "for cat in data_raw.groupby('Category').count().index:\n",
        "    row_blocks.append(randomRaws(data_raw[data_raw['Category']==cat], n_random_rows))\n",
        "data_raw = pd.concat(row_blocks)\n",
        "data_raw.sort_index(inplace=True)"
      ]
    },
    {
      "cell_type": "markdown",
      "metadata": {
        "id": "nP5Dxj1DShuW"
      },
      "source": [
        "Еще раз взглянем на график."
      ]
    },
    {
      "cell_type": "code",
      "execution_count": 1107,
      "metadata": {
        "colab": {
          "base_uri": "https://localhost:8080/",
          "height": 529
        },
        "id": "y0RsEVWGS-To",
        "outputId": "fd98b850-3018-4a80-d70a-7f03b5f3ce90"
      },
      "outputs": [
        {
          "data": {
            "image/png": "[encoded data removed]",
            "text/plain": [
              "<Figure size 640x480 with 1 Axes>"
            ]
          },
          "metadata": {},
          "output_type": "display_data"
        }
      ],
      "source": [
        "showSchedule(data_raw, 'Category', \"после балансировки\")\n",
        "pass"
      ]
    },
    {
      "cell_type": "markdown",
      "metadata": {
        "id": "rl6fncprWMto"
      },
      "source": [
        "# Описание"
      ]
    },
    {
      "cell_type": "markdown",
      "metadata": {
        "id": "U2-21G06WXGz"
      },
      "source": [
        "Можно взглянуть на мат. описание для каждого признака. Можно сделать несколько выводов. Например, средний год оказался именно 2014. Мотоциклы, что были произведены до этого года, лежат на свалках или аккуратно эксплуатируются стариками в душе. Мотоциклы, произведенные после, еще недостаточно изношены, чтобы стать дешевыми, поэтому продаж меньше. Конечно это не про все мотоциклы, но тенденция такова."
      ]
    },
    {
      "cell_type": "code",
      "execution_count": 1108,
      "metadata": {
        "colab": {
          "base_uri": "https://localhost:8080/",
          "height": 300
        },
        "id": "qNsdekJu1vNW",
        "outputId": "38f8803d-a76d-4c30-df1f-de1fa3108cb2"
      },
      "outputs": [
        {
          "data": {
            "text/html": [
              "\n",
              "  <div id=\"df-1823c331-2a86-44cd-aa07-06a1afca73d5\" class=\"colab-df-container\">\n",
              "    <div>\n",
              "<style scoped>\n",
              "    .dataframe tbody tr th:only-of-type {\n",
              "        vertical-align: middle;\n",
              "    }\n",
              "\n",
              "    .dataframe tbody tr th {\n",
              "        vertical-align: top;\n",
              "    }\n",
              "\n",
              "    .dataframe thead th {\n",
              "        text-align: right;\n",
              "    }\n",
              "</style>\n",
              "<table border=\"1\" class=\"dataframe\">\n",
              "  <thead>\n",
              "    <tr style=\"text-align: right;\">\n",
              "      <th></th>\n",
              "      <th>Year</th>\n",
              "      <th>Displacement (ccm)</th>\n",
              "      <th>Power (hp)</th>\n",
              "      <th>Torque (Nm)</th>\n",
              "      <th>Bore (mm)</th>\n",
              "      <th>Fuel capacity (lts)</th>\n",
              "      <th>Dry weight (kg)</th>\n",
              "      <th>Wheelbase (mm)</th>\n",
              "      <th>Seat height (mm)</th>\n",
              "    </tr>\n",
              "  </thead>\n",
              "  <tbody>\n",
              "    <tr>\n",
              "      <th>count</th>\n",
              "      <td>1844.000000</td>\n",
              "      <td>1844.000000</td>\n",
              "      <td>1844.000000</td>\n",
              "      <td>1844.000000</td>\n",
              "      <td>1844.000000</td>\n",
              "      <td>1844.000000</td>\n",
              "      <td>1844.000000</td>\n",
              "      <td>1844.000000</td>\n",
              "      <td>1844.000000</td>\n",
              "    </tr>\n",
              "    <tr>\n",
              "      <th>mean</th>\n",
              "      <td>2014.959328</td>\n",
              "      <td>870.583243</td>\n",
              "      <td>82.876952</td>\n",
              "      <td>81.894631</td>\n",
              "      <td>82.505965</td>\n",
              "      <td>16.303742</td>\n",
              "      <td>205.708568</td>\n",
              "      <td>1487.196855</td>\n",
              "      <td>793.387744</td>\n",
              "    </tr>\n",
              "    <tr>\n",
              "      <th>std</th>\n",
              "      <td>6.000540</td>\n",
              "      <td>518.545386</td>\n",
              "      <td>50.939320</td>\n",
              "      <td>48.768663</td>\n",
              "      <td>17.395871</td>\n",
              "      <td>5.420216</td>\n",
              "      <td>71.288494</td>\n",
              "      <td>120.167968</td>\n",
              "      <td>167.704841</td>\n",
              "    </tr>\n",
              "    <tr>\n",
              "      <th>min</th>\n",
              "      <td>1968.000000</td>\n",
              "      <td>49.000000</td>\n",
              "      <td>1.900000</td>\n",
              "      <td>3.000000</td>\n",
              "      <td>37.000000</td>\n",
              "      <td>3.200000</td>\n",
              "      <td>52.000000</td>\n",
              "      <td>1130.000000</td>\n",
              "      <td>508.000000</td>\n",
              "    </tr>\n",
              "    <tr>\n",
              "      <th>25%</th>\n",
              "      <td>2012.000000</td>\n",
              "      <td>449.500000</td>\n",
              "      <td>43.875000</td>\n",
              "      <td>42.800000</td>\n",
              "      <td>72.000000</td>\n",
              "      <td>13.500000</td>\n",
              "      <td>167.950000</td>\n",
              "      <td>1420.000000</td>\n",
              "      <td>760.000000</td>\n",
              "    </tr>\n",
              "    <tr>\n",
              "      <th>50%</th>\n",
              "      <td>2016.000000</td>\n",
              "      <td>865.000000</td>\n",
              "      <td>86.000000</td>\n",
              "      <td>86.000000</td>\n",
              "      <td>83.500000</td>\n",
              "      <td>16.675000</td>\n",
              "      <td>192.500000</td>\n",
              "      <td>1490.000000</td>\n",
              "      <td>800.000000</td>\n",
              "    </tr>\n",
              "    <tr>\n",
              "      <th>75%</th>\n",
              "      <td>2019.000000</td>\n",
              "      <td>1198.400000</td>\n",
              "      <td>113.000000</td>\n",
              "      <td>118.000000</td>\n",
              "      <td>98.000000</td>\n",
              "      <td>20.000000</td>\n",
              "      <td>230.000000</td>\n",
              "      <td>1560.000000</td>\n",
              "      <td>830.000000</td>\n",
              "    </tr>\n",
              "    <tr>\n",
              "      <th>max</th>\n",
              "      <td>2022.000000</td>\n",
              "      <td>2458.000000</td>\n",
              "      <td>228.000000</td>\n",
              "      <td>221.000000</td>\n",
              "      <td>116.000000</td>\n",
              "      <td>33.000000</td>\n",
              "      <td>545.700000</td>\n",
              "      <td>2010.000000</td>\n",
              "      <td>7501.000000</td>\n",
              "    </tr>\n",
              "  </tbody>\n",
              "</table>\n",
              "</div>\n",
              "    <div class=\"colab-df-buttons\">\n",
              "\n",
              "  <div class=\"colab-df-container\">\n",
              "    <button class=\"colab-df-convert\" onclick=\"convertToInteractive('df-1823c331-2a86-44cd-aa07-06a1afca73d5')\"\n",
              "            title=\"Convert this dataframe to an interactive table.\"\n",
              "            style=\"display:none;\">\n",
              "\n",
              "  <svg xmlns=\"http://www.w3.org/2000/svg\" height=\"24px\" viewBox=\"0 -960 960 960\">\n",
              "    <path d=\"M120-120v-720h720v720H120Zm60-500h600v-160H180v160Zm220 220h160v-160H400v160Zm0 220h160v-160H400v160ZM180-400h160v-160H180v160Zm440 0h160v-160H620v160ZM180-180h160v-160H180v160Zm440 0h160v-160H620v160Z\"/>\n",
              "  </svg>\n",
              "    </button>\n",
              "\n",
              "  <style>\n",
              "    .colab-df-container {\n",
              "      display:flex;\n",
              "      gap: 12px;\n",
              "    }\n",
              "\n",
              "    .colab-df-convert {\n",
              "      background-color: #E8F0FE;\n",
              "      border: none;\n",
              "      border-radius: 50%;\n",
              "      cursor: pointer;\n",
              "      display: none;\n",
              "      fill: #1967D2;\n",
              "      height: 32px;\n",
              "      padding: 0 0 0 0;\n",
              "      width: 32px;\n",
              "    }\n",
              "\n",
              "    .colab-df-convert:hover {\n",
              "      background-color: #E2EBFA;\n",
              "      box-shadow: 0px 1px 2px rgba(60, 64, 67, 0.3), 0px 1px 3px 1px rgba(60, 64, 67, 0.15);\n",
              "      fill: #174EA6;\n",
              "    }\n",
              "\n",
              "    .colab-df-buttons div {\n",
              "      margin-bottom: 4px;\n",
              "    }\n",
              "\n",
              "    [theme=dark] .colab-df-convert {\n",
              "      background-color: #3B4455;\n",
              "      fill: #D2E3FC;\n",
              "    }\n",
              "\n",
              "    [theme=dark] .colab-df-convert:hover {\n",
              "      background-color: #434B5C;\n",
              "      box-shadow: 0px 1px 3px 1px rgba(0, 0, 0, 0.15);\n",
              "      filter: drop-shadow(0px 1px 2px rgba(0, 0, 0, 0.3));\n",
              "      fill: #FFFFFF;\n",
              "    }\n",
              "  </style>\n",
              "\n",
              "    <script>\n",
              "      const buttonEl =\n",
              "        document.querySelector('#df-1823c331-2a86-44cd-aa07-06a1afca73d5 button.colab-df-convert');\n",
              "      buttonEl.style.display =\n",
              "        google.colab.kernel.accessAllowed ? 'block' : 'none';\n",
              "\n",
              "      async function convertToInteractive(key) {\n",
              "        const element = document.querySelector('#df-1823c331-2a86-44cd-aa07-06a1afca73d5');\n",
              "        const dataTable =\n",
              "          await google.colab.kernel.invokeFunction('convertToInteractive',\n",
              "                                                    [key], {});\n",
              "        if (!dataTable) return;\n",
              "\n",
              "        const docLinkHtml = 'Like what you see? Visit the ' +\n",
              "          '<a target=\"_blank\" href=https://colab.research.google.com/notebooks/data_table.ipynb>data table notebook</a>'\n",
              "          + ' to learn more about interactive tables.';\n",
              "        element.innerHTML = '';\n",
              "        dataTable['output_type'] = 'display_data';\n",
              "        await google.colab.output.renderOutput(dataTable, element);\n",
              "        const docLink = document.createElement('div');\n",
              "        docLink.innerHTML = docLinkHtml;\n",
              "        element.appendChild(docLink);\n",
              "      }\n",
              "    </script>\n",
              "  </div>\n",
              "\n",
              "\n",
              "<div id=\"df-88a0abf4-90b5-42f2-81cc-42c83b8782d1\">\n",
              "  <button class=\"colab-df-quickchart\" onclick=\"quickchart('df-88a0abf4-90b5-42f2-81cc-42c83b8782d1')\"\n",
              "            title=\"Suggest charts\"\n",
              "            style=\"display:none;\">\n",
              "\n",
              "<svg xmlns=\"http://www.w3.org/2000/svg\" height=\"24px\"viewBox=\"0 0 24 24\"\n",
              "     width=\"24px\">\n",
              "    <g>\n",
              "        <path d=\"M19 3H5c-1.1 0-2 .9-2 2v14c0 1.1.9 2 2 2h14c1.1 0 2-.9 2-2V5c0-1.1-.9-2-2-2zM9 17H7v-7h2v7zm4 0h-2V7h2v10zm4 0h-2v-4h2v4z\"/>\n",
              "    </g>\n",
              "</svg>\n",
              "  </button>\n",
              "\n",
              "<style>\n",
              "  .colab-df-quickchart {\n",
              "      --bg-color: #E8F0FE;\n",
              "      --fill-color: #1967D2;\n",
              "      --hover-bg-color: #E2EBFA;\n",
              "      --hover-fill-color: #174EA6;\n",
              "      --disabled-fill-color: #AAA;\n",
              "      --disabled-bg-color: #DDD;\n",
              "  }\n",
              "\n",
              "  [theme=dark] .colab-df-quickchart {\n",
              "      --bg-color: #3B4455;\n",
              "      --fill-color: #D2E3FC;\n",
              "      --hover-bg-color: #434B5C;\n",
              "      --hover-fill-color: #FFFFFF;\n",
              "      --disabled-bg-color: #3B4455;\n",
              "      --disabled-fill-color: #666;\n",
              "  }\n",
              "\n",
              "  .colab-df-quickchart {\n",
              "    background-color: var(--bg-color);\n",
              "    border: none;\n",
              "    border-radius: 50%;\n",
              "    cursor: pointer;\n",
              "    display: none;\n",
              "    fill: var(--fill-color);\n",
              "    height: 32px;\n",
              "    padding: 0;\n",
              "    width: 32px;\n",
              "  }\n",
              "\n",
              "  .colab-df-quickchart:hover {\n",
              "    background-color: var(--hover-bg-color);\n",
              "    box-shadow: 0 1px 2px rgba(60, 64, 67, 0.3), 0 1px 3px 1px rgba(60, 64, 67, 0.15);\n",
              "    fill: var(--button-hover-fill-color);\n",
              "  }\n",
              "\n",
              "  .colab-df-quickchart-complete:disabled,\n",
              "  .colab-df-quickchart-complete:disabled:hover {\n",
              "    background-color: var(--disabled-bg-color);\n",
              "    fill: var(--disabled-fill-color);\n",
              "    box-shadow: none;\n",
              "  }\n",
              "\n",
              "  .colab-df-spinner {\n",
              "    border: 2px solid var(--fill-color);\n",
              "    border-color: transparent;\n",
              "    border-bottom-color: var(--fill-color);\n",
              "    animation:\n",
              "      spin 1s steps(1) infinite;\n",
              "  }\n",
              "\n",
              "  @keyframes spin {\n",
              "    0% {\n",
              "      border-color: transparent;\n",
              "      border-bottom-color: var(--fill-color);\n",
              "      border-left-color: var(--fill-color);\n",
              "    }\n",
              "    20% {\n",
              "      border-color: transparent;\n",
              "      border-left-color: var(--fill-color);\n",
              "      border-top-color: var(--fill-color);\n",
              "    }\n",
              "    30% {\n",
              "      border-color: transparent;\n",
              "      border-left-color: var(--fill-color);\n",
              "      border-top-color: var(--fill-color);\n",
              "      border-right-color: var(--fill-color);\n",
              "    }\n",
              "    40% {\n",
              "      border-color: transparent;\n",
              "      border-right-color: var(--fill-color);\n",
              "      border-top-color: var(--fill-color);\n",
              "    }\n",
              "    60% {\n",
              "      border-color: transparent;\n",
              "      border-right-color: var(--fill-color);\n",
              "    }\n",
              "    80% {\n",
              "      border-color: transparent;\n",
              "      border-right-color: var(--fill-color);\n",
              "      border-bottom-color: var(--fill-color);\n",
              "    }\n",
              "    90% {\n",
              "      border-color: transparent;\n",
              "      border-bottom-color: var(--fill-color);\n",
              "    }\n",
              "  }\n",
              "</style>\n",
              "\n",
              "  <script>\n",
              "    async function quickchart(key) {\n",
              "      const quickchartButtonEl =\n",
              "        document.querySelector('#' + key + ' button');\n",
              "      quickchartButtonEl.disabled = true;  // To prevent multiple clicks.\n",
              "      quickchartButtonEl.classList.add('colab-df-spinner');\n",
              "      try {\n",
              "        const charts = await google.colab.kernel.invokeFunction(\n",
              "            'suggestCharts', [key], {});\n",
              "      } catch (error) {\n",
              "        console.error('Error during call to suggestCharts:', error);\n",
              "      }\n",
              "      quickchartButtonEl.classList.remove('colab-df-spinner');\n",
              "      quickchartButtonEl.classList.add('colab-df-quickchart-complete');\n",
              "    }\n",
              "    (() => {\n",
              "      let quickchartButtonEl =\n",
              "        document.querySelector('#df-88a0abf4-90b5-42f2-81cc-42c83b8782d1 button');\n",
              "      quickchartButtonEl.style.display =\n",
              "        google.colab.kernel.accessAllowed ? 'block' : 'none';\n",
              "    })();\n",
              "  </script>\n",
              "</div>\n",
              "    </div>\n",
              "  </div>\n"
            ],
            "text/plain": [
              "              Year  Displacement (ccm)   Power (hp)  Torque (Nm)    Bore (mm)  \\\n",
              "count  1844.000000         1844.000000  1844.000000  1844.000000  1844.000000   \n",
              "mean   2014.959328          870.583243    82.876952    81.894631    82.505965   \n",
              "std       6.000540          518.545386    50.939320    48.768663    17.395871   \n",
              "min    1968.000000           49.000000     1.900000     3.000000    37.000000   \n",
              "25%    2012.000000          449.500000    43.875000    42.800000    72.000000   \n",
              "50%    2016.000000          865.000000    86.000000    86.000000    83.500000   \n",
              "75%    2019.000000         1198.400000   113.000000   118.000000    98.000000   \n",
              "max    2022.000000         2458.000000   228.000000   221.000000   116.000000   \n",
              "\n",
              "       Fuel capacity (lts)  Dry weight (kg)  Wheelbase (mm)  Seat height (mm)  \n",
              "count          1844.000000      1844.000000     1844.000000       1844.000000  \n",
              "mean             16.303742       205.708568     1487.196855        793.387744  \n",
              "std               5.420216        71.288494      120.167968        167.704841  \n",
              "min               3.200000        52.000000     1130.000000        508.000000  \n",
              "25%              13.500000       167.950000     1420.000000        760.000000  \n",
              "50%              16.675000       192.500000     1490.000000        800.000000  \n",
              "75%              20.000000       230.000000     1560.000000        830.000000  \n",
              "max              33.000000       545.700000     2010.000000       7501.000000  "
            ]
          },
          "execution_count": 1108,
          "metadata": {},
          "output_type": "execute_result"
        }
      ],
      "source": [
        "data_raw.describe()"
      ]
    },
    {
      "cell_type": "markdown",
      "metadata": {
        "id": "toywRRZL-tMA"
      },
      "source": [
        "Как мы видим из графика корреляции, многие из признаков сильно коррелируют с остальными. Год и высота сиденья, похоже, являются единственными показателями, не связанными ни с одним из остальных. С другой стороны, объем двигателя, крутящий момент и сухой вес тесно связаны с большинством других характеристик, а это означает, что они не добавляют много информации."
      ]
    },
    {
      "cell_type": "code",
      "execution_count": 1109,
      "metadata": {
        "colab": {
          "base_uri": "https://localhost:8080/",
          "height": 633
        },
        "id": "2wm1nIWE4qGX",
        "outputId": "a225277c-384d-4cfb-a9f8-0c621ee89587"
      },
      "outputs": [
        {
          "name": "stderr",
          "output_type": "stream",
          "text": [
            "<ipython-input-1109-602d09746e76>:1: FutureWarning: The default value of numeric_only in DataFrame.corr is deprecated. In a future version, it will default to False. Select only valid columns or specify the value of numeric_only to silence this warning.\n",
            "  corr_mat = data_raw.corr()\n"
          ]
        },
        {
          "data": {
            "image/png": "[encoded data removed]",
            "text/plain": [
              "<Figure size 1200x500 with 2 Axes>"
            ]
          },
          "metadata": {},
          "output_type": "display_data"
        }
      ],
      "source": [
        "corr_mat = data_raw.corr()\n",
        "plt.subplots(figsize=(12, 5))\n",
        "sns.heatmap(corr_mat, square=True, annot=True, fmt='.2f', vmin=-1, vmax=1, cmap='YlGn')\n",
        "pass"
      ]
    },
    {
      "cell_type": "markdown",
      "metadata": {
        "id": "kE8OLvFNlJOz"
      },
      "source": [
        "Посмотрим на корреляцию признака Category относительно других (количественных) признаков."
      ]
    },
    {
      "cell_type": "code",
      "execution_count": 1110,
      "metadata": {
        "colab": {
          "base_uri": "https://localhost:8080/",
          "height": 650
        },
        "id": "z1BLo0CA0x2s",
        "outputId": "14c46a26-8816-4576-af2e-41744f1ad954"
      },
      "outputs": [
        {
          "name": "stderr",
          "output_type": "stream",
          "text": [
            "<ipython-input-1110-9b086a639136>:7: FutureWarning: The default value of numeric_only in DataFrame.corrwith is deprecated. In a future version, it will default to False. Select only valid columns or specify the value of numeric_only to silence this warning.\n",
            "  data_encoded.drop('Category_encoded', axis=1).corrwith(data_encoded['Category_encoded']).plot(kind='bar',\n"
          ]
        },
        {
          "data": {
            "image/png": "[encoded data removed]",
            "text/plain": [
              "<Figure size 1200x500 with 1 Axes>"
            ]
          },
          "metadata": {},
          "output_type": "display_data"
        }
      ],
      "source": [
        "from sklearn.preprocessing import LabelEncoder\n",
        "\n",
        "data_encoded = data_raw.copy()\n",
        "le = LabelEncoder()\n",
        "data_encoded['Category_encoded'] = le.fit_transform(data_encoded['Category'])\n",
        "\n",
        "data_encoded.drop('Category_encoded', axis=1).corrwith(data_encoded['Category_encoded']).plot(kind='bar',\n",
        "                                                                 grid=True,\n",
        "                                                                 figsize=(12, 5),\n",
        "                                                                 title=\"Корреляция по отношению к Category\",\n",
        "                                                                 color=\"lightgreen\");\n",
        "pass"
      ]
    },
    {
      "cell_type": "markdown",
      "metadata": {
        "id": "PxyI_O2gnUa9"
      },
      "source": [
        "Интересная картина, получается, что категория мотоцикла очень мало зависит от таких параметров как посадка и диаметр цилиндров в двигателе. Можно было бы убрать их из рассмотрения, но сначала посмотрим как отработает метод главных компонент (позже)."
      ]
    },
    {
      "cell_type": "markdown",
      "metadata": {
        "id": "M9Ga-7kFSBeR"
      },
      "source": [
        "# Типизация\n"
      ]
    },
    {
      "cell_type": "markdown",
      "metadata": {
        "id": "RwoKSmiTCi02"
      },
      "source": [
        "Заведем список имён столбцов относящихся к категориальному признаку:"
      ]
    },
    {
      "cell_type": "code",
      "execution_count": 1111,
      "metadata": {
        "id": "vyWPLvqZCqcm"
      },
      "outputs": [],
      "source": [
        "categories = [\"Category\", \"Engine cylinder\", \"Engine stroke\", \"Gearbox\",\n",
        "              \"Transmission type\", \"Front brakes\", \"Rear brakes\",\n",
        "              \"Front suspension\", \"Rear suspension\", \"Fuel system\",\n",
        "              \"Fuel control\", \"Cooling system\", \"Front tire\", \"Rear tire\", \"Color options\"]"
      ]
    },
    {
      "cell_type": "markdown",
      "metadata": {
        "id": "j_rRR5PSBvC3"
      },
      "source": [
        "Выведем типы категориальных признаков, видим, что все из них принадлежат типу 'object'."
      ]
    },
    {
      "cell_type": "code",
      "execution_count": 1112,
      "metadata": {
        "colab": {
          "base_uri": "https://localhost:8080/"
        },
        "id": "8bLPEvho_RwN",
        "outputId": "9eddf768-6f9f-4e38-b9a6-b60a8dd23d68"
      },
      "outputs": [
        {
          "name": "stdout",
          "output_type": "stream",
          "text": [
            "object -> 15\n"
          ]
        }
      ],
      "source": [
        "showTypes(categories)"
      ]
    },
    {
      "cell_type": "markdown",
      "metadata": {
        "id": "TyBUVI3FCXfO"
      },
      "source": [
        "Приведем категориальные столбцы к типу 'category'."
      ]
    },
    {
      "cell_type": "code",
      "execution_count": 1113,
      "metadata": {
        "id": "0dthk3AvxTHw"
      },
      "outputs": [],
      "source": [
        "data = data_raw.copy()"
      ]
    },
    {
      "cell_type": "code",
      "execution_count": 1114,
      "metadata": {
        "id": "RWW0pWHOCW1L"
      },
      "outputs": [],
      "source": [
        "for category in categories:\n",
        "  if data[category].dtype.name != 'category':\n",
        "    data[category] = data[category].astype('category')"
      ]
    },
    {
      "cell_type": "markdown",
      "metadata": {
        "id": "qEZvu7jRgqAa"
      },
      "source": [
        "Посмотрим на оставшиеся признаки. Год является целочисленным признаком, остальные вещественными."
      ]
    },
    {
      "cell_type": "code",
      "execution_count": 1115,
      "metadata": {
        "colab": {
          "base_uri": "https://localhost:8080/"
        },
        "id": "pA8WedatYttI",
        "outputId": "3dce0191-3fa3-4b17-ef7d-ff3b36496ae1"
      },
      "outputs": [
        {
          "name": "stdout",
          "output_type": "stream",
          "text": [
            "int64 -> 1\n",
            "object -> 16\n",
            "float64 -> 8\n"
          ]
        }
      ],
      "source": [
        "showTypes(data_raw)"
      ]
    },
    {
      "cell_type": "markdown",
      "metadata": {
        "id": "IUifMyXQg_5j"
      },
      "source": [
        "Приведем количественные признаки к *numpy.Type* для определенности и фиксации размера."
      ]
    },
    {
      "cell_type": "code",
      "execution_count": 1116,
      "metadata": {
        "id": "P-FpCCZlY5gC"
      },
      "outputs": [],
      "source": [
        "type_int = ['Year']\n",
        "type_float = list(set(data.columns) - set(categories) - set(type_int))\n",
        "data_types = {k:np.float64 for k in type_float}\n",
        "data_types['Year'] = np.int32\n",
        "\n",
        "data = data.astype(data_types)\n",
        "\n",
        "# type_float = ['Displacement (ccm)', 'Power (hp)', 'Torque (Nm)',\n",
        "#               'Bore (mm)', 'Stroke (mm)', 'Fuel capacity (lts)',\n",
        "#               'Dry weight (kg)', 'Wheelbase (mm)', 'Seat height (mm)']"
      ]
    },
    {
      "cell_type": "markdown",
      "metadata": {
        "id": "bsgpuJzsp5J3"
      },
      "source": [
        "# Обработка признаков"
      ]
    },
    {
      "cell_type": "markdown",
      "metadata": {
        "id": "lIsv_ID-p89y"
      },
      "source": [
        "Большинство из наших категориальных столбцов имеют большое разнообразие вариантов. Это обусловлено различными комбинациями с использованием ключевых слов. Например для *Color options* -> *red, blue, yellow*."
      ]
    },
    {
      "cell_type": "code",
      "execution_count": 1117,
      "metadata": {
        "id": "VgWasJBesGPQ"
      },
      "outputs": [],
      "source": [
        "categories = [\"Category\", \"Engine cylinder\", \"Engine stroke\", \"Gearbox\",\n",
        "              \"Transmission type\", \"Front brakes\", \"Rear brakes\",\n",
        "              \"Front suspension\", \"Rear suspension\", \"Fuel system\",\n",
        "              \"Fuel control\", \"Cooling system\", \"Front tire\", \"Rear tire\", \"Color options\"]"
      ]
    },
    {
      "cell_type": "markdown",
      "metadata": {
        "id": "AAkn_7OKsIsr"
      },
      "source": [
        "## Engine cylinder"
      ]
    },
    {
      "cell_type": "code",
      "execution_count": 1118,
      "metadata": {
        "colab": {
          "base_uri": "https://localhost:8080/"
        },
        "id": "xhZk-eMFsMjD",
        "outputId": "0766fcfe-3317-48e2-97f9-118b32d4b282"
      },
      "outputs": [
        {
          "name": "stdout",
          "output_type": "stream",
          "text": [
            "Разнообразие признака Engine cylinder: 11 вариантов\n"
          ]
        }
      ],
      "source": [
        "column = 'Engine cylinder'\n",
        "showDiversity(data, column)"
      ]
    },
    {
      "cell_type": "code",
      "execution_count": 1119,
      "metadata": {
        "colab": {
          "base_uri": "https://localhost:8080/"
        },
        "id": "nm2g7ZaK5oUW",
        "outputId": "da67cb3a-1a54-4bc0-f006-eadee6d17eec"
      },
      "outputs": [
        {
          "data": {
            "text/plain": [
              "V2                     679\n",
              "Single cylinder        461\n",
              "Twin                   259\n",
              "In-line three          215\n",
              "In-line four           120\n",
              "V4                      38\n",
              "Two cylinder boxer      36\n",
              "In-line six             28\n",
              "Six cylinder boxer       4\n",
              "Diesel                   3\n",
              "Four cylinder boxer      1\n",
              "Name: Engine cylinder, dtype: int64"
            ]
          },
          "execution_count": 1119,
          "metadata": {},
          "output_type": "execute_result"
        }
      ],
      "source": [
        "data['Engine cylinder'].value_counts()"
      ]
    },
    {
      "cell_type": "code",
      "execution_count": 1120,
      "metadata": {
        "colab": {
          "base_uri": "https://localhost:8080/",
          "height": 520
        },
        "id": "ulni4_1u8NHq",
        "outputId": "bef57f99-39dc-4c6b-a774-12e2cd36a5eb"
      },
      "outputs": [
        {
          "data": {
            "image/png": "[encoded data removed]",
            "text/plain": [
              "<Figure size 640x480 with 1 Axes>"
            ]
          },
          "metadata": {},
          "output_type": "display_data"
        }
      ],
      "source": [
        "data[column].value_counts()\n",
        "counts = data.groupby(column).count()\n",
        "series_count = pd.Series(counts.iloc[:,0], index=counts.index)\n",
        "bar_plot_series(series_count)\n",
        "pass"
      ]
    },
    {
      "cell_type": "markdown",
      "metadata": {
        "id": "cYah_tDp8a5c"
      },
      "source": [
        "Названия разные, но суть одна. Twin и V2 имеют по 2 цилинда. Переклассифицируем этот признак на буквально количество цилиндров в двигателе."
      ]
    },
    {
      "cell_type": "code",
      "execution_count": 1121,
      "metadata": {
        "id": "-YRhTR_x6WtT"
      },
      "outputs": [],
      "source": [
        "column = 'Engine cylinder amount'\n",
        "data['Engine cylinder amount'] = data.loc[:,'Engine cylinder'].apply(n_cylinders)"
      ]
    },
    {
      "cell_type": "markdown",
      "metadata": {
        "id": "i3JUPS_mA9FW"
      },
      "source": [
        "Посмотрим, что получилось."
      ]
    },
    {
      "cell_type": "code",
      "execution_count": 1122,
      "metadata": {
        "colab": {
          "base_uri": "https://localhost:8080/",
          "height": 441
        },
        "id": "nNctogAHAgQ-",
        "outputId": "1a57da00-a796-4603-c310-ecf9913dee23"
      },
      "outputs": [
        {
          "data": {
            "image/png": "[encoded data removed]",
            "text/plain": [
              "<Figure size 640x480 with 1 Axes>"
            ]
          },
          "metadata": {},
          "output_type": "display_data"
        }
      ],
      "source": [
        "data[column].value_counts()\n",
        "counts = data.groupby(column).count()\n",
        "series_count = pd.Series(counts.iloc[:,0], index=counts.index)\n",
        "bar_plot_series(series_count)\n",
        "pass"
      ]
    },
    {
      "cell_type": "markdown",
      "metadata": {
        "id": "9deD_cqw0CW8"
      },
      "source": [
        "## Engine stroke"
      ]
    },
    {
      "cell_type": "code",
      "execution_count": 1123,
      "metadata": {
        "colab": {
          "base_uri": "https://localhost:8080/"
        },
        "id": "uqpA8erSETPL",
        "outputId": "b08fe2f6-3129-49ee-8808-d3d407d4ef3c"
      },
      "outputs": [
        {
          "data": {
            "text/plain": [
              " four-stroke    1811\n",
              " two-stroke       30\n",
              "Diesel             3\n",
              "Name: Engine stroke, dtype: int64"
            ]
          },
          "execution_count": 1123,
          "metadata": {},
          "output_type": "execute_result"
        }
      ],
      "source": [
        "column = 'Engine stroke'\n",
        "data[column].value_counts()"
      ]
    },
    {
      "cell_type": "markdown",
      "metadata": {
        "id": "1ktzAbg30ZMh"
      },
      "source": [
        "Получилось так, что *four-strike* занимает абсолютную часть вариантов. Бинаризируем столбец: 1 - 4-ех тактный двигатель, 0 - 2-ух тактный двигатель."
      ]
    },
    {
      "cell_type": "code",
      "execution_count": 1124,
      "metadata": {
        "colab": {
          "base_uri": "https://localhost:8080/"
        },
        "id": "pWGMv6jWIaQ_",
        "outputId": "96c88793-2209-4fc8-b137-ca2290ad2fd8"
      },
      "outputs": [
        {
          "data": {
            "text/plain": [
              "1    1811\n",
              "0      33\n",
              "Name: Engine stroke, dtype: int64"
            ]
          },
          "execution_count": 1124,
          "metadata": {},
          "output_type": "execute_result"
        }
      ],
      "source": [
        "lb = LabelBinarizer()\n",
        "data['Engine stroke'] = lb.fit_transform(data['Engine stroke'])\n",
        "data[column].value_counts()"
      ]
    },
    {
      "cell_type": "markdown",
      "metadata": {
        "id": "VmTkk7ST01XJ"
      },
      "source": [
        "## Fuel system"
      ]
    },
    {
      "cell_type": "code",
      "execution_count": 1125,
      "metadata": {
        "colab": {
          "base_uri": "https://localhost:8080/"
        },
        "id": "YJ8UZATK1wxc",
        "outputId": "e33a0a88-b181-4903-df72-72a2336e84fe"
      },
      "outputs": [
        {
          "name": "stdout",
          "output_type": "stream",
          "text": [
            "Разнообразие признака Fuel system: 332 вариантов\n"
          ]
        }
      ],
      "source": [
        "column = 'Fuel system'\n",
        "showDiversity(data, column)"
      ]
    },
    {
      "cell_type": "markdown",
      "metadata": {
        "id": "30gO3a7D1-6N"
      },
      "source": [
        "Каждая запись представляет собой текстовое описание, где имеется уникальных именований. Описание включает числовые значения, обозначающие размеры деталей, названия торговых марок, распространённые союзы и т. д. Но есть две основных группы, инжекторная и карбюраторная системы подачи топлива. Разделим их по этому признаку и организуем два новых столбца Injection fuel system и Carburettor fuel system."
      ]
    },
    {
      "cell_type": "code",
      "execution_count": 1126,
      "metadata": {
        "id": "K86PvBVY3Kv6"
      },
      "outputs": [],
      "source": [
        "data['Carburettor fuel system'] = data[column].str.contains('Carburettor')\n",
        "data['Injection fuel system'] = data[column].str.contains('Injection')\n",
        "\n",
        "# Set the values of the new columns to 1 or 0\n",
        "data['Carburettor fuel system'] = data['Carburettor fuel system'].astype('int8')\n",
        "data['Injection fuel system'] = data['Injection fuel system'].astype('int8')\n",
        "\n",
        "# Drop old column\n",
        "data.drop(columns=[column], axis=1, inplace=True)"
      ]
    },
    {
      "cell_type": "markdown",
      "metadata": {
        "id": "J26ezzWu7nh2"
      },
      "source": [
        "## Fuel control"
      ]
    },
    {
      "cell_type": "code",
      "execution_count": 1127,
      "metadata": {
        "colab": {
          "base_uri": "https://localhost:8080/"
        },
        "id": "OGd_FoDM7rk_",
        "outputId": "7cba4175-b342-4ac0-b23c-e774e0af7fb7"
      },
      "outputs": [
        {
          "data": {
            "text/plain": [
              "Double Overhead Cams/Twin Cam (DOHC)    966\n",
              "Single Overhead Cams (SOHC)             392\n",
              "Desmodromic valve control               260\n",
              "Overhead Valves (OHV)                   106\n",
              "Overhead Cams (OHC)                     104\n",
              "Pushrods                                 12\n",
              "Membrane                                  2\n",
              "Membrane & power valve                    1\n",
              "Port control                              1\n",
              "Name: Fuel control, dtype: int64"
            ]
          },
          "execution_count": 1127,
          "metadata": {},
          "output_type": "execute_result"
        }
      ],
      "source": [
        "column = 'Fuel control'\n",
        "data[column].value_counts()"
      ]
    },
    {
      "cell_type": "markdown",
      "metadata": {
        "id": "0ogwzkHpKZD7"
      },
      "source": [
        "Можно видеть несколько малочисленных групп в *Fuel control*. Выделим их в отдельную группу others."
      ]
    },
    {
      "cell_type": "code",
      "execution_count": 1128,
      "metadata": {
        "colab": {
          "base_uri": "https://localhost:8080/"
        },
        "id": "4eozY44t03Ld",
        "outputId": "6875e50d-a68e-4b93-9364-57c80f7dacfe"
      },
      "outputs": [
        {
          "data": {
            "text/plain": [
              "Double Overhead Cams/Twin Cam (DOHC)    966\n",
              "Single Overhead Cams (SOHC)             392\n",
              "Desmodromic valve control               260\n",
              "Overhead Valves (OHV)                   106\n",
              "Overhead Cams (OHC)                     104\n",
              "Pushrods                                 12\n",
              "others                                    4\n",
              "Name: Fuel control, dtype: int64"
            ]
          },
          "execution_count": 1128,
          "metadata": {},
          "output_type": "execute_result"
        }
      ],
      "source": [
        "counts = data[column].value_counts()\n",
        "rare_values = counts[counts <= 10].index\n",
        "data[column] = data[column].cat.add_categories('others')\n",
        "data.loc[data[column].isin(rare_values), column] = 'others'\n",
        "\n",
        "# Clear\n",
        "categories = data[column].cat.categories\n",
        "categories = [category for category in categories if data[column].value_counts()[category] != 0]\n",
        "data[column] = data[column].cat.set_categories(categories)\n",
        "data[column].value_counts()"
      ]
    },
    {
      "cell_type": "markdown",
      "metadata": {
        "id": "CABfvBP820aG"
      },
      "source": [
        "## Cooling system"
      ]
    },
    {
      "cell_type": "code",
      "execution_count": 1129,
      "metadata": {
        "colab": {
          "base_uri": "https://localhost:8080/"
        },
        "id": "8q5qKTQS210s",
        "outputId": "23f877c4-5abd-4a9d-a143-98d812d3da5c"
      },
      "outputs": [
        {
          "data": {
            "text/plain": [
              "Liquid       1059\n",
              "Air           560\n",
              "Oil & air     225\n",
              "Name: Cooling system, dtype: int64"
            ]
          },
          "execution_count": 1129,
          "metadata": {},
          "output_type": "execute_result"
        }
      ],
      "source": [
        "column = 'Cooling system'\n",
        "data[column].value_counts()"
      ]
    },
    {
      "cell_type": "markdown",
      "metadata": {
        "id": "7WWGuvXjLDc0"
      },
      "source": [
        "Не так много вариантов охлаждения придумали. Добавим три новых столбца со значениями 0 или 1 в зависимости от вхождения в столбец *Cooling system*. Который мы благополучно удалим."
      ]
    },
    {
      "cell_type": "code",
      "execution_count": 1130,
      "metadata": {
        "id": "NbmYnZa84x85"
      },
      "outputs": [],
      "source": [
        "data = pd.get_dummies(data, columns = [column])"
      ]
    },
    {
      "cell_type": "markdown",
      "metadata": {
        "id": "v4Vq1ZfCLUC-"
      },
      "source": [
        "## Transmission type"
      ]
    },
    {
      "cell_type": "markdown",
      "metadata": {
        "id": "75jfYjmdLbl2"
      },
      "source": [
        "С трансмиссией та же самая история."
      ]
    },
    {
      "cell_type": "code",
      "execution_count": 1131,
      "metadata": {
        "colab": {
          "base_uri": "https://localhost:8080/"
        },
        "id": "194v-LTALfRN",
        "outputId": "42d0aae0-dab3-488e-91e8-d2cef139f539"
      },
      "outputs": [
        {
          "data": {
            "text/plain": [
              "Chain          1185\n",
              "Belt            425\n",
              "Shaft drive     234\n",
              "Name: Transmission type, dtype: int64"
            ]
          },
          "execution_count": 1131,
          "metadata": {},
          "output_type": "execute_result"
        }
      ],
      "source": [
        "column = 'Transmission type'\n",
        "data[column].value_counts()"
      ]
    },
    {
      "cell_type": "code",
      "execution_count": 1132,
      "metadata": {
        "id": "4npSPFdWLreA"
      },
      "outputs": [],
      "source": [
        "data = pd.get_dummies(data, columns = [column])"
      ]
    },
    {
      "cell_type": "markdown",
      "metadata": {
        "id": "BmWCo77MMBr-"
      },
      "source": [
        "## Brakes"
      ]
    },
    {
      "cell_type": "markdown",
      "metadata": {
        "id": "wprf2-HMNNVf"
      },
      "source": [
        "Тормоза существуют разных фирм и брендов. В их именах втречаются общие ключевые слова, характеризующие технические характеристики. Тормоза могут быть барабанные (drum) и дисковые. Дисковые тормоза могут быть как с одним так и с двумя дисками по разные стороны колеса (n_disks). Дисковые тормоза могут иметь разное количество поршней, отвечающий за сжатие суппортом диска (n_pistons). Тормозная система может обладать антиблокировачной системой (abs). Устройство тормозов чуть сложнее, но остановимся на этих ключевых аспектах."
      ]
    },
    {
      "cell_type": "code",
      "execution_count": 1133,
      "metadata": {
        "id": "sthdA50vMFio"
      },
      "outputs": [],
      "source": [
        "column, key_word = 'Front brakes', 'front'\n",
        "# dwdaw = data[column].unique()\n",
        "# for i in range(len(dwdaw)):\n",
        "#   print(dwdaw[i])"
      ]
    },
    {
      "cell_type": "markdown",
      "metadata": {
        "id": "0BL7qYnlhLfO"
      },
      "source": [
        "Создадим новый столбец характеристик, где каждая строка будет иметь числовое значение в зависимости от того, встречается ли ключевое слово в описании ее тормозной системы.\n",
        "\n",
        "Это нужно сделать как для передних торомозов, так и для задних тормозов."
      ]
    },
    {
      "cell_type": "code",
      "execution_count": 1134,
      "metadata": {
        "id": "EFpY98XUQSh4"
      },
      "outputs": [],
      "source": [
        "brakes_build(data, column, key_word)"
      ]
    },
    {
      "cell_type": "markdown",
      "metadata": {
        "id": "DHbDLUZii_JQ"
      },
      "source": [
        "В итоге получаем четыре новых столбца для передних тормозов: наличие abs системы, количество дисков (в случае барабанного тормоза 0), дисковый ли тормоз и число поршней."
      ]
    },
    {
      "cell_type": "code",
      "execution_count": 1135,
      "metadata": {
        "colab": {
          "base_uri": "https://localhost:8080/",
          "height": 223
        },
        "id": "stmI1z3diqug",
        "outputId": "4502b622-391e-48a7-fa11-9cc38becc02d"
      },
      "outputs": [
        {
          "data": {
            "text/html": [
              "\n",
              "  <div id=\"df-8dac2553-7f4e-4710-9a3b-8e2dc59e34a3\" class=\"colab-df-container\">\n",
              "    <div>\n",
              "<style scoped>\n",
              "    .dataframe tbody tr th:only-of-type {\n",
              "        vertical-align: middle;\n",
              "    }\n",
              "\n",
              "    .dataframe tbody tr th {\n",
              "        vertical-align: top;\n",
              "    }\n",
              "\n",
              "    .dataframe thead th {\n",
              "        text-align: right;\n",
              "    }\n",
              "</style>\n",
              "<table border=\"1\" class=\"dataframe\">\n",
              "  <thead>\n",
              "    <tr style=\"text-align: right;\">\n",
              "      <th></th>\n",
              "      <th>Cooling system_Liquid</th>\n",
              "      <th>Cooling system_Oil &amp; air</th>\n",
              "      <th>Transmission type_Belt</th>\n",
              "      <th>Transmission type_Chain</th>\n",
              "      <th>Transmission type_Shaft drive</th>\n",
              "      <th>n_disks_front</th>\n",
              "      <th>has_front_disk</th>\n",
              "      <th>n_pistons_front</th>\n",
              "      <th>abs_front</th>\n",
              "    </tr>\n",
              "  </thead>\n",
              "  <tbody>\n",
              "    <tr>\n",
              "      <th>170</th>\n",
              "      <td>1</td>\n",
              "      <td>0</td>\n",
              "      <td>0</td>\n",
              "      <td>1</td>\n",
              "      <td>0</td>\n",
              "      <td>1</td>\n",
              "      <td>1</td>\n",
              "      <td>1.0</td>\n",
              "      <td>0.0</td>\n",
              "    </tr>\n",
              "    <tr>\n",
              "      <th>171</th>\n",
              "      <td>1</td>\n",
              "      <td>0</td>\n",
              "      <td>0</td>\n",
              "      <td>1</td>\n",
              "      <td>0</td>\n",
              "      <td>1</td>\n",
              "      <td>1</td>\n",
              "      <td>1.0</td>\n",
              "      <td>0.0</td>\n",
              "    </tr>\n",
              "    <tr>\n",
              "      <th>332</th>\n",
              "      <td>0</td>\n",
              "      <td>0</td>\n",
              "      <td>0</td>\n",
              "      <td>1</td>\n",
              "      <td>0</td>\n",
              "      <td>1</td>\n",
              "      <td>1</td>\n",
              "      <td>1.0</td>\n",
              "      <td>0.0</td>\n",
              "    </tr>\n",
              "    <tr>\n",
              "      <th>350</th>\n",
              "      <td>0</td>\n",
              "      <td>0</td>\n",
              "      <td>0</td>\n",
              "      <td>1</td>\n",
              "      <td>0</td>\n",
              "      <td>1</td>\n",
              "      <td>1</td>\n",
              "      <td>2.0</td>\n",
              "      <td>0.0</td>\n",
              "    </tr>\n",
              "    <tr>\n",
              "      <th>351</th>\n",
              "      <td>0</td>\n",
              "      <td>0</td>\n",
              "      <td>0</td>\n",
              "      <td>1</td>\n",
              "      <td>0</td>\n",
              "      <td>1</td>\n",
              "      <td>1</td>\n",
              "      <td>2.0</td>\n",
              "      <td>0.0</td>\n",
              "    </tr>\n",
              "  </tbody>\n",
              "</table>\n",
              "</div>\n",
              "    <div class=\"colab-df-buttons\">\n",
              "\n",
              "  <div class=\"colab-df-container\">\n",
              "    <button class=\"colab-df-convert\" onclick=\"convertToInteractive('df-8dac2553-7f4e-4710-9a3b-8e2dc59e34a3')\"\n",
              "            title=\"Convert this dataframe to an interactive table.\"\n",
              "            style=\"display:none;\">\n",
              "\n",
              "  <svg xmlns=\"http://www.w3.org/2000/svg\" height=\"24px\" viewBox=\"0 -960 960 960\">\n",
              "    <path d=\"M120-120v-720h720v720H120Zm60-500h600v-160H180v160Zm220 220h160v-160H400v160Zm0 220h160v-160H400v160ZM180-400h160v-160H180v160Zm440 0h160v-160H620v160ZM180-180h160v-160H180v160Zm440 0h160v-160H620v160Z\"/>\n",
              "  </svg>\n",
              "    </button>\n",
              "\n",
              "  <style>\n",
              "    .colab-df-container {\n",
              "      display:flex;\n",
              "      gap: 12px;\n",
              "    }\n",
              "\n",
              "    .colab-df-convert {\n",
              "      background-color: #E8F0FE;\n",
              "      border: none;\n",
              "      border-radius: 50%;\n",
              "      cursor: pointer;\n",
              "      display: none;\n",
              "      fill: #1967D2;\n",
              "      height: 32px;\n",
              "      padding: 0 0 0 0;\n",
              "      width: 32px;\n",
              "    }\n",
              "\n",
              "    .colab-df-convert:hover {\n",
              "      background-color: #E2EBFA;\n",
              "      box-shadow: 0px 1px 2px rgba(60, 64, 67, 0.3), 0px 1px 3px 1px rgba(60, 64, 67, 0.15);\n",
              "      fill: #174EA6;\n",
              "    }\n",
              "\n",
              "    .colab-df-buttons div {\n",
              "      margin-bottom: 4px;\n",
              "    }\n",
              "\n",
              "    [theme=dark] .colab-df-convert {\n",
              "      background-color: #3B4455;\n",
              "      fill: #D2E3FC;\n",
              "    }\n",
              "\n",
              "    [theme=dark] .colab-df-convert:hover {\n",
              "      background-color: #434B5C;\n",
              "      box-shadow: 0px 1px 3px 1px rgba(0, 0, 0, 0.15);\n",
              "      filter: drop-shadow(0px 1px 2px rgba(0, 0, 0, 0.3));\n",
              "      fill: #FFFFFF;\n",
              "    }\n",
              "  </style>\n",
              "\n",
              "    <script>\n",
              "      const buttonEl =\n",
              "        document.querySelector('#df-8dac2553-7f4e-4710-9a3b-8e2dc59e34a3 button.colab-df-convert');\n",
              "      buttonEl.style.display =\n",
              "        google.colab.kernel.accessAllowed ? 'block' : 'none';\n",
              "\n",
              "      async function convertToInteractive(key) {\n",
              "        const element = document.querySelector('#df-8dac2553-7f4e-4710-9a3b-8e2dc59e34a3');\n",
              "        const dataTable =\n",
              "          await google.colab.kernel.invokeFunction('convertToInteractive',\n",
              "                                                    [key], {});\n",
              "        if (!dataTable) return;\n",
              "\n",
              "        const docLinkHtml = 'Like what you see? Visit the ' +\n",
              "          '<a target=\"_blank\" href=https://colab.research.google.com/notebooks/data_table.ipynb>data table notebook</a>'\n",
              "          + ' to learn more about interactive tables.';\n",
              "        element.innerHTML = '';\n",
              "        dataTable['output_type'] = 'display_data';\n",
              "        await google.colab.output.renderOutput(dataTable, element);\n",
              "        const docLink = document.createElement('div');\n",
              "        docLink.innerHTML = docLinkHtml;\n",
              "        element.appendChild(docLink);\n",
              "      }\n",
              "    </script>\n",
              "  </div>\n",
              "\n",
              "\n",
              "<div id=\"df-c0657575-5664-49ad-ae98-9a058b37e3c3\">\n",
              "  <button class=\"colab-df-quickchart\" onclick=\"quickchart('df-c0657575-5664-49ad-ae98-9a058b37e3c3')\"\n",
              "            title=\"Suggest charts\"\n",
              "            style=\"display:none;\">\n",
              "\n",
              "<svg xmlns=\"http://www.w3.org/2000/svg\" height=\"24px\"viewBox=\"0 0 24 24\"\n",
              "     width=\"24px\">\n",
              "    <g>\n",
              "        <path d=\"M19 3H5c-1.1 0-2 .9-2 2v14c0 1.1.9 2 2 2h14c1.1 0 2-.9 2-2V5c0-1.1-.9-2-2-2zM9 17H7v-7h2v7zm4 0h-2V7h2v10zm4 0h-2v-4h2v4z\"/>\n",
              "    </g>\n",
              "</svg>\n",
              "  </button>\n",
              "\n",
              "<style>\n",
              "  .colab-df-quickchart {\n",
              "      --bg-color: #E8F0FE;\n",
              "      --fill-color: #1967D2;\n",
              "      --hover-bg-color: #E2EBFA;\n",
              "      --hover-fill-color: #174EA6;\n",
              "      --disabled-fill-color: #AAA;\n",
              "      --disabled-bg-color: #DDD;\n",
              "  }\n",
              "\n",
              "  [theme=dark] .colab-df-quickchart {\n",
              "      --bg-color: #3B4455;\n",
              "      --fill-color: #D2E3FC;\n",
              "      --hover-bg-color: #434B5C;\n",
              "      --hover-fill-color: #FFFFFF;\n",
              "      --disabled-bg-color: #3B4455;\n",
              "      --disabled-fill-color: #666;\n",
              "  }\n",
              "\n",
              "  .colab-df-quickchart {\n",
              "    background-color: var(--bg-color);\n",
              "    border: none;\n",
              "    border-radius: 50%;\n",
              "    cursor: pointer;\n",
              "    display: none;\n",
              "    fill: var(--fill-color);\n",
              "    height: 32px;\n",
              "    padding: 0;\n",
              "    width: 32px;\n",
              "  }\n",
              "\n",
              "  .colab-df-quickchart:hover {\n",
              "    background-color: var(--hover-bg-color);\n",
              "    box-shadow: 0 1px 2px rgba(60, 64, 67, 0.3), 0 1px 3px 1px rgba(60, 64, 67, 0.15);\n",
              "    fill: var(--button-hover-fill-color);\n",
              "  }\n",
              "\n",
              "  .colab-df-quickchart-complete:disabled,\n",
              "  .colab-df-quickchart-complete:disabled:hover {\n",
              "    background-color: var(--disabled-bg-color);\n",
              "    fill: var(--disabled-fill-color);\n",
              "    box-shadow: none;\n",
              "  }\n",
              "\n",
              "  .colab-df-spinner {\n",
              "    border: 2px solid var(--fill-color);\n",
              "    border-color: transparent;\n",
              "    border-bottom-color: var(--fill-color);\n",
              "    animation:\n",
              "      spin 1s steps(1) infinite;\n",
              "  }\n",
              "\n",
              "  @keyframes spin {\n",
              "    0% {\n",
              "      border-color: transparent;\n",
              "      border-bottom-color: var(--fill-color);\n",
              "      border-left-color: var(--fill-color);\n",
              "    }\n",
              "    20% {\n",
              "      border-color: transparent;\n",
              "      border-left-color: var(--fill-color);\n",
              "      border-top-color: var(--fill-color);\n",
              "    }\n",
              "    30% {\n",
              "      border-color: transparent;\n",
              "      border-left-color: var(--fill-color);\n",
              "      border-top-color: var(--fill-color);\n",
              "      border-right-color: var(--fill-color);\n",
              "    }\n",
              "    40% {\n",
              "      border-color: transparent;\n",
              "      border-right-color: var(--fill-color);\n",
              "      border-top-color: var(--fill-color);\n",
              "    }\n",
              "    60% {\n",
              "      border-color: transparent;\n",
              "      border-right-color: var(--fill-color);\n",
              "    }\n",
              "    80% {\n",
              "      border-color: transparent;\n",
              "      border-right-color: var(--fill-color);\n",
              "      border-bottom-color: var(--fill-color);\n",
              "    }\n",
              "    90% {\n",
              "      border-color: transparent;\n",
              "      border-bottom-color: var(--fill-color);\n",
              "    }\n",
              "  }\n",
              "</style>\n",
              "\n",
              "  <script>\n",
              "    async function quickchart(key) {\n",
              "      const quickchartButtonEl =\n",
              "        document.querySelector('#' + key + ' button');\n",
              "      quickchartButtonEl.disabled = true;  // To prevent multiple clicks.\n",
              "      quickchartButtonEl.classList.add('colab-df-spinner');\n",
              "      try {\n",
              "        const charts = await google.colab.kernel.invokeFunction(\n",
              "            'suggestCharts', [key], {});\n",
              "      } catch (error) {\n",
              "        console.error('Error during call to suggestCharts:', error);\n",
              "      }\n",
              "      quickchartButtonEl.classList.remove('colab-df-spinner');\n",
              "      quickchartButtonEl.classList.add('colab-df-quickchart-complete');\n",
              "    }\n",
              "    (() => {\n",
              "      let quickchartButtonEl =\n",
              "        document.querySelector('#df-c0657575-5664-49ad-ae98-9a058b37e3c3 button');\n",
              "      quickchartButtonEl.style.display =\n",
              "        google.colab.kernel.accessAllowed ? 'block' : 'none';\n",
              "    })();\n",
              "  </script>\n",
              "</div>\n",
              "    </div>\n",
              "  </div>\n"
            ],
            "text/plain": [
              "     Cooling system_Liquid  Cooling system_Oil & air  Transmission type_Belt  \\\n",
              "170                      1                         0                       0   \n",
              "171                      1                         0                       0   \n",
              "332                      0                         0                       0   \n",
              "350                      0                         0                       0   \n",
              "351                      0                         0                       0   \n",
              "\n",
              "     Transmission type_Chain  Transmission type_Shaft drive  n_disks_front  \\\n",
              "170                        1                              0              1   \n",
              "171                        1                              0              1   \n",
              "332                        1                              0              1   \n",
              "350                        1                              0              1   \n",
              "351                        1                              0              1   \n",
              "\n",
              "     has_front_disk  n_pistons_front  abs_front  \n",
              "170               1              1.0        0.0  \n",
              "171               1              1.0        0.0  \n",
              "332               1              1.0        0.0  \n",
              "350               1              2.0        0.0  \n",
              "351               1              2.0        0.0  "
            ]
          },
          "execution_count": 1135,
          "metadata": {},
          "output_type": "execute_result"
        }
      ],
      "source": [
        "data.iloc[:, -9:].head()"
      ]
    },
    {
      "cell_type": "markdown",
      "metadata": {
        "id": "88jPYlUorl7L"
      },
      "source": [
        "Проделаем то же самое с задними тормозами, но с одним нюансом."
      ]
    },
    {
      "cell_type": "code",
      "execution_count": 1136,
      "metadata": {
        "id": "SLEL1zsjlyBM"
      },
      "outputs": [],
      "source": [
        "column, key_word = 'Rear brakes', 'rear'\n",
        "brakes_build(data, column, key_word)"
      ]
    },
    {
      "cell_type": "markdown",
      "metadata": {
        "id": "lptXgmtStX3y"
      },
      "source": [
        "А теперь нюанс. Заменим столбцы с признаком наличия антиблокировочной системы для разных осей мотоцикла, на один столбец отвечающий на вопрос, есть ли вообще ABS на мотоцикле."
      ]
    },
    {
      "cell_type": "code",
      "execution_count": 1137,
      "metadata": {
        "id": "S52Q0ejJtapo"
      },
      "outputs": [],
      "source": [
        "data['abs'] = data[['abs_front', 'abs_rear']].max(axis=1)\n",
        "data.drop('abs_front', axis=1, inplace=True)\n",
        "data.drop('abs_rear', axis=1, inplace=True)"
      ]
    },
    {
      "cell_type": "markdown",
      "metadata": {
        "id": "WVvr-YlCSQya"
      },
      "source": [
        "Ну и осталось только удалить обработанные *Front brakes* и *Rear brakes*."
      ]
    },
    {
      "cell_type": "code",
      "execution_count": 1138,
      "metadata": {
        "id": "IA1709tBu7A4"
      },
      "outputs": [],
      "source": [
        "data.drop(columns=['Front brakes'], axis=1, inplace=True)\n",
        "data.drop(columns=['Rear brakes'], axis=1, inplace=True)"
      ]
    },
    {
      "cell_type": "markdown",
      "metadata": {
        "id": "h09KFj0EvmoP"
      },
      "source": [
        "## Tires"
      ]
    },
    {
      "cell_type": "markdown",
      "metadata": {
        "id": "UKNWuBR5wu6H"
      },
      "source": [
        "Информация о шинах предоставляется в трех возможных форматах: международном стандарте, цифровом и буквенно-цифровом. Регулярные выражения — идеальный инструмент для извлечения информации в данном случае.\n",
        "\n",
        "Для шин можно извлечь следующие характеристики: ширину, высоту, индекс скорости, тип конструкции, диаметр и формат маркировки. Остальные значения Nan были заполнены в соответствии с разными критериями."
      ]
    },
    {
      "cell_type": "code",
      "execution_count": 1139,
      "metadata": {
        "id": "xe3L1Z6HxNWI"
      },
      "outputs": [],
      "source": [
        "column, key_word = 'Front tire', 'front'\n",
        "data = tyres_columns(data, column, key_word)"
      ]
    },
    {
      "cell_type": "code",
      "execution_count": 1140,
      "metadata": {
        "id": "IJJ9W8eAIABY"
      },
      "outputs": [],
      "source": [
        "tires_build(data, key_word)"
      ]
    },
    {
      "cell_type": "code",
      "execution_count": 1141,
      "metadata": {
        "id": "cojuOStBBM3q"
      },
      "outputs": [],
      "source": [
        "column, key_word = 'Rear tire', 'rear'\n",
        "data = tyres_columns(data, column, key_word)"
      ]
    },
    {
      "cell_type": "code",
      "execution_count": 1142,
      "metadata": {
        "id": "XJMr16L9OZlu"
      },
      "outputs": [],
      "source": [
        "tires_build(data, key_word)"
      ]
    },
    {
      "cell_type": "code",
      "execution_count": 1143,
      "metadata": {
        "colab": {
          "base_uri": "https://localhost:8080/"
        },
        "id": "kpde0Q_yDBiY",
        "outputId": "4baf58e7-bb5b-4a07-a719-5e02dd472560"
      },
      "outputs": [
        {
          "data": {
            "text/plain": [
              "Index(['Year', 'Category', 'Displacement (ccm)', 'Power (hp)', 'Torque (Nm)',\n",
              "       'Engine cylinder', 'Engine stroke', 'Gearbox', 'Bore (mm)',\n",
              "       'Stroke (mm)', 'Fuel capacity (lts)', 'Fuel control', 'Dry weight (kg)',\n",
              "       'Wheelbase (mm)', 'Seat height (mm)', 'Front tire', 'Rear tire',\n",
              "       'Front suspension', 'Rear suspension', 'Color options',\n",
              "       'Engine cylinder amount', 'Carburettor fuel system',\n",
              "       'Injection fuel system', 'Cooling system_Air', 'Cooling system_Liquid',\n",
              "       'Cooling system_Oil & air', 'Transmission type_Belt',\n",
              "       'Transmission type_Chain', 'Transmission type_Shaft drive',\n",
              "       'n_disks_front', 'has_front_disk', 'n_pistons_front', 'n_disks_rear',\n",
              "       'has_rear_disk', 'n_pistons_rear', 'abs', 'front_tire_width',\n",
              "       'front_tire_height', 'front_tire_diameter', 'fronttire_speed',\n",
              "       'front_tire_construction_B', 'front_tire_label_format_I',\n",
              "       'front_tire_label_format_N', 'front_tire_label_format_A',\n",
              "       'rear_tire_width', 'rear_tire_height', 'rear_tire_diameter',\n",
              "       'reartire_speed', 'rear_tire_construction_B',\n",
              "       'rear_tire_label_format_I', 'rear_tire_label_format_N',\n",
              "       'rear_tire_label_format_A'],\n",
              "      dtype='object')"
            ]
          },
          "execution_count": 1143,
          "metadata": {},
          "output_type": "execute_result"
        }
      ],
      "source": [
        "data.columns"
      ]
    },
    {
      "cell_type": "markdown",
      "metadata": {
        "id": "zOowLjj5Pbaq"
      },
      "source": [
        "## Suspension"
      ]
    },
    {
      "cell_type": "markdown",
      "metadata": {
        "id": "6MsP31pvPfKD"
      },
      "source": [
        "Вытащить и сформировать группы по подвеске будет мягко говоря тяжело, опустим этот момент. Удалим столбец."
      ]
    },
    {
      "cell_type": "code",
      "execution_count": 1144,
      "metadata": {
        "id": "qAgZrBj9R1sm"
      },
      "outputs": [],
      "source": [
        "data.drop(columns=['Front suspension'], axis=1, inplace=True)\n",
        "data.drop(columns=['Rear suspension'], axis=1, inplace=True)"
      ]
    },
    {
      "cell_type": "markdown",
      "metadata": {
        "id": "6hnOfZPyVooq"
      },
      "source": [
        "# Нормализация"
      ]
    },
    {
      "cell_type": "markdown",
      "metadata": {
        "id": "rj4SqSNHWwrD"
      },
      "source": [
        "Для лучшей работы многих алгоритмов машинного обучений необходима нормализация данных. Воспользуемся стандартным способом - линейным преобразованием, приводящем все значения к нулевому среднему и единичному среднеквадратичному отклонению."
      ]
    },
    {
      "cell_type": "code",
      "execution_count": 1148,
      "metadata": {
        "colab": {
          "base_uri": "https://localhost:8080/"
        },
        "id": "rhIUNv_lXKsn",
        "outputId": "17f2c373-7b25-416f-c64a-acc25609a084"
      },
      "outputs": [
        {
          "name": "stderr",
          "output_type": "stream",
          "text": [
            "<ipython-input-1148-6034e13d1485>:3: FutureWarning: The default value of numeric_only in DataFrame.mean is deprecated. In a future version, it will default to False. In addition, specifying 'numeric_only=None' is deprecated. Select only valid columns or specify the value of numeric_only to silence this warning.\n",
            "  data_norm[numb_categories] = (data_norm[numb_categories] - data_norm[numb_categories].mean(axis = 0))/data_norm[numb_categories].std(axis = 0)\n",
            "<ipython-input-1148-6034e13d1485>:3: FutureWarning: The default value of numeric_only in DataFrame.std is deprecated. In a future version, it will default to False. In addition, specifying 'numeric_only=None' is deprecated. Select only valid columns or specify the value of numeric_only to silence this warning.\n",
            "  data_norm[numb_categories] = (data_norm[numb_categories] - data_norm[numb_categories].mean(axis = 0))/data_norm[numb_categories].std(axis = 0)\n"
          ]
        }
      ],
      "source": [
        "numb_categories = list(data_types.keys())\n",
        "data_norm = data_raw.copy()\n",
        "data_norm[numb_categories] = (data_norm[numb_categories] - data_norm[numb_categories].mean(axis = 0))/data_norm[numb_categories].std(axis = 0)\n",
        "data_norm.describe()"
      ]
    }
  ],
  "metadata": {
    "colab": {
      "provenance": []
    },
    "kernelspec": {
      "display_name": "Python 3",
      "name": "python3"
    },
    "language_info": {
      "name": "python"
    }
  },
  "nbformat": 4,
  "nbformat_minor": 0
}
