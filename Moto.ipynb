{
  "nbformat": 4,
  "nbformat_minor": 0,
  "metadata": {
    "colab": {
      "provenance": [],
      "collapsed_sections": [
        "yt-MWXYZk-10",
        "a64sv8MXltH1",
        "0DAlWevDlyqZ",
        "4cSDqYiLl4EQ",
        "p0cw7hYCmHiH"
      ]
    },
    "kernelspec": {
      "name": "python3",
      "display_name": "Python 3"
    },
    "language_info": {
      "name": "python"
    }
  },
  "cells": [
    {
      "cell_type": "code",
      "execution_count": 342,
      "metadata": {
        "id": "hmwS3L5qjzbT"
      },
      "outputs": [],
      "source": [
        "import pandas as pd\n",
        "import numpy as np\n",
        "import matplotlib.pyplot as plt\n",
        "import seaborn as sns\n",
        "import re\n",
        "import math\n",
        "from sklearn.preprocessing import LabelBinarizer\n",
        "import funcs_my_and_from_git"
      ]
    },
    {
      "cell_type": "markdown",
      "source": [
        "С сайта Bikez.com был собран с помощью специального парсера с целью пополнить существующий набор данных по бывшим в употреблении мотоциклам. Там хранится информация о характеристиках проданных мотоциклах до 2022 года.\n",
        "\n",
        "all_bikez_curated.csv — это то, что осталось от необработанного набора данных после прохождения начальной стадии предварительной обработки, на которой сохранялись только наиболее доступные и наиболее релевантные атрибуты.\n",
        "\n",
        "Используя этот набор данных, мы могли бы попытаться создать модель, работа которой отражала бы суть того, что исторически предполагалось в каждой категории мотоциклов. Итак, попробуем изучить возможность определить, к какому типу относится мотоцикл в соответствии с его **техническими характеристиками**.\n",
        "\n",
        "Описание характеристик:\n",
        "\n",
        "* `Brand` - марка мотоцикла\n",
        "* `Model` - модель мотоцикла\n",
        "* `Year` - год производства мотоцикла\n",
        "* `Category` – класс, к которому принадлежит мотоцикл на рынке\n",
        "* `Rating` - средний рейтинг из 5 звезд\n",
        "* `Displacement (ccm)` — объем двигателя мотоцикла в кубических сантиметрах (см3)\n",
        "* `Power (hp)` — максимальная выходная мощность в лошадиных силах (л.с.)\n",
        "* `Torque (Nm)` — максимальный крутящий момент в ньютон-метрах (Нм)\n",
        "* `Engine cylinder` — количество цилиндров в двигателе, а также конфигурация\n",
        "* `Engine stroke` - количество тактов для завершения одного рабочего хода двигателя\n",
        "* `Gearbox` – количество передач\n",
        "* `Bore (mm)` — диаметр цилиндров в миллиметрах (мм)\n",
        "* `Stroke (mm)` — расстояние внутри цилиндра, которое проходит поршень в миллиметрах(мм)\n",
        "* `Transmission type` - тип трансмиссии мотоцикла\n",
        "* `Front brakes` - тип переднего тормоза\n",
        "* `Rear brakes` - тип заднего тормоза\n",
        "* `Front tire` - размер передней шины\n",
        "* `Rear tire` - размер задней шины\n",
        "* `Front suspension` - тип и конфигурация передней подвески\n",
        "* `Rear suspension` - тип и конфигурация задней подвески\n",
        "* `Dry weight (kg)` - вес мотоцикла без каких-либо жидкостей, в килограммах (кг)\n",
        "* `Wheelbase (mm)` - расстояние между точками соприкосновения передних и задних колес с землей в миллиметрах (мм)\n",
        "* `Fuel capacity (lts)` - максимальная вместимость топливного бака в литрах (лт)\n",
        "* `Fuel system` - система подачи топлива в двигатель\n",
        "* `Fuel control` – конфигурация клапанов двигателя\n",
        "* `Seat height (mm)` - высота от низа сиденья до земли в миллиметрах (мм)\n",
        "* `Cooling system` – система охлаждения двигателя\n",
        "* `Color options` — возможные варианты цвета модели мотоцикла для конкретного года выпуска"
      ],
      "metadata": {
        "id": "N9jqXln4oyDu"
      }
    },
    {
      "cell_type": "code",
      "source": [
        "data_raw = pd.read_csv(\"all_bikez_curated.csv\")\n",
        "print(f'''\n",
        "Число объектов: {data_raw.shape[0]}\n",
        "Число признаков: {data_raw.shape[1]}''')"
      ],
      "metadata": {
        "id": "bO23GfyqxupM",
        "colab": {
          "base_uri": "https://localhost:8080/"
        },
        "outputId": "e5bb74d7-cb97-4294-f064-aa2dd1739e54"
      },
      "execution_count": 343,
      "outputs": [
        {
          "output_type": "stream",
          "name": "stdout",
          "text": [
            "\n",
            "Число объектов: 38472\n",
            "Число признаков: 28\n"
          ]
        }
      ]
    },
    {
      "cell_type": "code",
      "source": [
        "data_raw.head(3)"
      ],
      "metadata": {
        "colab": {
          "base_uri": "https://localhost:8080/",
          "height": 314
        },
        "id": "gCoSIXfkwb7O",
        "outputId": "e9e1b5cf-5aac-4061-dc09-3ce34e2e8943"
      },
      "execution_count": 344,
      "outputs": [
        {
          "output_type": "execute_result",
          "data": {
            "text/plain": [
              "     Brand                Model  Year                   Category  Rating  \\\n",
              "0  acabion      da vinci 650-vi  2011  Prototype / concept model     3.2   \n",
              "1  acabion              gtbo 55  2007                      Sport     2.6   \n",
              "2  acabion  gtbo 600 daytona-vi  2011  Prototype / concept model     3.5   \n",
              "\n",
              "   Displacement (ccm)  Power (hp)  Torque (Nm) Engine cylinder Engine stroke  \\\n",
              "0                 NaN       804.0          NaN        Electric      Electric   \n",
              "1              1300.0       541.0        420.0    In-line four   four-stroke   \n",
              "2                 NaN       536.0          NaN        Electric      Electric   \n",
              "\n",
              "   ... Dry weight (kg)  Wheelbase (mm) Seat height (mm)  Front brakes  \\\n",
              "0  ...           420.0             NaN              NaN   Single disc   \n",
              "1  ...           360.0             NaN              NaN           NaN   \n",
              "2  ...           420.0             NaN              NaN   Single disc   \n",
              "\n",
              "   Rear brakes Front tire Rear tire Front suspension  Rear suspension  \\\n",
              "0  Single disc        NaN       NaN              NaN              NaN   \n",
              "1          NaN        NaN       NaN              NaN              NaN   \n",
              "2  Single disc        NaN       NaN              NaN              NaN   \n",
              "\n",
              "   Color options  \n",
              "0            NaN  \n",
              "1            NaN  \n",
              "2            NaN  \n",
              "\n",
              "[3 rows x 28 columns]"
            ],
            "text/html": [
              "\n",
              "  <div id=\"df-ac582b76-c40c-46aa-8d46-b0177b3968ea\" class=\"colab-df-container\">\n",
              "    <div>\n",
              "<style scoped>\n",
              "    .dataframe tbody tr th:only-of-type {\n",
              "        vertical-align: middle;\n",
              "    }\n",
              "\n",
              "    .dataframe tbody tr th {\n",
              "        vertical-align: top;\n",
              "    }\n",
              "\n",
              "    .dataframe thead th {\n",
              "        text-align: right;\n",
              "    }\n",
              "</style>\n",
              "<table border=\"1\" class=\"dataframe\">\n",
              "  <thead>\n",
              "    <tr style=\"text-align: right;\">\n",
              "      <th></th>\n",
              "      <th>Brand</th>\n",
              "      <th>Model</th>\n",
              "      <th>Year</th>\n",
              "      <th>Category</th>\n",
              "      <th>Rating</th>\n",
              "      <th>Displacement (ccm)</th>\n",
              "      <th>Power (hp)</th>\n",
              "      <th>Torque (Nm)</th>\n",
              "      <th>Engine cylinder</th>\n",
              "      <th>Engine stroke</th>\n",
              "      <th>...</th>\n",
              "      <th>Dry weight (kg)</th>\n",
              "      <th>Wheelbase (mm)</th>\n",
              "      <th>Seat height (mm)</th>\n",
              "      <th>Front brakes</th>\n",
              "      <th>Rear brakes</th>\n",
              "      <th>Front tire</th>\n",
              "      <th>Rear tire</th>\n",
              "      <th>Front suspension</th>\n",
              "      <th>Rear suspension</th>\n",
              "      <th>Color options</th>\n",
              "    </tr>\n",
              "  </thead>\n",
              "  <tbody>\n",
              "    <tr>\n",
              "      <th>0</th>\n",
              "      <td>acabion</td>\n",
              "      <td>da vinci 650-vi</td>\n",
              "      <td>2011</td>\n",
              "      <td>Prototype / concept model</td>\n",
              "      <td>3.2</td>\n",
              "      <td>NaN</td>\n",
              "      <td>804.0</td>\n",
              "      <td>NaN</td>\n",
              "      <td>Electric</td>\n",
              "      <td>Electric</td>\n",
              "      <td>...</td>\n",
              "      <td>420.0</td>\n",
              "      <td>NaN</td>\n",
              "      <td>NaN</td>\n",
              "      <td>Single disc</td>\n",
              "      <td>Single disc</td>\n",
              "      <td>NaN</td>\n",
              "      <td>NaN</td>\n",
              "      <td>NaN</td>\n",
              "      <td>NaN</td>\n",
              "      <td>NaN</td>\n",
              "    </tr>\n",
              "    <tr>\n",
              "      <th>1</th>\n",
              "      <td>acabion</td>\n",
              "      <td>gtbo 55</td>\n",
              "      <td>2007</td>\n",
              "      <td>Sport</td>\n",
              "      <td>2.6</td>\n",
              "      <td>1300.0</td>\n",
              "      <td>541.0</td>\n",
              "      <td>420.0</td>\n",
              "      <td>In-line four</td>\n",
              "      <td>four-stroke</td>\n",
              "      <td>...</td>\n",
              "      <td>360.0</td>\n",
              "      <td>NaN</td>\n",
              "      <td>NaN</td>\n",
              "      <td>NaN</td>\n",
              "      <td>NaN</td>\n",
              "      <td>NaN</td>\n",
              "      <td>NaN</td>\n",
              "      <td>NaN</td>\n",
              "      <td>NaN</td>\n",
              "      <td>NaN</td>\n",
              "    </tr>\n",
              "    <tr>\n",
              "      <th>2</th>\n",
              "      <td>acabion</td>\n",
              "      <td>gtbo 600 daytona-vi</td>\n",
              "      <td>2011</td>\n",
              "      <td>Prototype / concept model</td>\n",
              "      <td>3.5</td>\n",
              "      <td>NaN</td>\n",
              "      <td>536.0</td>\n",
              "      <td>NaN</td>\n",
              "      <td>Electric</td>\n",
              "      <td>Electric</td>\n",
              "      <td>...</td>\n",
              "      <td>420.0</td>\n",
              "      <td>NaN</td>\n",
              "      <td>NaN</td>\n",
              "      <td>Single disc</td>\n",
              "      <td>Single disc</td>\n",
              "      <td>NaN</td>\n",
              "      <td>NaN</td>\n",
              "      <td>NaN</td>\n",
              "      <td>NaN</td>\n",
              "      <td>NaN</td>\n",
              "    </tr>\n",
              "  </tbody>\n",
              "</table>\n",
              "<p>3 rows × 28 columns</p>\n",
              "</div>\n",
              "    <div class=\"colab-df-buttons\">\n",
              "\n",
              "  <div class=\"colab-df-container\">\n",
              "    <button class=\"colab-df-convert\" onclick=\"convertToInteractive('df-ac582b76-c40c-46aa-8d46-b0177b3968ea')\"\n",
              "            title=\"Convert this dataframe to an interactive table.\"\n",
              "            style=\"display:none;\">\n",
              "\n",
              "  <svg xmlns=\"http://www.w3.org/2000/svg\" height=\"24px\" viewBox=\"0 -960 960 960\">\n",
              "    <path d=\"M120-120v-720h720v720H120Zm60-500h600v-160H180v160Zm220 220h160v-160H400v160Zm0 220h160v-160H400v160ZM180-400h160v-160H180v160Zm440 0h160v-160H620v160ZM180-180h160v-160H180v160Zm440 0h160v-160H620v160Z\"/>\n",
              "  </svg>\n",
              "    </button>\n",
              "\n",
              "  <style>\n",
              "    .colab-df-container {\n",
              "      display:flex;\n",
              "      gap: 12px;\n",
              "    }\n",
              "\n",
              "    .colab-df-convert {\n",
              "      background-color: #E8F0FE;\n",
              "      border: none;\n",
              "      border-radius: 50%;\n",
              "      cursor: pointer;\n",
              "      display: none;\n",
              "      fill: #1967D2;\n",
              "      height: 32px;\n",
              "      padding: 0 0 0 0;\n",
              "      width: 32px;\n",
              "    }\n",
              "\n",
              "    .colab-df-convert:hover {\n",
              "      background-color: #E2EBFA;\n",
              "      box-shadow: 0px 1px 2px rgba(60, 64, 67, 0.3), 0px 1px 3px 1px rgba(60, 64, 67, 0.15);\n",
              "      fill: #174EA6;\n",
              "    }\n",
              "\n",
              "    .colab-df-buttons div {\n",
              "      margin-bottom: 4px;\n",
              "    }\n",
              "\n",
              "    [theme=dark] .colab-df-convert {\n",
              "      background-color: #3B4455;\n",
              "      fill: #D2E3FC;\n",
              "    }\n",
              "\n",
              "    [theme=dark] .colab-df-convert:hover {\n",
              "      background-color: #434B5C;\n",
              "      box-shadow: 0px 1px 3px 1px rgba(0, 0, 0, 0.15);\n",
              "      filter: drop-shadow(0px 1px 2px rgba(0, 0, 0, 0.3));\n",
              "      fill: #FFFFFF;\n",
              "    }\n",
              "  </style>\n",
              "\n",
              "    <script>\n",
              "      const buttonEl =\n",
              "        document.querySelector('#df-ac582b76-c40c-46aa-8d46-b0177b3968ea button.colab-df-convert');\n",
              "      buttonEl.style.display =\n",
              "        google.colab.kernel.accessAllowed ? 'block' : 'none';\n",
              "\n",
              "      async function convertToInteractive(key) {\n",
              "        const element = document.querySelector('#df-ac582b76-c40c-46aa-8d46-b0177b3968ea');\n",
              "        const dataTable =\n",
              "          await google.colab.kernel.invokeFunction('convertToInteractive',\n",
              "                                                    [key], {});\n",
              "        if (!dataTable) return;\n",
              "\n",
              "        const docLinkHtml = 'Like what you see? Visit the ' +\n",
              "          '<a target=\"_blank\" href=https://colab.research.google.com/notebooks/data_table.ipynb>data table notebook</a>'\n",
              "          + ' to learn more about interactive tables.';\n",
              "        element.innerHTML = '';\n",
              "        dataTable['output_type'] = 'display_data';\n",
              "        await google.colab.output.renderOutput(dataTable, element);\n",
              "        const docLink = document.createElement('div');\n",
              "        docLink.innerHTML = docLinkHtml;\n",
              "        element.appendChild(docLink);\n",
              "      }\n",
              "    </script>\n",
              "  </div>\n",
              "\n",
              "\n",
              "<div id=\"df-b930858e-5657-4def-ba36-004ed9fb2677\">\n",
              "  <button class=\"colab-df-quickchart\" onclick=\"quickchart('df-b930858e-5657-4def-ba36-004ed9fb2677')\"\n",
              "            title=\"Suggest charts\"\n",
              "            style=\"display:none;\">\n",
              "\n",
              "<svg xmlns=\"http://www.w3.org/2000/svg\" height=\"24px\"viewBox=\"0 0 24 24\"\n",
              "     width=\"24px\">\n",
              "    <g>\n",
              "        <path d=\"M19 3H5c-1.1 0-2 .9-2 2v14c0 1.1.9 2 2 2h14c1.1 0 2-.9 2-2V5c0-1.1-.9-2-2-2zM9 17H7v-7h2v7zm4 0h-2V7h2v10zm4 0h-2v-4h2v4z\"/>\n",
              "    </g>\n",
              "</svg>\n",
              "  </button>\n",
              "\n",
              "<style>\n",
              "  .colab-df-quickchart {\n",
              "      --bg-color: #E8F0FE;\n",
              "      --fill-color: #1967D2;\n",
              "      --hover-bg-color: #E2EBFA;\n",
              "      --hover-fill-color: #174EA6;\n",
              "      --disabled-fill-color: #AAA;\n",
              "      --disabled-bg-color: #DDD;\n",
              "  }\n",
              "\n",
              "  [theme=dark] .colab-df-quickchart {\n",
              "      --bg-color: #3B4455;\n",
              "      --fill-color: #D2E3FC;\n",
              "      --hover-bg-color: #434B5C;\n",
              "      --hover-fill-color: #FFFFFF;\n",
              "      --disabled-bg-color: #3B4455;\n",
              "      --disabled-fill-color: #666;\n",
              "  }\n",
              "\n",
              "  .colab-df-quickchart {\n",
              "    background-color: var(--bg-color);\n",
              "    border: none;\n",
              "    border-radius: 50%;\n",
              "    cursor: pointer;\n",
              "    display: none;\n",
              "    fill: var(--fill-color);\n",
              "    height: 32px;\n",
              "    padding: 0;\n",
              "    width: 32px;\n",
              "  }\n",
              "\n",
              "  .colab-df-quickchart:hover {\n",
              "    background-color: var(--hover-bg-color);\n",
              "    box-shadow: 0 1px 2px rgba(60, 64, 67, 0.3), 0 1px 3px 1px rgba(60, 64, 67, 0.15);\n",
              "    fill: var(--button-hover-fill-color);\n",
              "  }\n",
              "\n",
              "  .colab-df-quickchart-complete:disabled,\n",
              "  .colab-df-quickchart-complete:disabled:hover {\n",
              "    background-color: var(--disabled-bg-color);\n",
              "    fill: var(--disabled-fill-color);\n",
              "    box-shadow: none;\n",
              "  }\n",
              "\n",
              "  .colab-df-spinner {\n",
              "    border: 2px solid var(--fill-color);\n",
              "    border-color: transparent;\n",
              "    border-bottom-color: var(--fill-color);\n",
              "    animation:\n",
              "      spin 1s steps(1) infinite;\n",
              "  }\n",
              "\n",
              "  @keyframes spin {\n",
              "    0% {\n",
              "      border-color: transparent;\n",
              "      border-bottom-color: var(--fill-color);\n",
              "      border-left-color: var(--fill-color);\n",
              "    }\n",
              "    20% {\n",
              "      border-color: transparent;\n",
              "      border-left-color: var(--fill-color);\n",
              "      border-top-color: var(--fill-color);\n",
              "    }\n",
              "    30% {\n",
              "      border-color: transparent;\n",
              "      border-left-color: var(--fill-color);\n",
              "      border-top-color: var(--fill-color);\n",
              "      border-right-color: var(--fill-color);\n",
              "    }\n",
              "    40% {\n",
              "      border-color: transparent;\n",
              "      border-right-color: var(--fill-color);\n",
              "      border-top-color: var(--fill-color);\n",
              "    }\n",
              "    60% {\n",
              "      border-color: transparent;\n",
              "      border-right-color: var(--fill-color);\n",
              "    }\n",
              "    80% {\n",
              "      border-color: transparent;\n",
              "      border-right-color: var(--fill-color);\n",
              "      border-bottom-color: var(--fill-color);\n",
              "    }\n",
              "    90% {\n",
              "      border-color: transparent;\n",
              "      border-bottom-color: var(--fill-color);\n",
              "    }\n",
              "  }\n",
              "</style>\n",
              "\n",
              "  <script>\n",
              "    async function quickchart(key) {\n",
              "      const quickchartButtonEl =\n",
              "        document.querySelector('#' + key + ' button');\n",
              "      quickchartButtonEl.disabled = true;  // To prevent multiple clicks.\n",
              "      quickchartButtonEl.classList.add('colab-df-spinner');\n",
              "      try {\n",
              "        const charts = await google.colab.kernel.invokeFunction(\n",
              "            'suggestCharts', [key], {});\n",
              "      } catch (error) {\n",
              "        console.error('Error during call to suggestCharts:', error);\n",
              "      }\n",
              "      quickchartButtonEl.classList.remove('colab-df-spinner');\n",
              "      quickchartButtonEl.classList.add('colab-df-quickchart-complete');\n",
              "    }\n",
              "    (() => {\n",
              "      let quickchartButtonEl =\n",
              "        document.querySelector('#df-b930858e-5657-4def-ba36-004ed9fb2677 button');\n",
              "      quickchartButtonEl.style.display =\n",
              "        google.colab.kernel.accessAllowed ? 'block' : 'none';\n",
              "    })();\n",
              "  </script>\n",
              "</div>\n",
              "    </div>\n",
              "  </div>\n"
            ]
          },
          "metadata": {},
          "execution_count": 344
        }
      ]
    },
    {
      "cell_type": "markdown",
      "source": [
        "Сразу избавимся от невлияющих на исход признаков, таких как 'Brand', 'Model' и 'Rating'. Они не описывают характеристики мотоцикла. А ведь цель определить тип мотоцикла по его техническим характеристикам."
      ],
      "metadata": {
        "id": "hBon1GlROLZb"
      }
    },
    {
      "cell_type": "code",
      "source": [
        "irrelevant_columns = ['Brand', 'Model', 'Rating']\n",
        "data_raw = data_raw.drop(columns=irrelevant_columns)"
      ],
      "metadata": {
        "id": "YE9adTw5OO3n"
      },
      "execution_count": 345,
      "outputs": []
    },
    {
      "cell_type": "markdown",
      "source": [
        "Отрисуем график типов мотоциклов, представленных в данном датасете."
      ],
      "metadata": {
        "id": "VjZvr-K2PGN9"
      }
    },
    {
      "cell_type": "code",
      "source": [
        "showSchedule(data_raw)\n",
        "pass"
      ],
      "metadata": {
        "colab": {
          "base_uri": "https://localhost:8080/",
          "height": 578
        },
        "id": "dBjuOW0iHY1c",
        "outputId": "16b3fd10-435f-4df7-901d-865ad899b2ab"
      },
      "execution_count": 346,
      "outputs": [
        {
          "output_type": "display_data",
          "data": {
            "text/plain": [
              "<Figure size 640x480 with 1 Axes>"
            ],
            "image/png": "[encoded data removed]"
          },
          "metadata": {}
        }
      ]
    },
    {
      "cell_type": "markdown",
      "source": [
        "На графике можно увидеть столбец \"Unspecified category\", он не представляет для нас никакой ценности, а наоборот лишь мешает, поэтому нужно удалить его из датафрейма."
      ],
      "metadata": {
        "id": "QwjaiQF_LaoI"
      }
    },
    {
      "cell_type": "code",
      "source": [
        "unsp_index = data_raw['Category'] == 'Unspecified category'\n",
        "data_raw = data_raw[~unsp_index]"
      ],
      "metadata": {
        "id": "xIz26ZXIMjJa"
      },
      "execution_count": 347,
      "outputs": []
    },
    {
      "cell_type": "markdown",
      "source": [
        "Следом мы можем заметить несколько малочисленных представителей классов мотоциклов. Их число не переваливает за 150, и, казалось бы, от них можно избавиться, но сначала попробуем почистить \"бракованные\" строки таблицы.\n",
        "\n",
        "Так получилось, что в данном датасете много пропущенных полей, а значения столбцов могут колебаться до 6000. В общем, любые приемы по работе с NaN полями приведут только к ухудшению обучения модели. Попробуем удалить все строки, в которых есть хоть одно пропущенное значение и посмотрим сколько же останется от каждого представителя Category."
      ],
      "metadata": {
        "id": "z1fuuRVyMiL6"
      }
    },
    {
      "cell_type": "code",
      "source": [
        "conditions = [~data_raw[col].isnull() for col in data_raw.columns]\n",
        "cond = conditions[0]\n",
        "for c in conditions[1:]:\n",
        "    cond = cond & c\n",
        "selected_rows = cond[cond==True]\n",
        "data_raw = data_raw.loc[selected_rows.index,:]"
      ],
      "metadata": {
        "id": "OhUCXbO_AGNl"
      },
      "execution_count": 348,
      "outputs": []
    },
    {
      "cell_type": "code",
      "source": [
        "data_raw.isnull().sum()"
      ],
      "metadata": {
        "colab": {
          "base_uri": "https://localhost:8080/"
        },
        "id": "WYRHr64jVAb6",
        "outputId": "06046239-5c65-4dad-bf39-e6480bb4c843"
      },
      "execution_count": 349,
      "outputs": [
        {
          "output_type": "execute_result",
          "data": {
            "text/plain": [
              "Year                   0\n",
              "Category               0\n",
              "Displacement (ccm)     0\n",
              "Power (hp)             0\n",
              "Torque (Nm)            0\n",
              "Engine cylinder        0\n",
              "Engine stroke          0\n",
              "Gearbox                0\n",
              "Bore (mm)              0\n",
              "Stroke (mm)            0\n",
              "Fuel capacity (lts)    0\n",
              "Fuel system            0\n",
              "Fuel control           0\n",
              "Cooling system         0\n",
              "Transmission type      0\n",
              "Dry weight (kg)        0\n",
              "Wheelbase (mm)         0\n",
              "Seat height (mm)       0\n",
              "Front brakes           0\n",
              "Rear brakes            0\n",
              "Front tire             0\n",
              "Rear tire              0\n",
              "Front suspension       0\n",
              "Rear suspension        0\n",
              "Color options          0\n",
              "dtype: int64"
            ]
          },
          "metadata": {},
          "execution_count": 349
        }
      ]
    },
    {
      "cell_type": "markdown",
      "source": [
        "Снова построим график, можем видеть, что численность представителей каждого из классов уменьшилась пропорционально."
      ],
      "metadata": {
        "id": "f9OuIn11RPfw"
      }
    },
    {
      "cell_type": "code",
      "source": [
        "showSchedule(data_raw, 'Category', \"после очистки от пустых рядов\")\n",
        "pass"
      ],
      "metadata": {
        "colab": {
          "base_uri": "https://localhost:8080/",
          "height": 578
        },
        "id": "DgYTvYjRQxrJ",
        "outputId": "4af42e41-12fd-47b1-85a1-4c35ef325dcd"
      },
      "execution_count": 350,
      "outputs": [
        {
          "output_type": "display_data",
          "data": {
            "text/plain": [
              "<Figure size 640x480 with 1 Axes>"
            ],
            "image/png": "[encoded data removed]"
          },
          "metadata": {}
        }
      ]
    },
    {
      "cell_type": "markdown",
      "source": [
        "Выбросим все строки, категория которых представлена в количестве меньше 100:"
      ],
      "metadata": {
        "id": "XQwxj9uoTGrQ"
      }
    },
    {
      "cell_type": "code",
      "source": [
        "count_threshold = 100\n",
        "counted = data_raw.groupby('Category').count()\n",
        "cat_to_drop = counted[counted.max(axis=1) < count_threshold].index.tolist()\n",
        "index_to_drop = []\n",
        "for cat in cat_to_drop:\n",
        "    index_to_drop += data_raw[data_raw['Category'] == cat].index.tolist()\n",
        "data_raw = data_raw.drop(index=index_to_drop)"
      ],
      "metadata": {
        "id": "3yAvOFjZ5x1P"
      },
      "execution_count": 351,
      "outputs": []
    },
    {
      "cell_type": "markdown",
      "source": [
        "Набор данных должен быть сбалансированным. Перепредставленные категории подвергаются случайному уменьшению выборки. Выбранный критерий заключается в том, что ни в одной категории не будет более чем в два раза больше примеров, чем в наименее часто встречающейся категории."
      ],
      "metadata": {
        "id": "DBeX-G3MTTaK"
      }
    },
    {
      "cell_type": "code",
      "source": [
        "lowest_count = data_raw.groupby('Category').count().max(axis=1).min()\n",
        "n_random_rows = lowest_count * 2\n",
        "row_blocks = []\n",
        "for cat in data_raw.groupby('Category').count().index:\n",
        "    row_blocks.append(randomRaws(data_raw[data_raw['Category']==cat], n_random_rows))\n",
        "data_raw = pd.concat(row_blocks)\n",
        "data_raw.sort_index(inplace=True)"
      ],
      "metadata": {
        "id": "_Esh4E4XTRsK"
      },
      "execution_count": 352,
      "outputs": []
    },
    {
      "cell_type": "markdown",
      "source": [
        "Еще раз взглянем на график."
      ],
      "metadata": {
        "id": "nP5Dxj1DShuW"
      }
    },
    {
      "cell_type": "code",
      "source": [
        "showSchedule(data_raw, 'Category', \"после балансировки\")\n",
        "pass"
      ],
      "metadata": {
        "colab": {
          "base_uri": "https://localhost:8080/",
          "height": 529
        },
        "id": "y0RsEVWGS-To",
        "outputId": "3bcaff4f-84f0-4205-e75e-88bd8d12d091"
      },
      "execution_count": 353,
      "outputs": [
        {
          "output_type": "display_data",
          "data": {
            "text/plain": [
              "<Figure size 640x480 with 1 Axes>"
            ],
            "image/png": "[encoded data removed]"
          },
          "metadata": {}
        }
      ]
    },
    {
      "cell_type": "markdown",
      "source": [
        "# Описание"
      ],
      "metadata": {
        "id": "rl6fncprWMto"
      }
    },
    {
      "cell_type": "markdown",
      "source": [
        "Можно взглянуть на мат. описание для каждого признака. Можно сделать несколько выводов. Например, средний год оказался именно 2014. Мотоциклы, что были произведены до этого года, лежат на свалках или аккуратно эксплуатируются стариками в душе. Мотоциклы, произведенные после, еще недостаточно изношены, чтобы стать дешевыми, поэтому продаж меньше. Конечно это не про все мотоциклы, но тенденция такова."
      ],
      "metadata": {
        "id": "U2-21G06WXGz"
      }
    },
    {
      "cell_type": "code",
      "source": [
        "data_raw.describe()"
      ],
      "metadata": {
        "colab": {
          "base_uri": "https://localhost:8080/",
          "height": 335
        },
        "id": "qNsdekJu1vNW",
        "outputId": "6601f162-a80f-425f-806e-dbfc2e7a40a0"
      },
      "execution_count": 354,
      "outputs": [
        {
          "output_type": "execute_result",
          "data": {
            "text/plain": [
              "              Year  Displacement (ccm)   Power (hp)  Torque (Nm)    Bore (mm)  \\\n",
              "count  1844.000000         1844.000000  1844.000000  1844.000000  1844.000000   \n",
              "mean   2014.886659          871.445174    83.140184    82.112364    82.527766   \n",
              "std       5.956585          520.820792    51.486152    49.298456    17.397295   \n",
              "min    1968.000000           49.000000     1.500000     2.500000    37.000000   \n",
              "25%    2012.000000          449.000000    41.725000    41.225000    72.000000   \n",
              "50%    2016.000000          865.000000    86.000000    86.000000    83.000000   \n",
              "75%    2019.000000         1198.400000   114.000000   118.500000    98.000000   \n",
              "max    2022.000000         2458.000000   226.000000   221.000000   116.000000   \n",
              "\n",
              "       Fuel capacity (lts)  Dry weight (kg)  Wheelbase (mm)  Seat height (mm)  \n",
              "count          1844.000000      1844.000000     1844.000000       1844.000000  \n",
              "mean             16.306914       205.463286     1486.125271        793.526573  \n",
              "std               5.365321        70.789097      118.064390        167.506619  \n",
              "min               3.200000        52.000000     1050.000000        508.000000  \n",
              "25%              13.500000       167.000000     1420.000000        760.000000  \n",
              "50%              16.625000       193.000000     1490.000000        800.000000  \n",
              "75%              20.000000       229.100000     1560.000000        830.000000  \n",
              "max              33.000000       545.700000     2007.000000       7501.000000  "
            ],
            "text/html": [
              "\n",
              "  <div id=\"df-4dce33ad-0bbc-4adc-bf7d-1353ce149a1c\" class=\"colab-df-container\">\n",
              "    <div>\n",
              "<style scoped>\n",
              "    .dataframe tbody tr th:only-of-type {\n",
              "        vertical-align: middle;\n",
              "    }\n",
              "\n",
              "    .dataframe tbody tr th {\n",
              "        vertical-align: top;\n",
              "    }\n",
              "\n",
              "    .dataframe thead th {\n",
              "        text-align: right;\n",
              "    }\n",
              "</style>\n",
              "<table border=\"1\" class=\"dataframe\">\n",
              "  <thead>\n",
              "    <tr style=\"text-align: right;\">\n",
              "      <th></th>\n",
              "      <th>Year</th>\n",
              "      <th>Displacement (ccm)</th>\n",
              "      <th>Power (hp)</th>\n",
              "      <th>Torque (Nm)</th>\n",
              "      <th>Bore (mm)</th>\n",
              "      <th>Fuel capacity (lts)</th>\n",
              "      <th>Dry weight (kg)</th>\n",
              "      <th>Wheelbase (mm)</th>\n",
              "      <th>Seat height (mm)</th>\n",
              "    </tr>\n",
              "  </thead>\n",
              "  <tbody>\n",
              "    <tr>\n",
              "      <th>count</th>\n",
              "      <td>1844.000000</td>\n",
              "      <td>1844.000000</td>\n",
              "      <td>1844.000000</td>\n",
              "      <td>1844.000000</td>\n",
              "      <td>1844.000000</td>\n",
              "      <td>1844.000000</td>\n",
              "      <td>1844.000000</td>\n",
              "      <td>1844.000000</td>\n",
              "      <td>1844.000000</td>\n",
              "    </tr>\n",
              "    <tr>\n",
              "      <th>mean</th>\n",
              "      <td>2014.886659</td>\n",
              "      <td>871.445174</td>\n",
              "      <td>83.140184</td>\n",
              "      <td>82.112364</td>\n",
              "      <td>82.527766</td>\n",
              "      <td>16.306914</td>\n",
              "      <td>205.463286</td>\n",
              "      <td>1486.125271</td>\n",
              "      <td>793.526573</td>\n",
              "    </tr>\n",
              "    <tr>\n",
              "      <th>std</th>\n",
              "      <td>5.956585</td>\n",
              "      <td>520.820792</td>\n",
              "      <td>51.486152</td>\n",
              "      <td>49.298456</td>\n",
              "      <td>17.397295</td>\n",
              "      <td>5.365321</td>\n",
              "      <td>70.789097</td>\n",
              "      <td>118.064390</td>\n",
              "      <td>167.506619</td>\n",
              "    </tr>\n",
              "    <tr>\n",
              "      <th>min</th>\n",
              "      <td>1968.000000</td>\n",
              "      <td>49.000000</td>\n",
              "      <td>1.500000</td>\n",
              "      <td>2.500000</td>\n",
              "      <td>37.000000</td>\n",
              "      <td>3.200000</td>\n",
              "      <td>52.000000</td>\n",
              "      <td>1050.000000</td>\n",
              "      <td>508.000000</td>\n",
              "    </tr>\n",
              "    <tr>\n",
              "      <th>25%</th>\n",
              "      <td>2012.000000</td>\n",
              "      <td>449.000000</td>\n",
              "      <td>41.725000</td>\n",
              "      <td>41.225000</td>\n",
              "      <td>72.000000</td>\n",
              "      <td>13.500000</td>\n",
              "      <td>167.000000</td>\n",
              "      <td>1420.000000</td>\n",
              "      <td>760.000000</td>\n",
              "    </tr>\n",
              "    <tr>\n",
              "      <th>50%</th>\n",
              "      <td>2016.000000</td>\n",
              "      <td>865.000000</td>\n",
              "      <td>86.000000</td>\n",
              "      <td>86.000000</td>\n",
              "      <td>83.000000</td>\n",
              "      <td>16.625000</td>\n",
              "      <td>193.000000</td>\n",
              "      <td>1490.000000</td>\n",
              "      <td>800.000000</td>\n",
              "    </tr>\n",
              "    <tr>\n",
              "      <th>75%</th>\n",
              "      <td>2019.000000</td>\n",
              "      <td>1198.400000</td>\n",
              "      <td>114.000000</td>\n",
              "      <td>118.500000</td>\n",
              "      <td>98.000000</td>\n",
              "      <td>20.000000</td>\n",
              "      <td>229.100000</td>\n",
              "      <td>1560.000000</td>\n",
              "      <td>830.000000</td>\n",
              "    </tr>\n",
              "    <tr>\n",
              "      <th>max</th>\n",
              "      <td>2022.000000</td>\n",
              "      <td>2458.000000</td>\n",
              "      <td>226.000000</td>\n",
              "      <td>221.000000</td>\n",
              "      <td>116.000000</td>\n",
              "      <td>33.000000</td>\n",
              "      <td>545.700000</td>\n",
              "      <td>2007.000000</td>\n",
              "      <td>7501.000000</td>\n",
              "    </tr>\n",
              "  </tbody>\n",
              "</table>\n",
              "</div>\n",
              "    <div class=\"colab-df-buttons\">\n",
              "\n",
              "  <div class=\"colab-df-container\">\n",
              "    <button class=\"colab-df-convert\" onclick=\"convertToInteractive('df-4dce33ad-0bbc-4adc-bf7d-1353ce149a1c')\"\n",
              "            title=\"Convert this dataframe to an interactive table.\"\n",
              "            style=\"display:none;\">\n",
              "\n",
              "  <svg xmlns=\"http://www.w3.org/2000/svg\" height=\"24px\" viewBox=\"0 -960 960 960\">\n",
              "    <path d=\"M120-120v-720h720v720H120Zm60-500h600v-160H180v160Zm220 220h160v-160H400v160Zm0 220h160v-160H400v160ZM180-400h160v-160H180v160Zm440 0h160v-160H620v160ZM180-180h160v-160H180v160Zm440 0h160v-160H620v160Z\"/>\n",
              "  </svg>\n",
              "    </button>\n",
              "\n",
              "  <style>\n",
              "    .colab-df-container {\n",
              "      display:flex;\n",
              "      gap: 12px;\n",
              "    }\n",
              "\n",
              "    .colab-df-convert {\n",
              "      background-color: #E8F0FE;\n",
              "      border: none;\n",
              "      border-radius: 50%;\n",
              "      cursor: pointer;\n",
              "      display: none;\n",
              "      fill: #1967D2;\n",
              "      height: 32px;\n",
              "      padding: 0 0 0 0;\n",
              "      width: 32px;\n",
              "    }\n",
              "\n",
              "    .colab-df-convert:hover {\n",
              "      background-color: #E2EBFA;\n",
              "      box-shadow: 0px 1px 2px rgba(60, 64, 67, 0.3), 0px 1px 3px 1px rgba(60, 64, 67, 0.15);\n",
              "      fill: #174EA6;\n",
              "    }\n",
              "\n",
              "    .colab-df-buttons div {\n",
              "      margin-bottom: 4px;\n",
              "    }\n",
              "\n",
              "    [theme=dark] .colab-df-convert {\n",
              "      background-color: #3B4455;\n",
              "      fill: #D2E3FC;\n",
              "    }\n",
              "\n",
              "    [theme=dark] .colab-df-convert:hover {\n",
              "      background-color: #434B5C;\n",
              "      box-shadow: 0px 1px 3px 1px rgba(0, 0, 0, 0.15);\n",
              "      filter: drop-shadow(0px 1px 2px rgba(0, 0, 0, 0.3));\n",
              "      fill: #FFFFFF;\n",
              "    }\n",
              "  </style>\n",
              "\n",
              "    <script>\n",
              "      const buttonEl =\n",
              "        document.querySelector('#df-4dce33ad-0bbc-4adc-bf7d-1353ce149a1c button.colab-df-convert');\n",
              "      buttonEl.style.display =\n",
              "        google.colab.kernel.accessAllowed ? 'block' : 'none';\n",
              "\n",
              "      async function convertToInteractive(key) {\n",
              "        const element = document.querySelector('#df-4dce33ad-0bbc-4adc-bf7d-1353ce149a1c');\n",
              "        const dataTable =\n",
              "          await google.colab.kernel.invokeFunction('convertToInteractive',\n",
              "                                                    [key], {});\n",
              "        if (!dataTable) return;\n",
              "\n",
              "        const docLinkHtml = 'Like what you see? Visit the ' +\n",
              "          '<a target=\"_blank\" href=https://colab.research.google.com/notebooks/data_table.ipynb>data table notebook</a>'\n",
              "          + ' to learn more about interactive tables.';\n",
              "        element.innerHTML = '';\n",
              "        dataTable['output_type'] = 'display_data';\n",
              "        await google.colab.output.renderOutput(dataTable, element);\n",
              "        const docLink = document.createElement('div');\n",
              "        docLink.innerHTML = docLinkHtml;\n",
              "        element.appendChild(docLink);\n",
              "      }\n",
              "    </script>\n",
              "  </div>\n",
              "\n",
              "\n",
              "<div id=\"df-ffd00f5e-770b-432c-94f5-c732776c272e\">\n",
              "  <button class=\"colab-df-quickchart\" onclick=\"quickchart('df-ffd00f5e-770b-432c-94f5-c732776c272e')\"\n",
              "            title=\"Suggest charts\"\n",
              "            style=\"display:none;\">\n",
              "\n",
              "<svg xmlns=\"http://www.w3.org/2000/svg\" height=\"24px\"viewBox=\"0 0 24 24\"\n",
              "     width=\"24px\">\n",
              "    <g>\n",
              "        <path d=\"M19 3H5c-1.1 0-2 .9-2 2v14c0 1.1.9 2 2 2h14c1.1 0 2-.9 2-2V5c0-1.1-.9-2-2-2zM9 17H7v-7h2v7zm4 0h-2V7h2v10zm4 0h-2v-4h2v4z\"/>\n",
              "    </g>\n",
              "</svg>\n",
              "  </button>\n",
              "\n",
              "<style>\n",
              "  .colab-df-quickchart {\n",
              "      --bg-color: #E8F0FE;\n",
              "      --fill-color: #1967D2;\n",
              "      --hover-bg-color: #E2EBFA;\n",
              "      --hover-fill-color: #174EA6;\n",
              "      --disabled-fill-color: #AAA;\n",
              "      --disabled-bg-color: #DDD;\n",
              "  }\n",
              "\n",
              "  [theme=dark] .colab-df-quickchart {\n",
              "      --bg-color: #3B4455;\n",
              "      --fill-color: #D2E3FC;\n",
              "      --hover-bg-color: #434B5C;\n",
              "      --hover-fill-color: #FFFFFF;\n",
              "      --disabled-bg-color: #3B4455;\n",
              "      --disabled-fill-color: #666;\n",
              "  }\n",
              "\n",
              "  .colab-df-quickchart {\n",
              "    background-color: var(--bg-color);\n",
              "    border: none;\n",
              "    border-radius: 50%;\n",
              "    cursor: pointer;\n",
              "    display: none;\n",
              "    fill: var(--fill-color);\n",
              "    height: 32px;\n",
              "    padding: 0;\n",
              "    width: 32px;\n",
              "  }\n",
              "\n",
              "  .colab-df-quickchart:hover {\n",
              "    background-color: var(--hover-bg-color);\n",
              "    box-shadow: 0 1px 2px rgba(60, 64, 67, 0.3), 0 1px 3px 1px rgba(60, 64, 67, 0.15);\n",
              "    fill: var(--button-hover-fill-color);\n",
              "  }\n",
              "\n",
              "  .colab-df-quickchart-complete:disabled,\n",
              "  .colab-df-quickchart-complete:disabled:hover {\n",
              "    background-color: var(--disabled-bg-color);\n",
              "    fill: var(--disabled-fill-color);\n",
              "    box-shadow: none;\n",
              "  }\n",
              "\n",
              "  .colab-df-spinner {\n",
              "    border: 2px solid var(--fill-color);\n",
              "    border-color: transparent;\n",
              "    border-bottom-color: var(--fill-color);\n",
              "    animation:\n",
              "      spin 1s steps(1) infinite;\n",
              "  }\n",
              "\n",
              "  @keyframes spin {\n",
              "    0% {\n",
              "      border-color: transparent;\n",
              "      border-bottom-color: var(--fill-color);\n",
              "      border-left-color: var(--fill-color);\n",
              "    }\n",
              "    20% {\n",
              "      border-color: transparent;\n",
              "      border-left-color: var(--fill-color);\n",
              "      border-top-color: var(--fill-color);\n",
              "    }\n",
              "    30% {\n",
              "      border-color: transparent;\n",
              "      border-left-color: var(--fill-color);\n",
              "      border-top-color: var(--fill-color);\n",
              "      border-right-color: var(--fill-color);\n",
              "    }\n",
              "    40% {\n",
              "      border-color: transparent;\n",
              "      border-right-color: var(--fill-color);\n",
              "      border-top-color: var(--fill-color);\n",
              "    }\n",
              "    60% {\n",
              "      border-color: transparent;\n",
              "      border-right-color: var(--fill-color);\n",
              "    }\n",
              "    80% {\n",
              "      border-color: transparent;\n",
              "      border-right-color: var(--fill-color);\n",
              "      border-bottom-color: var(--fill-color);\n",
              "    }\n",
              "    90% {\n",
              "      border-color: transparent;\n",
              "      border-bottom-color: var(--fill-color);\n",
              "    }\n",
              "  }\n",
              "</style>\n",
              "\n",
              "  <script>\n",
              "    async function quickchart(key) {\n",
              "      const quickchartButtonEl =\n",
              "        document.querySelector('#' + key + ' button');\n",
              "      quickchartButtonEl.disabled = true;  // To prevent multiple clicks.\n",
              "      quickchartButtonEl.classList.add('colab-df-spinner');\n",
              "      try {\n",
              "        const charts = await google.colab.kernel.invokeFunction(\n",
              "            'suggestCharts', [key], {});\n",
              "      } catch (error) {\n",
              "        console.error('Error during call to suggestCharts:', error);\n",
              "      }\n",
              "      quickchartButtonEl.classList.remove('colab-df-spinner');\n",
              "      quickchartButtonEl.classList.add('colab-df-quickchart-complete');\n",
              "    }\n",
              "    (() => {\n",
              "      let quickchartButtonEl =\n",
              "        document.querySelector('#df-ffd00f5e-770b-432c-94f5-c732776c272e button');\n",
              "      quickchartButtonEl.style.display =\n",
              "        google.colab.kernel.accessAllowed ? 'block' : 'none';\n",
              "    })();\n",
              "  </script>\n",
              "</div>\n",
              "    </div>\n",
              "  </div>\n"
            ]
          },
          "metadata": {},
          "execution_count": 354
        }
      ]
    },
    {
      "cell_type": "markdown",
      "source": [
        "Как мы видим из графика корреляции, многие из признаков сильно коррелируют с остальными. Год и высота сиденья, похоже, являются единственными показателями, не связанными ни с одним из остальных. С другой стороны, объем двигателя, крутящий момент и сухой вес тесно связаны с большинством других характеристик, а это означает, что они не добавляют много информации."
      ],
      "metadata": {
        "id": "toywRRZL-tMA"
      }
    },
    {
      "cell_type": "code",
      "source": [
        "corr_mat = data_raw.corr()\n",
        "plt.subplots(figsize=(12, 5))\n",
        "sns.heatmap(corr_mat, square=True, annot=True, fmt='.2f', vmin=-1, vmax=1, cmap='YlGn')\n",
        "pass"
      ],
      "metadata": {
        "colab": {
          "base_uri": "https://localhost:8080/",
          "height": 576
        },
        "id": "2wm1nIWE4qGX",
        "outputId": "a6561748-8a4b-409d-b3c3-e75e0e3c3892"
      },
      "execution_count": 355,
      "outputs": [
        {
          "output_type": "display_data",
          "data": {
            "text/plain": [
              "<Figure size 1200x500 with 2 Axes>"
            ],
            "image/png": "[encoded data removed]"
          },
          "metadata": {}
        }
      ]
    },
    {
      "cell_type": "markdown",
      "source": [
        "Посмотрим на корреляцию признака Category относительно других (количественных) признаков."
      ],
      "metadata": {
        "id": "kE8OLvFNlJOz"
      }
    },
    {
      "cell_type": "code",
      "source": [
        "from sklearn.preprocessing import LabelEncoder\n",
        "\n",
        "data_encoded = data_raw.copy()\n",
        "le = LabelEncoder()\n",
        "data_encoded['Category_encoded'] = le.fit_transform(data_encoded['Category'])\n",
        "\n",
        "data_encoded.drop('Category_encoded', axis=1).corrwith(data_encoded['Category_encoded']).plot(kind='bar',\n",
        "                                                                 grid=True,\n",
        "                                                                 figsize=(12, 5),\n",
        "                                                                 title=\"Корреляция по отношению к Category\",\n",
        "                                                                 color=\"lightgreen\");\n",
        "pass"
      ],
      "metadata": {
        "colab": {
          "base_uri": "https://localhost:8080/",
          "height": 576
        },
        "id": "z1BLo0CA0x2s",
        "outputId": "bf7f7286-aaa2-4927-b3d8-68083ee92279"
      },
      "execution_count": 356,
      "outputs": [
        {
          "output_type": "display_data",
          "data": {
            "text/plain": [
              "<Figure size 1200x500 with 1 Axes>"
            ],
            "image/png": "[encoded data removed]"
          },
          "metadata": {}
        }
      ]
    },
    {
      "cell_type": "markdown",
      "source": [
        "Интересная картина, получается, что категория мотоцикла очень мало зависит от таких параметров как посадка и диаметр цилиндров в двигателе. Можно было бы убрать их из рассмотрения, но сначала посмотрим как отработает метод главных компонент (позже)."
      ],
      "metadata": {
        "id": "PxyI_O2gnUa9"
      }
    },
    {
      "cell_type": "markdown",
      "source": [
        "# Типизация\n"
      ],
      "metadata": {
        "id": "M9Ga-7kFSBeR"
      }
    },
    {
      "cell_type": "markdown",
      "source": [
        "Заведем список имён столбцов относящихся к категориальному признаку:"
      ],
      "metadata": {
        "id": "RwoKSmiTCi02"
      }
    },
    {
      "cell_type": "code",
      "source": [
        "categories = [\"Category\", \"Engine cylinder\", \"Engine stroke\", \"Gearbox\",\n",
        "              \"Transmission type\", \"Front brakes\", \"Rear brakes\",\n",
        "              \"Front suspension\", \"Rear suspension\", \"Fuel system\",\n",
        "              \"Fuel control\", \"Cooling system\", \"Front tire\", \"Rear tire\", \"Color options\"]"
      ],
      "metadata": {
        "id": "vyWPLvqZCqcm"
      },
      "execution_count": 357,
      "outputs": []
    },
    {
      "cell_type": "markdown",
      "source": [
        "Выведем типы категориальных признаков, видим, что все из них принадлежат типу 'object'."
      ],
      "metadata": {
        "id": "j_rRR5PSBvC3"
      }
    },
    {
      "cell_type": "code",
      "source": [
        "showTypes(categories)"
      ],
      "metadata": {
        "colab": {
          "base_uri": "https://localhost:8080/"
        },
        "id": "8bLPEvho_RwN",
        "outputId": "58a481b9-1eac-48bc-b429-0ebcc1f2277a"
      },
      "execution_count": 358,
      "outputs": [
        {
          "output_type": "stream",
          "name": "stdout",
          "text": [
            "object -> 15\n"
          ]
        }
      ]
    },
    {
      "cell_type": "markdown",
      "source": [
        "Приведем категориальные столбцы к типу 'category'."
      ],
      "metadata": {
        "id": "TyBUVI3FCXfO"
      }
    },
    {
      "cell_type": "code",
      "source": [
        "data = data_raw.copy()"
      ],
      "metadata": {
        "id": "0dthk3AvxTHw"
      },
      "execution_count": 359,
      "outputs": []
    },
    {
      "cell_type": "code",
      "source": [
        "for category in categories:\n",
        "  if data[category].dtype.name != 'category':\n",
        "    data[category] = data[category].astype('category')"
      ],
      "metadata": {
        "id": "RWW0pWHOCW1L"
      },
      "execution_count": 360,
      "outputs": []
    },
    {
      "cell_type": "markdown",
      "source": [
        "Посмотрим на оставшиеся признаки. Год является целочисленным признаком, остальные вещественными."
      ],
      "metadata": {
        "id": "qEZvu7jRgqAa"
      }
    },
    {
      "cell_type": "code",
      "source": [
        "showTypes(data_raw)"
      ],
      "metadata": {
        "colab": {
          "base_uri": "https://localhost:8080/"
        },
        "id": "pA8WedatYttI",
        "outputId": "496debf9-96d7-4e8b-df74-39dd57b9f493"
      },
      "execution_count": 361,
      "outputs": [
        {
          "output_type": "stream",
          "name": "stdout",
          "text": [
            "int64 -> 1\n",
            "object -> 16\n",
            "float64 -> 8\n"
          ]
        }
      ]
    },
    {
      "cell_type": "markdown",
      "source": [
        "Приведем количественные признаки к *numpy.Type* для определенности и фиксации размера."
      ],
      "metadata": {
        "id": "IUifMyXQg_5j"
      }
    },
    {
      "cell_type": "code",
      "source": [
        "type_int = ['Year']\n",
        "type_float = list(set(data.columns) - set(categories) - set(type_int))\n",
        "data_types = {k:np.float64 for k in type_float}\n",
        "data_types['Year'] = np.int32\n",
        "\n",
        "data = data.astype(data_types)\n",
        "\n",
        "# type_float = ['Displacement (ccm)', 'Power (hp)', 'Torque (Nm)',\n",
        "#               'Bore (mm)', 'Stroke (mm)', 'Fuel capacity (lts)',\n",
        "#               'Dry weight (kg)', 'Wheelbase (mm)', 'Seat height (mm)']"
      ],
      "metadata": {
        "id": "P-FpCCZlY5gC"
      },
      "execution_count": 362,
      "outputs": []
    },
    {
      "cell_type": "markdown",
      "source": [
        "# Обработка признаков"
      ],
      "metadata": {
        "id": "bsgpuJzsp5J3"
      }
    },
    {
      "cell_type": "markdown",
      "source": [
        "Большинство из наших категориальных столбцов имеют большое разнообразие вариантов. Это обусловлено различными комбинациями с использованием ключевых слов. Например для *Color options* -> *red, blue, yellow*."
      ],
      "metadata": {
        "id": "lIsv_ID-p89y"
      }
    },
    {
      "cell_type": "markdown",
      "source": [],
      "metadata": {
        "id": "X_uhnmVIsF2h"
      }
    },
    {
      "cell_type": "code",
      "source": [
        "categories = [\"Category\", \"Engine cylinder\", \"Engine stroke\", \"Gearbox\",\n",
        "              \"Transmission type\", \"Front brakes\", \"Rear brakes\",\n",
        "              \"Front suspension\", \"Rear suspension\", \"Fuel system\",\n",
        "              \"Fuel control\", \"Cooling system\", \"Front tire\", \"Rear tire\", \"Color options\"]"
      ],
      "metadata": {
        "id": "VgWasJBesGPQ"
      },
      "execution_count": 363,
      "outputs": []
    },
    {
      "cell_type": "markdown",
      "source": [
        "Организуем список столбцов, с которыми нужно будет провести операцию get_dummies"
      ],
      "metadata": {
        "id": "_VMgahNKdjxL"
      }
    },
    {
      "cell_type": "code",
      "source": [
        "dummies = []"
      ],
      "metadata": {
        "id": "0DqWhsf8dwNw"
      },
      "execution_count": 364,
      "outputs": []
    },
    {
      "cell_type": "markdown",
      "source": [
        "## Engine cylinder"
      ],
      "metadata": {
        "id": "AAkn_7OKsIsr"
      }
    },
    {
      "cell_type": "code",
      "source": [
        "column = 'Engine cylinder'\n",
        "showDiversity(data, column)"
      ],
      "metadata": {
        "colab": {
          "base_uri": "https://localhost:8080/"
        },
        "id": "xhZk-eMFsMjD",
        "outputId": "9b476e6f-c7c5-47be-d12a-dd84382ee678"
      },
      "execution_count": 365,
      "outputs": [
        {
          "output_type": "stream",
          "name": "stdout",
          "text": [
            "Разнообразие признака Engine cylinder: 11 вариантов\n"
          ]
        }
      ]
    },
    {
      "cell_type": "code",
      "source": [
        "data['Engine cylinder'].value_counts()"
      ],
      "metadata": {
        "colab": {
          "base_uri": "https://localhost:8080/"
        },
        "id": "nm2g7ZaK5oUW",
        "outputId": "a20a1535-53e9-4277-df07-14836044623d"
      },
      "execution_count": 366,
      "outputs": [
        {
          "output_type": "execute_result",
          "data": {
            "text/plain": [
              "V2                     680\n",
              "Single cylinder        466\n",
              "Twin                   247\n",
              "In-line three          221\n",
              "In-line four           123\n",
              "Two cylinder boxer      35\n",
              "V4                      35\n",
              "In-line six             28\n",
              "Diesel                   4\n",
              "Six cylinder boxer       4\n",
              "Four cylinder boxer      1\n",
              "Name: Engine cylinder, dtype: int64"
            ]
          },
          "metadata": {},
          "execution_count": 366
        }
      ]
    },
    {
      "cell_type": "code",
      "source": [
        "data[column].value_counts()\n",
        "counts = data.groupby(column).count()\n",
        "series_count = pd.Series(counts.iloc[:,0], index=counts.index)\n",
        "bar_plot_series(series_count)\n",
        "pass"
      ],
      "metadata": {
        "colab": {
          "base_uri": "https://localhost:8080/",
          "height": 520
        },
        "id": "ulni4_1u8NHq",
        "outputId": "cb61711a-57c4-4244-b126-c89c956ebf05"
      },
      "execution_count": 367,
      "outputs": [
        {
          "output_type": "display_data",
          "data": {
            "text/plain": [
              "<Figure size 640x480 with 1 Axes>"
            ],
            "image/png": "[encoded data removed]"
          },
          "metadata": {}
        }
      ]
    },
    {
      "cell_type": "markdown",
      "source": [
        "Названия разные, но суть одна. Twin и V2 имеют по 2 цилинда. Переклассифицируем этот признак на буквально количество цилиндров в двигателе."
      ],
      "metadata": {
        "id": "cYah_tDp8a5c"
      }
    },
    {
      "cell_type": "code",
      "source": [
        "column = 'Engine cylinder amount'\n",
        "data['Engine cylinder amount'] = data.loc[:,'Engine cylinder'].apply(n_cylinders)\n",
        "data.drop(columns=['Engine cylinder'], axis=1, inplace=True)"
      ],
      "metadata": {
        "id": "-YRhTR_x6WtT"
      },
      "execution_count": 368,
      "outputs": []
    },
    {
      "cell_type": "code",
      "source": [
        "data['Engine cylinder amount'].unique()"
      ],
      "metadata": {
        "colab": {
          "base_uri": "https://localhost:8080/"
        },
        "id": "MIQbuL6XeBr4",
        "outputId": "9bd0f8e3-7244-42d0-c687-c10a9792e13e"
      },
      "execution_count": 369,
      "outputs": [
        {
          "output_type": "execute_result",
          "data": {
            "text/plain": [
              "array([1, 2, 4, 3, 6])"
            ]
          },
          "metadata": {},
          "execution_count": 369
        }
      ]
    },
    {
      "cell_type": "markdown",
      "source": [
        "Посмотрим, что получилось."
      ],
      "metadata": {
        "id": "i3JUPS_mA9FW"
      }
    },
    {
      "cell_type": "code",
      "source": [
        "data[column].value_counts()\n",
        "counts = data.groupby(column).count()\n",
        "series_count = pd.Series(counts.iloc[:,0], index=counts.index)\n",
        "bar_plot_series(series_count)\n",
        "pass"
      ],
      "metadata": {
        "colab": {
          "base_uri": "https://localhost:8080/",
          "height": 434
        },
        "id": "nNctogAHAgQ-",
        "outputId": "1368d12a-8fb5-4e19-91b0-53c380fddd13"
      },
      "execution_count": 370,
      "outputs": [
        {
          "output_type": "display_data",
          "data": {
            "text/plain": [
              "<Figure size 640x480 with 1 Axes>"
            ],
            "image/png": "[encoded data removed]"
          },
          "metadata": {}
        }
      ]
    },
    {
      "cell_type": "markdown",
      "source": [
        "## Engine stroke"
      ],
      "metadata": {
        "id": "9deD_cqw0CW8"
      }
    },
    {
      "cell_type": "code",
      "source": [
        "column = 'Engine stroke'\n",
        "data[column].value_counts()"
      ],
      "metadata": {
        "colab": {
          "base_uri": "https://localhost:8080/"
        },
        "id": "uqpA8erSETPL",
        "outputId": "9ed7cb67-c550-4ef6-bc2e-6b0e6f19bc9a"
      },
      "execution_count": 371,
      "outputs": [
        {
          "output_type": "execute_result",
          "data": {
            "text/plain": [
              " four-stroke    1811\n",
              " two-stroke       29\n",
              "Diesel             4\n",
              "Name: Engine stroke, dtype: int64"
            ]
          },
          "metadata": {},
          "execution_count": 371
        }
      ]
    },
    {
      "cell_type": "markdown",
      "source": [
        "Получилось так, что *four-strike* занимает абсолютную часть вариантов. Бинаризируем столбец: 1 - 4-ех тактный двигатель, 0 - 2-ух тактный двигатель."
      ],
      "metadata": {
        "id": "1ktzAbg30ZMh"
      }
    },
    {
      "cell_type": "code",
      "source": [
        "lb = LabelBinarizer()\n",
        "data['Engine stroke'] = lb.fit_transform(data['Engine stroke'])\n",
        "data[column].value_counts()"
      ],
      "metadata": {
        "colab": {
          "base_uri": "https://localhost:8080/"
        },
        "id": "pWGMv6jWIaQ_",
        "outputId": "b916948d-2265-4408-9f33-63acfeee6de3"
      },
      "execution_count": 372,
      "outputs": [
        {
          "output_type": "execute_result",
          "data": {
            "text/plain": [
              "1    1811\n",
              "0      33\n",
              "Name: Engine stroke, dtype: int64"
            ]
          },
          "metadata": {},
          "execution_count": 372
        }
      ]
    },
    {
      "cell_type": "markdown",
      "source": [
        "## Fuel system"
      ],
      "metadata": {
        "id": "VmTkk7ST01XJ"
      }
    },
    {
      "cell_type": "code",
      "source": [
        "column = 'Fuel system'\n",
        "showDiversity(data, column)"
      ],
      "metadata": {
        "colab": {
          "base_uri": "https://localhost:8080/"
        },
        "id": "YJ8UZATK1wxc",
        "outputId": "38c57a84-22fc-4f54-a156-d4449d2dda39"
      },
      "execution_count": 373,
      "outputs": [
        {
          "output_type": "stream",
          "name": "stdout",
          "text": [
            "Разнообразие признака Fuel system: 337 вариантов\n"
          ]
        }
      ]
    },
    {
      "cell_type": "markdown",
      "source": [
        "Каждая запись представляет собой текстовое описание, где имеется уникальных именований. Описание включает числовые значения, обозначающие размеры деталей, названия торговых марок, распространённые союзы и т. д. Но есть две основных группы, инжекторная и карбюраторная системы подачи топлива. Разделим их по этому признаку и организуем два новых столбца Injection fuel system и Carburettor fuel system."
      ],
      "metadata": {
        "id": "30gO3a7D1-6N"
      }
    },
    {
      "cell_type": "code",
      "source": [
        "data['Carburettor fuel system'] = data[column].str.contains('Carburettor')\n",
        "data['Injection fuel system'] = data[column].str.contains('Injection')\n",
        "\n",
        "# Set the values of the new columns to 1 or 0\n",
        "data['Carburettor fuel system'] = data['Carburettor fuel system'].astype('int8')\n",
        "data['Injection fuel system'] = data['Injection fuel system'].astype('int8')\n",
        "\n",
        "# Drop old column\n",
        "data.drop(columns=[column], axis=1, inplace=True)"
      ],
      "metadata": {
        "id": "K86PvBVY3Kv6"
      },
      "execution_count": 374,
      "outputs": []
    },
    {
      "cell_type": "markdown",
      "source": [
        "## Fuel control"
      ],
      "metadata": {
        "id": "J26ezzWu7nh2"
      }
    },
    {
      "cell_type": "code",
      "source": [
        "column = 'Fuel control'\n",
        "data[column].value_counts()"
      ],
      "metadata": {
        "colab": {
          "base_uri": "https://localhost:8080/"
        },
        "id": "OGd_FoDM7rk_",
        "outputId": "4c34a592-8f91-44a5-a36a-4da9ea8c8401"
      },
      "execution_count": 375,
      "outputs": [
        {
          "output_type": "execute_result",
          "data": {
            "text/plain": [
              "Double Overhead Cams/Twin Cam (DOHC)    981\n",
              "Single Overhead Cams (SOHC)             381\n",
              "Desmodromic valve control               262\n",
              "Overhead Valves (OHV)                   105\n",
              "Overhead Cams (OHC)                      99\n",
              "Pushrods                                 12\n",
              "Membrane                                  2\n",
              "Membrane & power valve                    1\n",
              "Port control                              1\n",
              "Name: Fuel control, dtype: int64"
            ]
          },
          "metadata": {},
          "execution_count": 375
        }
      ]
    },
    {
      "cell_type": "markdown",
      "source": [
        "Можно видеть несколько малочисленных групп в *Fuel control*. Выделим их в отдельную группу others."
      ],
      "metadata": {
        "id": "0ogwzkHpKZD7"
      }
    },
    {
      "cell_type": "code",
      "source": [
        "counts = data[column].value_counts()\n",
        "rare_values = counts[counts <= 10].index\n",
        "data[column] = data[column].cat.add_categories('others')\n",
        "data.loc[data[column].isin(rare_values), column] = 'others'\n",
        "\n",
        "# Clear\n",
        "categories = data[column].cat.categories\n",
        "categories = [category for category in categories if data[column].value_counts()[category] != 0]\n",
        "data[column] = data[column].cat.set_categories(categories)\n",
        "data[column].value_counts()"
      ],
      "metadata": {
        "colab": {
          "base_uri": "https://localhost:8080/"
        },
        "id": "4eozY44t03Ld",
        "outputId": "5fedcda3-035f-4e9e-b0db-f5e355f385b5"
      },
      "execution_count": 376,
      "outputs": [
        {
          "output_type": "execute_result",
          "data": {
            "text/plain": [
              "Double Overhead Cams/Twin Cam (DOHC)    981\n",
              "Single Overhead Cams (SOHC)             381\n",
              "Desmodromic valve control               262\n",
              "Overhead Valves (OHV)                   105\n",
              "Overhead Cams (OHC)                      99\n",
              "Pushrods                                 12\n",
              "others                                    4\n",
              "Name: Fuel control, dtype: int64"
            ]
          },
          "metadata": {},
          "execution_count": 376
        }
      ]
    },
    {
      "cell_type": "markdown",
      "source": [
        "Образуем новые столбцы соответствующие этим вариантам."
      ],
      "metadata": {
        "id": "wkO3sSMHcX8I"
      }
    },
    {
      "cell_type": "code",
      "source": [
        "dummies.append(column)"
      ],
      "metadata": {
        "id": "hZBX07Nmca6Y"
      },
      "execution_count": 377,
      "outputs": []
    },
    {
      "cell_type": "markdown",
      "source": [
        "## Gearbox"
      ],
      "metadata": {
        "id": "G9X0Ubcxg6N7"
      }
    },
    {
      "cell_type": "markdown",
      "source": [
        "Изначально не очень понятно к какой категории отнести автоматическую коробку передач. В смысле переключения передач вручную, это 0. А в смысле количества передач всё неоднозначно. Поэтому сделаем тот же трюк с dummies."
      ],
      "metadata": {
        "id": "QGqX4SClg9S3"
      }
    },
    {
      "cell_type": "code",
      "source": [
        "column = 'Gearbox'\n",
        "data['Gearbox'].value_counts()"
      ],
      "metadata": {
        "colab": {
          "base_uri": "https://localhost:8080/"
        },
        "id": "lng0rquIhZKL",
        "outputId": "64dcf725-edda-43cd-945f-3061345672ee"
      },
      "execution_count": 378,
      "outputs": [
        {
          "output_type": "execute_result",
          "data": {
            "text/plain": [
              "6-speed      1212\n",
              "5-speed       402\n",
              "Automatic     187\n",
              "4-speed        40\n",
              "3-speed         3\n",
              "Name: Gearbox, dtype: int64"
            ]
          },
          "metadata": {},
          "execution_count": 378
        }
      ]
    },
    {
      "cell_type": "code",
      "source": [
        "dummies.append(column)"
      ],
      "metadata": {
        "id": "fkiA63kjhXzq"
      },
      "execution_count": 379,
      "outputs": []
    },
    {
      "cell_type": "markdown",
      "source": [
        "## Cooling system"
      ],
      "metadata": {
        "id": "CABfvBP820aG"
      }
    },
    {
      "cell_type": "code",
      "source": [
        "column = 'Cooling system'\n",
        "data[column].value_counts()"
      ],
      "metadata": {
        "colab": {
          "base_uri": "https://localhost:8080/"
        },
        "id": "8q5qKTQS210s",
        "outputId": "38a66481-c740-478b-fb87-3e1c1a895fe4"
      },
      "execution_count": 380,
      "outputs": [
        {
          "output_type": "execute_result",
          "data": {
            "text/plain": [
              "Liquid       1074\n",
              "Air           550\n",
              "Oil & air     220\n",
              "Name: Cooling system, dtype: int64"
            ]
          },
          "metadata": {},
          "execution_count": 380
        }
      ]
    },
    {
      "cell_type": "markdown",
      "source": [
        "Не так много вариантов охлаждения придумали."
      ],
      "metadata": {
        "id": "7WWGuvXjLDc0"
      }
    },
    {
      "cell_type": "code",
      "source": [
        "dummies.append(column)"
      ],
      "metadata": {
        "id": "NbmYnZa84x85"
      },
      "execution_count": 381,
      "outputs": []
    },
    {
      "cell_type": "markdown",
      "source": [
        "## Transmission type"
      ],
      "metadata": {
        "id": "v4Vq1ZfCLUC-"
      }
    },
    {
      "cell_type": "markdown",
      "source": [
        "С трансмиссией та же самая история."
      ],
      "metadata": {
        "id": "75jfYjmdLbl2"
      }
    },
    {
      "cell_type": "code",
      "source": [
        "column = 'Transmission type'\n",
        "data[column].value_counts()"
      ],
      "metadata": {
        "colab": {
          "base_uri": "https://localhost:8080/"
        },
        "id": "194v-LTALfRN",
        "outputId": "07f9d2ad-1743-4c77-a1a5-50b5670f6df3"
      },
      "execution_count": 382,
      "outputs": [
        {
          "output_type": "execute_result",
          "data": {
            "text/plain": [
              "Chain          1185\n",
              "Belt            417\n",
              "Shaft drive     242\n",
              "Name: Transmission type, dtype: int64"
            ]
          },
          "metadata": {},
          "execution_count": 382
        }
      ]
    },
    {
      "cell_type": "code",
      "source": [
        "dummies.append(column)"
      ],
      "metadata": {
        "id": "4npSPFdWLreA"
      },
      "execution_count": 383,
      "outputs": []
    },
    {
      "cell_type": "markdown",
      "source": [
        "## Brakes"
      ],
      "metadata": {
        "id": "BmWCo77MMBr-"
      }
    },
    {
      "cell_type": "markdown",
      "source": [
        "Тормоза существуют разных фирм и брендов. В их именах втречаются общие ключевые слова, характеризующие технические характеристики. Тормоза могут быть барабанные (drum) и дисковые. Дисковые тормоза могут быть как с одним так и с двумя дисками по разные стороны колеса (n_disks). Дисковые тормоза могут иметь разное количество поршней, отвечающий за сжатие суппортом диска (n_pistons). Тормозная система может обладать антиблокировачной системой (abs). Устройство тормозов чуть сложнее, но остановимся на этих ключевых аспектах."
      ],
      "metadata": {
        "id": "wprf2-HMNNVf"
      }
    },
    {
      "cell_type": "code",
      "source": [
        "column, key_word = 'Front brakes', 'front'\n",
        "# dwdaw = data[column].unique()\n",
        "# for i in range(len(dwdaw)):\n",
        "#   print(dwdaw[i])"
      ],
      "metadata": {
        "id": "sthdA50vMFio"
      },
      "execution_count": 384,
      "outputs": []
    },
    {
      "cell_type": "markdown",
      "source": [
        "Создадим новый столбец характеристик, где каждая строка будет иметь числовое значение в зависимости от того, встречается ли ключевое слово в описании ее тормозной системы.\n",
        "\n",
        "Это нужно сделать как для передних торомозов, так и для задних тормозов."
      ],
      "metadata": {
        "id": "0BL7qYnlhLfO"
      }
    },
    {
      "cell_type": "code",
      "source": [
        "brakes_build(data, column, key_word)"
      ],
      "metadata": {
        "id": "EFpY98XUQSh4"
      },
      "execution_count": 385,
      "outputs": []
    },
    {
      "cell_type": "markdown",
      "source": [
        "В итоге получаем четыре новых столбца для передних тормозов: наличие abs системы, количество дисков (в случае барабанного тормоза 0), дисковый ли тормоз и число поршней."
      ],
      "metadata": {
        "id": "DHbDLUZii_JQ"
      }
    },
    {
      "cell_type": "code",
      "source": [
        "data.iloc[:, -9:].head()"
      ],
      "metadata": {
        "colab": {
          "base_uri": "https://localhost:8080/",
          "height": 434
        },
        "id": "stmI1z3diqug",
        "outputId": "2f51c0ef-eb75-438e-c8e7-55fff9a3b812"
      },
      "execution_count": 386,
      "outputs": [
        {
          "output_type": "execute_result",
          "data": {
            "text/plain": [
              "                Rear suspension         Color options  Engine cylinder amount  \\\n",
              "170  Dual-damper unit swing arm    Grey, Black, White                       1   \n",
              "226  Dual-damper unit swing arm  White, black, silver                       1   \n",
              "227  Dual-damper unit swing arm  White, black, silver                       1   \n",
              "332     Ollé progressive system             White/red                       1   \n",
              "350     Ollé progressive system        White/red/grey                       1   \n",
              "\n",
              "     Carburettor fuel system  Injection fuel system  n_disks_front  \\\n",
              "170                        0                      1              1   \n",
              "226                        0                      1              1   \n",
              "227                        0                      1              1   \n",
              "332                        1                      0              1   \n",
              "350                        1                      0              1   \n",
              "\n",
              "     has_front_disk  n_pistons_front  abs_front  \n",
              "170               1              1.0        0.0  \n",
              "226               1              1.0        0.0  \n",
              "227               1              1.0        0.0  \n",
              "332               1              1.0        0.0  \n",
              "350               1              2.0        0.0  "
            ],
            "text/html": [
              "\n",
              "  <div id=\"df-1681b442-8c66-49d4-a630-78d6e41b469c\" class=\"colab-df-container\">\n",
              "    <div>\n",
              "<style scoped>\n",
              "    .dataframe tbody tr th:only-of-type {\n",
              "        vertical-align: middle;\n",
              "    }\n",
              "\n",
              "    .dataframe tbody tr th {\n",
              "        vertical-align: top;\n",
              "    }\n",
              "\n",
              "    .dataframe thead th {\n",
              "        text-align: right;\n",
              "    }\n",
              "</style>\n",
              "<table border=\"1\" class=\"dataframe\">\n",
              "  <thead>\n",
              "    <tr style=\"text-align: right;\">\n",
              "      <th></th>\n",
              "      <th>Rear suspension</th>\n",
              "      <th>Color options</th>\n",
              "      <th>Engine cylinder amount</th>\n",
              "      <th>Carburettor fuel system</th>\n",
              "      <th>Injection fuel system</th>\n",
              "      <th>n_disks_front</th>\n",
              "      <th>has_front_disk</th>\n",
              "      <th>n_pistons_front</th>\n",
              "      <th>abs_front</th>\n",
              "    </tr>\n",
              "  </thead>\n",
              "  <tbody>\n",
              "    <tr>\n",
              "      <th>170</th>\n",
              "      <td>Dual-damper unit swing arm</td>\n",
              "      <td>Grey, Black, White</td>\n",
              "      <td>1</td>\n",
              "      <td>0</td>\n",
              "      <td>1</td>\n",
              "      <td>1</td>\n",
              "      <td>1</td>\n",
              "      <td>1.0</td>\n",
              "      <td>0.0</td>\n",
              "    </tr>\n",
              "    <tr>\n",
              "      <th>226</th>\n",
              "      <td>Dual-damper unit swing arm</td>\n",
              "      <td>White, black, silver</td>\n",
              "      <td>1</td>\n",
              "      <td>0</td>\n",
              "      <td>1</td>\n",
              "      <td>1</td>\n",
              "      <td>1</td>\n",
              "      <td>1.0</td>\n",
              "      <td>0.0</td>\n",
              "    </tr>\n",
              "    <tr>\n",
              "      <th>227</th>\n",
              "      <td>Dual-damper unit swing arm</td>\n",
              "      <td>White, black, silver</td>\n",
              "      <td>1</td>\n",
              "      <td>0</td>\n",
              "      <td>1</td>\n",
              "      <td>1</td>\n",
              "      <td>1</td>\n",
              "      <td>1.0</td>\n",
              "      <td>0.0</td>\n",
              "    </tr>\n",
              "    <tr>\n",
              "      <th>332</th>\n",
              "      <td>Ollé progressive system</td>\n",
              "      <td>White/red</td>\n",
              "      <td>1</td>\n",
              "      <td>1</td>\n",
              "      <td>0</td>\n",
              "      <td>1</td>\n",
              "      <td>1</td>\n",
              "      <td>1.0</td>\n",
              "      <td>0.0</td>\n",
              "    </tr>\n",
              "    <tr>\n",
              "      <th>350</th>\n",
              "      <td>Ollé progressive system</td>\n",
              "      <td>White/red/grey</td>\n",
              "      <td>1</td>\n",
              "      <td>1</td>\n",
              "      <td>0</td>\n",
              "      <td>1</td>\n",
              "      <td>1</td>\n",
              "      <td>2.0</td>\n",
              "      <td>0.0</td>\n",
              "    </tr>\n",
              "  </tbody>\n",
              "</table>\n",
              "</div>\n",
              "    <div class=\"colab-df-buttons\">\n",
              "\n",
              "  <div class=\"colab-df-container\">\n",
              "    <button class=\"colab-df-convert\" onclick=\"convertToInteractive('df-1681b442-8c66-49d4-a630-78d6e41b469c')\"\n",
              "            title=\"Convert this dataframe to an interactive table.\"\n",
              "            style=\"display:none;\">\n",
              "\n",
              "  <svg xmlns=\"http://www.w3.org/2000/svg\" height=\"24px\" viewBox=\"0 -960 960 960\">\n",
              "    <path d=\"M120-120v-720h720v720H120Zm60-500h600v-160H180v160Zm220 220h160v-160H400v160Zm0 220h160v-160H400v160ZM180-400h160v-160H180v160Zm440 0h160v-160H620v160ZM180-180h160v-160H180v160Zm440 0h160v-160H620v160Z\"/>\n",
              "  </svg>\n",
              "    </button>\n",
              "\n",
              "  <style>\n",
              "    .colab-df-container {\n",
              "      display:flex;\n",
              "      gap: 12px;\n",
              "    }\n",
              "\n",
              "    .colab-df-convert {\n",
              "      background-color: #E8F0FE;\n",
              "      border: none;\n",
              "      border-radius: 50%;\n",
              "      cursor: pointer;\n",
              "      display: none;\n",
              "      fill: #1967D2;\n",
              "      height: 32px;\n",
              "      padding: 0 0 0 0;\n",
              "      width: 32px;\n",
              "    }\n",
              "\n",
              "    .colab-df-convert:hover {\n",
              "      background-color: #E2EBFA;\n",
              "      box-shadow: 0px 1px 2px rgba(60, 64, 67, 0.3), 0px 1px 3px 1px rgba(60, 64, 67, 0.15);\n",
              "      fill: #174EA6;\n",
              "    }\n",
              "\n",
              "    .colab-df-buttons div {\n",
              "      margin-bottom: 4px;\n",
              "    }\n",
              "\n",
              "    [theme=dark] .colab-df-convert {\n",
              "      background-color: #3B4455;\n",
              "      fill: #D2E3FC;\n",
              "    }\n",
              "\n",
              "    [theme=dark] .colab-df-convert:hover {\n",
              "      background-color: #434B5C;\n",
              "      box-shadow: 0px 1px 3px 1px rgba(0, 0, 0, 0.15);\n",
              "      filter: drop-shadow(0px 1px 2px rgba(0, 0, 0, 0.3));\n",
              "      fill: #FFFFFF;\n",
              "    }\n",
              "  </style>\n",
              "\n",
              "    <script>\n",
              "      const buttonEl =\n",
              "        document.querySelector('#df-1681b442-8c66-49d4-a630-78d6e41b469c button.colab-df-convert');\n",
              "      buttonEl.style.display =\n",
              "        google.colab.kernel.accessAllowed ? 'block' : 'none';\n",
              "\n",
              "      async function convertToInteractive(key) {\n",
              "        const element = document.querySelector('#df-1681b442-8c66-49d4-a630-78d6e41b469c');\n",
              "        const dataTable =\n",
              "          await google.colab.kernel.invokeFunction('convertToInteractive',\n",
              "                                                    [key], {});\n",
              "        if (!dataTable) return;\n",
              "\n",
              "        const docLinkHtml = 'Like what you see? Visit the ' +\n",
              "          '<a target=\"_blank\" href=https://colab.research.google.com/notebooks/data_table.ipynb>data table notebook</a>'\n",
              "          + ' to learn more about interactive tables.';\n",
              "        element.innerHTML = '';\n",
              "        dataTable['output_type'] = 'display_data';\n",
              "        await google.colab.output.renderOutput(dataTable, element);\n",
              "        const docLink = document.createElement('div');\n",
              "        docLink.innerHTML = docLinkHtml;\n",
              "        element.appendChild(docLink);\n",
              "      }\n",
              "    </script>\n",
              "  </div>\n",
              "\n",
              "\n",
              "<div id=\"df-8876273d-42b4-4a58-98af-7eb0a9440c2f\">\n",
              "  <button class=\"colab-df-quickchart\" onclick=\"quickchart('df-8876273d-42b4-4a58-98af-7eb0a9440c2f')\"\n",
              "            title=\"Suggest charts\"\n",
              "            style=\"display:none;\">\n",
              "\n",
              "<svg xmlns=\"http://www.w3.org/2000/svg\" height=\"24px\"viewBox=\"0 0 24 24\"\n",
              "     width=\"24px\">\n",
              "    <g>\n",
              "        <path d=\"M19 3H5c-1.1 0-2 .9-2 2v14c0 1.1.9 2 2 2h14c1.1 0 2-.9 2-2V5c0-1.1-.9-2-2-2zM9 17H7v-7h2v7zm4 0h-2V7h2v10zm4 0h-2v-4h2v4z\"/>\n",
              "    </g>\n",
              "</svg>\n",
              "  </button>\n",
              "\n",
              "<style>\n",
              "  .colab-df-quickchart {\n",
              "      --bg-color: #E8F0FE;\n",
              "      --fill-color: #1967D2;\n",
              "      --hover-bg-color: #E2EBFA;\n",
              "      --hover-fill-color: #174EA6;\n",
              "      --disabled-fill-color: #AAA;\n",
              "      --disabled-bg-color: #DDD;\n",
              "  }\n",
              "\n",
              "  [theme=dark] .colab-df-quickchart {\n",
              "      --bg-color: #3B4455;\n",
              "      --fill-color: #D2E3FC;\n",
              "      --hover-bg-color: #434B5C;\n",
              "      --hover-fill-color: #FFFFFF;\n",
              "      --disabled-bg-color: #3B4455;\n",
              "      --disabled-fill-color: #666;\n",
              "  }\n",
              "\n",
              "  .colab-df-quickchart {\n",
              "    background-color: var(--bg-color);\n",
              "    border: none;\n",
              "    border-radius: 50%;\n",
              "    cursor: pointer;\n",
              "    display: none;\n",
              "    fill: var(--fill-color);\n",
              "    height: 32px;\n",
              "    padding: 0;\n",
              "    width: 32px;\n",
              "  }\n",
              "\n",
              "  .colab-df-quickchart:hover {\n",
              "    background-color: var(--hover-bg-color);\n",
              "    box-shadow: 0 1px 2px rgba(60, 64, 67, 0.3), 0 1px 3px 1px rgba(60, 64, 67, 0.15);\n",
              "    fill: var(--button-hover-fill-color);\n",
              "  }\n",
              "\n",
              "  .colab-df-quickchart-complete:disabled,\n",
              "  .colab-df-quickchart-complete:disabled:hover {\n",
              "    background-color: var(--disabled-bg-color);\n",
              "    fill: var(--disabled-fill-color);\n",
              "    box-shadow: none;\n",
              "  }\n",
              "\n",
              "  .colab-df-spinner {\n",
              "    border: 2px solid var(--fill-color);\n",
              "    border-color: transparent;\n",
              "    border-bottom-color: var(--fill-color);\n",
              "    animation:\n",
              "      spin 1s steps(1) infinite;\n",
              "  }\n",
              "\n",
              "  @keyframes spin {\n",
              "    0% {\n",
              "      border-color: transparent;\n",
              "      border-bottom-color: var(--fill-color);\n",
              "      border-left-color: var(--fill-color);\n",
              "    }\n",
              "    20% {\n",
              "      border-color: transparent;\n",
              "      border-left-color: var(--fill-color);\n",
              "      border-top-color: var(--fill-color);\n",
              "    }\n",
              "    30% {\n",
              "      border-color: transparent;\n",
              "      border-left-color: var(--fill-color);\n",
              "      border-top-color: var(--fill-color);\n",
              "      border-right-color: var(--fill-color);\n",
              "    }\n",
              "    40% {\n",
              "      border-color: transparent;\n",
              "      border-right-color: var(--fill-color);\n",
              "      border-top-color: var(--fill-color);\n",
              "    }\n",
              "    60% {\n",
              "      border-color: transparent;\n",
              "      border-right-color: var(--fill-color);\n",
              "    }\n",
              "    80% {\n",
              "      border-color: transparent;\n",
              "      border-right-color: var(--fill-color);\n",
              "      border-bottom-color: var(--fill-color);\n",
              "    }\n",
              "    90% {\n",
              "      border-color: transparent;\n",
              "      border-bottom-color: var(--fill-color);\n",
              "    }\n",
              "  }\n",
              "</style>\n",
              "\n",
              "  <script>\n",
              "    async function quickchart(key) {\n",
              "      const quickchartButtonEl =\n",
              "        document.querySelector('#' + key + ' button');\n",
              "      quickchartButtonEl.disabled = true;  // To prevent multiple clicks.\n",
              "      quickchartButtonEl.classList.add('colab-df-spinner');\n",
              "      try {\n",
              "        const charts = await google.colab.kernel.invokeFunction(\n",
              "            'suggestCharts', [key], {});\n",
              "      } catch (error) {\n",
              "        console.error('Error during call to suggestCharts:', error);\n",
              "      }\n",
              "      quickchartButtonEl.classList.remove('colab-df-spinner');\n",
              "      quickchartButtonEl.classList.add('colab-df-quickchart-complete');\n",
              "    }\n",
              "    (() => {\n",
              "      let quickchartButtonEl =\n",
              "        document.querySelector('#df-8876273d-42b4-4a58-98af-7eb0a9440c2f button');\n",
              "      quickchartButtonEl.style.display =\n",
              "        google.colab.kernel.accessAllowed ? 'block' : 'none';\n",
              "    })();\n",
              "  </script>\n",
              "</div>\n",
              "    </div>\n",
              "  </div>\n"
            ]
          },
          "metadata": {},
          "execution_count": 386
        }
      ]
    },
    {
      "cell_type": "markdown",
      "source": [
        "Проделаем то же самое с задними тормозами, но с одним нюансом."
      ],
      "metadata": {
        "id": "88jPYlUorl7L"
      }
    },
    {
      "cell_type": "code",
      "source": [
        "column, key_word = 'Rear brakes', 'rear'\n",
        "brakes_build(data, column, key_word)"
      ],
      "metadata": {
        "id": "SLEL1zsjlyBM"
      },
      "execution_count": 387,
      "outputs": []
    },
    {
      "cell_type": "markdown",
      "source": [
        "А теперь нюанс. Заменим столбцы с признаком наличия антиблокировочной системы для разных осей мотоцикла, на один столбец отвечающий на вопрос, есть ли вообще ABS на мотоцикле."
      ],
      "metadata": {
        "id": "lptXgmtStX3y"
      }
    },
    {
      "cell_type": "code",
      "source": [
        "data['abs'] = data[['abs_front', 'abs_rear']].max(axis=1)\n",
        "data.drop('abs_front', axis=1, inplace=True)\n",
        "data.drop('abs_rear', axis=1, inplace=True)"
      ],
      "metadata": {
        "id": "S52Q0ejJtapo"
      },
      "execution_count": 388,
      "outputs": []
    },
    {
      "cell_type": "markdown",
      "source": [
        "Ну и осталось только удалить обработанные *Front brakes* и *Rear brakes*."
      ],
      "metadata": {
        "id": "WVvr-YlCSQya"
      }
    },
    {
      "cell_type": "code",
      "source": [
        "data.drop(columns=['Front brakes'], axis=1, inplace=True)\n",
        "data.drop(columns=['Rear brakes'], axis=1, inplace=True)"
      ],
      "metadata": {
        "id": "IA1709tBu7A4"
      },
      "execution_count": 389,
      "outputs": []
    },
    {
      "cell_type": "markdown",
      "source": [
        "## Tires"
      ],
      "metadata": {
        "id": "h09KFj0EvmoP"
      }
    },
    {
      "cell_type": "markdown",
      "source": [
        "Информация о шинах предоставляется в трех возможных форматах: международном стандарте, цифровом и буквенно-цифровом. Регулярные выражения — идеальный инструмент для извлечения информации в данном случае.\n",
        "\n",
        "Для шин можно извлечь следующие характеристики: ширину, высоту, индекс скорости, тип конструкции, диаметр и формат маркировки. Остальные значения Nan были заполнены в соответствии с разными критериями."
      ],
      "metadata": {
        "id": "UKNWuBR5wu6H"
      }
    },
    {
      "cell_type": "code",
      "source": [
        "column, key_word = 'Front tire', 'front'\n",
        "data = tyres_columns(data, column, key_word)"
      ],
      "metadata": {
        "id": "xe3L1Z6HxNWI"
      },
      "execution_count": 390,
      "outputs": []
    },
    {
      "cell_type": "code",
      "source": [
        "tires_build(data, key_word)"
      ],
      "metadata": {
        "id": "IJJ9W8eAIABY"
      },
      "execution_count": 391,
      "outputs": []
    },
    {
      "cell_type": "code",
      "source": [
        "column, key_word = 'Rear tire', 'rear'\n",
        "data = tyres_columns(data, column, key_word)"
      ],
      "metadata": {
        "id": "cojuOStBBM3q"
      },
      "execution_count": 392,
      "outputs": []
    },
    {
      "cell_type": "code",
      "source": [
        "tires_build(data, key_word)"
      ],
      "metadata": {
        "id": "XJMr16L9OZlu"
      },
      "execution_count": 393,
      "outputs": []
    },
    {
      "cell_type": "code",
      "source": [
        "data.drop(columns = ['Front tire', 'Rear tire'], axis=1, inplace=True)\n",
        "data.columns"
      ],
      "metadata": {
        "colab": {
          "base_uri": "https://localhost:8080/"
        },
        "id": "kpde0Q_yDBiY",
        "outputId": "1162310c-2ec7-4922-dafa-4e6946fed3c5"
      },
      "execution_count": 394,
      "outputs": [
        {
          "output_type": "execute_result",
          "data": {
            "text/plain": [
              "Index(['Year', 'Category', 'Displacement (ccm)', 'Power (hp)', 'Torque (Nm)',\n",
              "       'Engine stroke', 'Gearbox', 'Bore (mm)', 'Stroke (mm)',\n",
              "       'Fuel capacity (lts)', 'Fuel control', 'Cooling system',\n",
              "       'Transmission type', 'Dry weight (kg)', 'Wheelbase (mm)',\n",
              "       'Seat height (mm)', 'Front suspension', 'Rear suspension',\n",
              "       'Color options', 'Engine cylinder amount', 'Carburettor fuel system',\n",
              "       'Injection fuel system', 'n_disks_front', 'has_front_disk',\n",
              "       'n_pistons_front', 'n_disks_rear', 'has_rear_disk', 'n_pistons_rear',\n",
              "       'abs', 'front_tire_width', 'front_tire_height', 'front_tire_diameter',\n",
              "       'fronttire_speed', 'front_tire_construction_B',\n",
              "       'front_tire_label_format_I', 'front_tire_label_format_N',\n",
              "       'front_tire_label_format_A', 'rear_tire_width', 'rear_tire_height',\n",
              "       'rear_tire_diameter', 'reartire_speed', 'rear_tire_construction_B',\n",
              "       'rear_tire_label_format_I', 'rear_tire_label_format_N',\n",
              "       'rear_tire_label_format_A'],\n",
              "      dtype='object')"
            ]
          },
          "metadata": {},
          "execution_count": 394
        }
      ]
    },
    {
      "cell_type": "markdown",
      "source": [
        "## Color options"
      ],
      "metadata": {
        "id": "LmEXtheUlgYz"
      }
    },
    {
      "cell_type": "markdown",
      "source": [
        "Изначально идея классификации мотоциклов подразумевала использование технических характеристик двухколесных аппаратов. Поэтому цвет  стоит убрать из рассмотрения."
      ],
      "metadata": {
        "id": "CVUkFE_TlsLI"
      }
    },
    {
      "cell_type": "code",
      "source": [
        "data.drop(columns=['Color options'], axis=1, inplace=True)"
      ],
      "metadata": {
        "id": "biXNhdQglwJk"
      },
      "execution_count": 395,
      "outputs": []
    },
    {
      "cell_type": "markdown",
      "source": [
        "## Suspension"
      ],
      "metadata": {
        "id": "zOowLjj5Pbaq"
      }
    },
    {
      "cell_type": "markdown",
      "source": [
        "Вытащить и сформировать группы по подвеске будет мягко говоря тяжело, опустим этот момент. Удалим столбец."
      ],
      "metadata": {
        "id": "6MsP31pvPfKD"
      }
    },
    {
      "cell_type": "code",
      "source": [
        "data.drop(columns=['Front suspension'], axis=1, inplace=True)\n",
        "data.drop(columns=['Rear suspension'], axis=1, inplace=True)"
      ],
      "metadata": {
        "id": "qAgZrBj9R1sm"
      },
      "execution_count": 396,
      "outputs": []
    },
    {
      "cell_type": "markdown",
      "source": [
        "# Dummies\n"
      ],
      "metadata": {
        "id": "-1kPEab2fczx"
      }
    },
    {
      "cell_type": "markdown",
      "source": [
        "Добавим новые столбцы со значениями 0 или 1 в зависимости от вхождения в изначальный столбец. Который мы благополучно удалим."
      ],
      "metadata": {
        "id": "4ZPInDn7fgcc"
      }
    },
    {
      "cell_type": "code",
      "source": [
        "data = pd.get_dummies(data, columns = dummies)"
      ],
      "metadata": {
        "id": "EMGmLZtefflT"
      },
      "execution_count": 397,
      "outputs": []
    },
    {
      "cell_type": "markdown",
      "source": [
        "# Нормализация"
      ],
      "metadata": {
        "id": "6hnOfZPyVooq"
      }
    },
    {
      "cell_type": "markdown",
      "source": [
        "Для лучшей работы многих алгоритмов машинного обучений необходима нормализация данных. Воспользуемся стандартным способом - линейным преобразованием, приводящем все значения к нулевому среднему и единичному среднеквадратичному отклонению."
      ],
      "metadata": {
        "id": "rj4SqSNHWwrD"
      }
    },
    {
      "cell_type": "code",
      "source": [
        "numb_categories = list(data_types.keys())\n",
        "data[numb_categories] = (data[numb_categories] - data[numb_categories].mean(axis = 0))/data[numb_categories].std(axis = 0)\n",
        "data.describe()"
      ],
      "metadata": {
        "colab": {
          "base_uri": "https://localhost:8080/",
          "height": 384
        },
        "id": "rhIUNv_lXKsn",
        "outputId": "b36e2ce8-0cca-426d-8685-fd4cb1765d4b"
      },
      "execution_count": 398,
      "outputs": [
        {
          "output_type": "execute_result",
          "data": {
            "text/plain": [
              "               Year  Displacement (ccm)    Power (hp)   Torque (Nm)  \\\n",
              "count  1.844000e+03        1.844000e+03  1.844000e+03  1.844000e+03   \n",
              "mean   1.530518e-14        1.233046e-16  1.078915e-16 -1.078915e-16   \n",
              "std    1.000000e+00        1.000000e+00  1.000000e+00  1.000000e+00   \n",
              "min   -7.871399e+00       -1.579133e+00 -1.585673e+00 -1.614906e+00   \n",
              "25%   -4.846165e-01       -8.111143e-01 -8.043946e-01 -8.293843e-01   \n",
              "50%    1.869092e-01       -1.237503e-02  5.554534e-02  7.885917e-02   \n",
              "75%    6.905535e-01        6.277684e-01  5.993809e-01  7.381090e-01   \n",
              "max    1.194198e+00        3.046259e+00  2.774723e+00  2.817282e+00   \n",
              "\n",
              "       Engine stroke     Bore (mm)   Stroke (mm)  Fuel capacity (lts)  \\\n",
              "count    1844.000000  1.844000e+03  1.844000e+03         1.844000e+03   \n",
              "mean        0.982104 -6.627622e-16 -3.082615e-17        -5.163380e-16   \n",
              "std         0.132609  1.000000e+00  1.000000e+00         1.000000e+00   \n",
              "min         0.000000 -2.616945e+00 -3.963038e+00        -2.442895e+00   \n",
              "25%         1.000000 -6.051381e-01 -6.489590e-01        -5.231587e-01   \n",
              "50%         1.000000  2.714412e-02 -1.395409e-01         5.928549e-02   \n",
              "75%         1.000000  8.893471e-01  2.725726e-01         6.883252e-01   \n",
              "max         1.000000  1.923991e+00  2.579263e+00         3.111293e+00   \n",
              "\n",
              "       Dry weight (kg)  Wheelbase (mm)  ...  Gearbox_4-speed  Gearbox_5-speed  \\\n",
              "count     1.844000e+03    1.844000e+03  ...      1844.000000      1844.000000   \n",
              "mean      4.932184e-16    8.477191e-16  ...         0.021692         0.218004   \n",
              "std       1.000000e+00    1.000000e+00  ...         0.145715         0.413002   \n",
              "min      -2.167894e+00   -3.693961e+00  ...         0.000000         0.000000   \n",
              "25%      -5.433504e-01   -5.600780e-01  ...         0.000000         0.000000   \n",
              "50%      -1.760622e-01    3.281878e-02  ...         0.000000         0.000000   \n",
              "75%       3.339033e-01    6.257156e-01  ...         0.000000         0.000000   \n",
              "max       4.806343e+00    4.411785e+00  ...         1.000000         1.000000   \n",
              "\n",
              "       Gearbox_6-speed  Gearbox_Automatic  Cooling system_Air  \\\n",
              "count      1844.000000        1844.000000         1844.000000   \n",
              "mean          0.657267           0.101410            0.298265   \n",
              "std           0.474752           0.301953            0.457620   \n",
              "min           0.000000           0.000000            0.000000   \n",
              "25%           0.000000           0.000000            0.000000   \n",
              "50%           1.000000           0.000000            0.000000   \n",
              "75%           1.000000           0.000000            1.000000   \n",
              "max           1.000000           1.000000            1.000000   \n",
              "\n",
              "       Cooling system_Liquid  Cooling system_Oil & air  \\\n",
              "count            1844.000000               1844.000000   \n",
              "mean                0.582430                  0.119306   \n",
              "std                 0.493292                  0.324236   \n",
              "min                 0.000000                  0.000000   \n",
              "25%                 0.000000                  0.000000   \n",
              "50%                 1.000000                  0.000000   \n",
              "75%                 1.000000                  0.000000   \n",
              "max                 1.000000                  1.000000   \n",
              "\n",
              "       Transmission type_Belt  Transmission type_Chain  \\\n",
              "count             1844.000000              1844.000000   \n",
              "mean                 0.226139                 0.642625   \n",
              "std                  0.418444                 0.479357   \n",
              "min                  0.000000                 0.000000   \n",
              "25%                  0.000000                 0.000000   \n",
              "50%                  0.000000                 1.000000   \n",
              "75%                  0.000000                 1.000000   \n",
              "max                  1.000000                 1.000000   \n",
              "\n",
              "       Transmission type_Shaft drive  \n",
              "count                    1844.000000  \n",
              "mean                        0.131236  \n",
              "std                         0.337750  \n",
              "min                         0.000000  \n",
              "25%                         0.000000  \n",
              "50%                         0.000000  \n",
              "75%                         0.000000  \n",
              "max                         1.000000  \n",
              "\n",
              "[8 rows x 55 columns]"
            ],
            "text/html": [
              "\n",
              "  <div id=\"df-806d44ca-15dc-4ec3-926d-996b55f70bac\" class=\"colab-df-container\">\n",
              "    <div>\n",
              "<style scoped>\n",
              "    .dataframe tbody tr th:only-of-type {\n",
              "        vertical-align: middle;\n",
              "    }\n",
              "\n",
              "    .dataframe tbody tr th {\n",
              "        vertical-align: top;\n",
              "    }\n",
              "\n",
              "    .dataframe thead th {\n",
              "        text-align: right;\n",
              "    }\n",
              "</style>\n",
              "<table border=\"1\" class=\"dataframe\">\n",
              "  <thead>\n",
              "    <tr style=\"text-align: right;\">\n",
              "      <th></th>\n",
              "      <th>Year</th>\n",
              "      <th>Displacement (ccm)</th>\n",
              "      <th>Power (hp)</th>\n",
              "      <th>Torque (Nm)</th>\n",
              "      <th>Engine stroke</th>\n",
              "      <th>Bore (mm)</th>\n",
              "      <th>Stroke (mm)</th>\n",
              "      <th>Fuel capacity (lts)</th>\n",
              "      <th>Dry weight (kg)</th>\n",
              "      <th>Wheelbase (mm)</th>\n",
              "      <th>...</th>\n",
              "      <th>Gearbox_4-speed</th>\n",
              "      <th>Gearbox_5-speed</th>\n",
              "      <th>Gearbox_6-speed</th>\n",
              "      <th>Gearbox_Automatic</th>\n",
              "      <th>Cooling system_Air</th>\n",
              "      <th>Cooling system_Liquid</th>\n",
              "      <th>Cooling system_Oil &amp; air</th>\n",
              "      <th>Transmission type_Belt</th>\n",
              "      <th>Transmission type_Chain</th>\n",
              "      <th>Transmission type_Shaft drive</th>\n",
              "    </tr>\n",
              "  </thead>\n",
              "  <tbody>\n",
              "    <tr>\n",
              "      <th>count</th>\n",
              "      <td>1.844000e+03</td>\n",
              "      <td>1.844000e+03</td>\n",
              "      <td>1.844000e+03</td>\n",
              "      <td>1.844000e+03</td>\n",
              "      <td>1844.000000</td>\n",
              "      <td>1.844000e+03</td>\n",
              "      <td>1.844000e+03</td>\n",
              "      <td>1.844000e+03</td>\n",
              "      <td>1.844000e+03</td>\n",
              "      <td>1.844000e+03</td>\n",
              "      <td>...</td>\n",
              "      <td>1844.000000</td>\n",
              "      <td>1844.000000</td>\n",
              "      <td>1844.000000</td>\n",
              "      <td>1844.000000</td>\n",
              "      <td>1844.000000</td>\n",
              "      <td>1844.000000</td>\n",
              "      <td>1844.000000</td>\n",
              "      <td>1844.000000</td>\n",
              "      <td>1844.000000</td>\n",
              "      <td>1844.000000</td>\n",
              "    </tr>\n",
              "    <tr>\n",
              "      <th>mean</th>\n",
              "      <td>1.530518e-14</td>\n",
              "      <td>1.233046e-16</td>\n",
              "      <td>1.078915e-16</td>\n",
              "      <td>-1.078915e-16</td>\n",
              "      <td>0.982104</td>\n",
              "      <td>-6.627622e-16</td>\n",
              "      <td>-3.082615e-17</td>\n",
              "      <td>-5.163380e-16</td>\n",
              "      <td>4.932184e-16</td>\n",
              "      <td>8.477191e-16</td>\n",
              "      <td>...</td>\n",
              "      <td>0.021692</td>\n",
              "      <td>0.218004</td>\n",
              "      <td>0.657267</td>\n",
              "      <td>0.101410</td>\n",
              "      <td>0.298265</td>\n",
              "      <td>0.582430</td>\n",
              "      <td>0.119306</td>\n",
              "      <td>0.226139</td>\n",
              "      <td>0.642625</td>\n",
              "      <td>0.131236</td>\n",
              "    </tr>\n",
              "    <tr>\n",
              "      <th>std</th>\n",
              "      <td>1.000000e+00</td>\n",
              "      <td>1.000000e+00</td>\n",
              "      <td>1.000000e+00</td>\n",
              "      <td>1.000000e+00</td>\n",
              "      <td>0.132609</td>\n",
              "      <td>1.000000e+00</td>\n",
              "      <td>1.000000e+00</td>\n",
              "      <td>1.000000e+00</td>\n",
              "      <td>1.000000e+00</td>\n",
              "      <td>1.000000e+00</td>\n",
              "      <td>...</td>\n",
              "      <td>0.145715</td>\n",
              "      <td>0.413002</td>\n",
              "      <td>0.474752</td>\n",
              "      <td>0.301953</td>\n",
              "      <td>0.457620</td>\n",
              "      <td>0.493292</td>\n",
              "      <td>0.324236</td>\n",
              "      <td>0.418444</td>\n",
              "      <td>0.479357</td>\n",
              "      <td>0.337750</td>\n",
              "    </tr>\n",
              "    <tr>\n",
              "      <th>min</th>\n",
              "      <td>-7.871399e+00</td>\n",
              "      <td>-1.579133e+00</td>\n",
              "      <td>-1.585673e+00</td>\n",
              "      <td>-1.614906e+00</td>\n",
              "      <td>0.000000</td>\n",
              "      <td>-2.616945e+00</td>\n",
              "      <td>-3.963038e+00</td>\n",
              "      <td>-2.442895e+00</td>\n",
              "      <td>-2.167894e+00</td>\n",
              "      <td>-3.693961e+00</td>\n",
              "      <td>...</td>\n",
              "      <td>0.000000</td>\n",
              "      <td>0.000000</td>\n",
              "      <td>0.000000</td>\n",
              "      <td>0.000000</td>\n",
              "      <td>0.000000</td>\n",
              "      <td>0.000000</td>\n",
              "      <td>0.000000</td>\n",
              "      <td>0.000000</td>\n",
              "      <td>0.000000</td>\n",
              "      <td>0.000000</td>\n",
              "    </tr>\n",
              "    <tr>\n",
              "      <th>25%</th>\n",
              "      <td>-4.846165e-01</td>\n",
              "      <td>-8.111143e-01</td>\n",
              "      <td>-8.043946e-01</td>\n",
              "      <td>-8.293843e-01</td>\n",
              "      <td>1.000000</td>\n",
              "      <td>-6.051381e-01</td>\n",
              "      <td>-6.489590e-01</td>\n",
              "      <td>-5.231587e-01</td>\n",
              "      <td>-5.433504e-01</td>\n",
              "      <td>-5.600780e-01</td>\n",
              "      <td>...</td>\n",
              "      <td>0.000000</td>\n",
              "      <td>0.000000</td>\n",
              "      <td>0.000000</td>\n",
              "      <td>0.000000</td>\n",
              "      <td>0.000000</td>\n",
              "      <td>0.000000</td>\n",
              "      <td>0.000000</td>\n",
              "      <td>0.000000</td>\n",
              "      <td>0.000000</td>\n",
              "      <td>0.000000</td>\n",
              "    </tr>\n",
              "    <tr>\n",
              "      <th>50%</th>\n",
              "      <td>1.869092e-01</td>\n",
              "      <td>-1.237503e-02</td>\n",
              "      <td>5.554534e-02</td>\n",
              "      <td>7.885917e-02</td>\n",
              "      <td>1.000000</td>\n",
              "      <td>2.714412e-02</td>\n",
              "      <td>-1.395409e-01</td>\n",
              "      <td>5.928549e-02</td>\n",
              "      <td>-1.760622e-01</td>\n",
              "      <td>3.281878e-02</td>\n",
              "      <td>...</td>\n",
              "      <td>0.000000</td>\n",
              "      <td>0.000000</td>\n",
              "      <td>1.000000</td>\n",
              "      <td>0.000000</td>\n",
              "      <td>0.000000</td>\n",
              "      <td>1.000000</td>\n",
              "      <td>0.000000</td>\n",
              "      <td>0.000000</td>\n",
              "      <td>1.000000</td>\n",
              "      <td>0.000000</td>\n",
              "    </tr>\n",
              "    <tr>\n",
              "      <th>75%</th>\n",
              "      <td>6.905535e-01</td>\n",
              "      <td>6.277684e-01</td>\n",
              "      <td>5.993809e-01</td>\n",
              "      <td>7.381090e-01</td>\n",
              "      <td>1.000000</td>\n",
              "      <td>8.893471e-01</td>\n",
              "      <td>2.725726e-01</td>\n",
              "      <td>6.883252e-01</td>\n",
              "      <td>3.339033e-01</td>\n",
              "      <td>6.257156e-01</td>\n",
              "      <td>...</td>\n",
              "      <td>0.000000</td>\n",
              "      <td>0.000000</td>\n",
              "      <td>1.000000</td>\n",
              "      <td>0.000000</td>\n",
              "      <td>1.000000</td>\n",
              "      <td>1.000000</td>\n",
              "      <td>0.000000</td>\n",
              "      <td>0.000000</td>\n",
              "      <td>1.000000</td>\n",
              "      <td>0.000000</td>\n",
              "    </tr>\n",
              "    <tr>\n",
              "      <th>max</th>\n",
              "      <td>1.194198e+00</td>\n",
              "      <td>3.046259e+00</td>\n",
              "      <td>2.774723e+00</td>\n",
              "      <td>2.817282e+00</td>\n",
              "      <td>1.000000</td>\n",
              "      <td>1.923991e+00</td>\n",
              "      <td>2.579263e+00</td>\n",
              "      <td>3.111293e+00</td>\n",
              "      <td>4.806343e+00</td>\n",
              "      <td>4.411785e+00</td>\n",
              "      <td>...</td>\n",
              "      <td>1.000000</td>\n",
              "      <td>1.000000</td>\n",
              "      <td>1.000000</td>\n",
              "      <td>1.000000</td>\n",
              "      <td>1.000000</td>\n",
              "      <td>1.000000</td>\n",
              "      <td>1.000000</td>\n",
              "      <td>1.000000</td>\n",
              "      <td>1.000000</td>\n",
              "      <td>1.000000</td>\n",
              "    </tr>\n",
              "  </tbody>\n",
              "</table>\n",
              "<p>8 rows × 55 columns</p>\n",
              "</div>\n",
              "    <div class=\"colab-df-buttons\">\n",
              "\n",
              "  <div class=\"colab-df-container\">\n",
              "    <button class=\"colab-df-convert\" onclick=\"convertToInteractive('df-806d44ca-15dc-4ec3-926d-996b55f70bac')\"\n",
              "            title=\"Convert this dataframe to an interactive table.\"\n",
              "            style=\"display:none;\">\n",
              "\n",
              "  <svg xmlns=\"http://www.w3.org/2000/svg\" height=\"24px\" viewBox=\"0 -960 960 960\">\n",
              "    <path d=\"M120-120v-720h720v720H120Zm60-500h600v-160H180v160Zm220 220h160v-160H400v160Zm0 220h160v-160H400v160ZM180-400h160v-160H180v160Zm440 0h160v-160H620v160ZM180-180h160v-160H180v160Zm440 0h160v-160H620v160Z\"/>\n",
              "  </svg>\n",
              "    </button>\n",
              "\n",
              "  <style>\n",
              "    .colab-df-container {\n",
              "      display:flex;\n",
              "      gap: 12px;\n",
              "    }\n",
              "\n",
              "    .colab-df-convert {\n",
              "      background-color: #E8F0FE;\n",
              "      border: none;\n",
              "      border-radius: 50%;\n",
              "      cursor: pointer;\n",
              "      display: none;\n",
              "      fill: #1967D2;\n",
              "      height: 32px;\n",
              "      padding: 0 0 0 0;\n",
              "      width: 32px;\n",
              "    }\n",
              "\n",
              "    .colab-df-convert:hover {\n",
              "      background-color: #E2EBFA;\n",
              "      box-shadow: 0px 1px 2px rgba(60, 64, 67, 0.3), 0px 1px 3px 1px rgba(60, 64, 67, 0.15);\n",
              "      fill: #174EA6;\n",
              "    }\n",
              "\n",
              "    .colab-df-buttons div {\n",
              "      margin-bottom: 4px;\n",
              "    }\n",
              "\n",
              "    [theme=dark] .colab-df-convert {\n",
              "      background-color: #3B4455;\n",
              "      fill: #D2E3FC;\n",
              "    }\n",
              "\n",
              "    [theme=dark] .colab-df-convert:hover {\n",
              "      background-color: #434B5C;\n",
              "      box-shadow: 0px 1px 3px 1px rgba(0, 0, 0, 0.15);\n",
              "      filter: drop-shadow(0px 1px 2px rgba(0, 0, 0, 0.3));\n",
              "      fill: #FFFFFF;\n",
              "    }\n",
              "  </style>\n",
              "\n",
              "    <script>\n",
              "      const buttonEl =\n",
              "        document.querySelector('#df-806d44ca-15dc-4ec3-926d-996b55f70bac button.colab-df-convert');\n",
              "      buttonEl.style.display =\n",
              "        google.colab.kernel.accessAllowed ? 'block' : 'none';\n",
              "\n",
              "      async function convertToInteractive(key) {\n",
              "        const element = document.querySelector('#df-806d44ca-15dc-4ec3-926d-996b55f70bac');\n",
              "        const dataTable =\n",
              "          await google.colab.kernel.invokeFunction('convertToInteractive',\n",
              "                                                    [key], {});\n",
              "        if (!dataTable) return;\n",
              "\n",
              "        const docLinkHtml = 'Like what you see? Visit the ' +\n",
              "          '<a target=\"_blank\" href=https://colab.research.google.com/notebooks/data_table.ipynb>data table notebook</a>'\n",
              "          + ' to learn more about interactive tables.';\n",
              "        element.innerHTML = '';\n",
              "        dataTable['output_type'] = 'display_data';\n",
              "        await google.colab.output.renderOutput(dataTable, element);\n",
              "        const docLink = document.createElement('div');\n",
              "        docLink.innerHTML = docLinkHtml;\n",
              "        element.appendChild(docLink);\n",
              "      }\n",
              "    </script>\n",
              "  </div>\n",
              "\n",
              "\n",
              "<div id=\"df-0fea70e6-08a0-47d3-9f68-0e9f8a11a4d5\">\n",
              "  <button class=\"colab-df-quickchart\" onclick=\"quickchart('df-0fea70e6-08a0-47d3-9f68-0e9f8a11a4d5')\"\n",
              "            title=\"Suggest charts\"\n",
              "            style=\"display:none;\">\n",
              "\n",
              "<svg xmlns=\"http://www.w3.org/2000/svg\" height=\"24px\"viewBox=\"0 0 24 24\"\n",
              "     width=\"24px\">\n",
              "    <g>\n",
              "        <path d=\"M19 3H5c-1.1 0-2 .9-2 2v14c0 1.1.9 2 2 2h14c1.1 0 2-.9 2-2V5c0-1.1-.9-2-2-2zM9 17H7v-7h2v7zm4 0h-2V7h2v10zm4 0h-2v-4h2v4z\"/>\n",
              "    </g>\n",
              "</svg>\n",
              "  </button>\n",
              "\n",
              "<style>\n",
              "  .colab-df-quickchart {\n",
              "      --bg-color: #E8F0FE;\n",
              "      --fill-color: #1967D2;\n",
              "      --hover-bg-color: #E2EBFA;\n",
              "      --hover-fill-color: #174EA6;\n",
              "      --disabled-fill-color: #AAA;\n",
              "      --disabled-bg-color: #DDD;\n",
              "  }\n",
              "\n",
              "  [theme=dark] .colab-df-quickchart {\n",
              "      --bg-color: #3B4455;\n",
              "      --fill-color: #D2E3FC;\n",
              "      --hover-bg-color: #434B5C;\n",
              "      --hover-fill-color: #FFFFFF;\n",
              "      --disabled-bg-color: #3B4455;\n",
              "      --disabled-fill-color: #666;\n",
              "  }\n",
              "\n",
              "  .colab-df-quickchart {\n",
              "    background-color: var(--bg-color);\n",
              "    border: none;\n",
              "    border-radius: 50%;\n",
              "    cursor: pointer;\n",
              "    display: none;\n",
              "    fill: var(--fill-color);\n",
              "    height: 32px;\n",
              "    padding: 0;\n",
              "    width: 32px;\n",
              "  }\n",
              "\n",
              "  .colab-df-quickchart:hover {\n",
              "    background-color: var(--hover-bg-color);\n",
              "    box-shadow: 0 1px 2px rgba(60, 64, 67, 0.3), 0 1px 3px 1px rgba(60, 64, 67, 0.15);\n",
              "    fill: var(--button-hover-fill-color);\n",
              "  }\n",
              "\n",
              "  .colab-df-quickchart-complete:disabled,\n",
              "  .colab-df-quickchart-complete:disabled:hover {\n",
              "    background-color: var(--disabled-bg-color);\n",
              "    fill: var(--disabled-fill-color);\n",
              "    box-shadow: none;\n",
              "  }\n",
              "\n",
              "  .colab-df-spinner {\n",
              "    border: 2px solid var(--fill-color);\n",
              "    border-color: transparent;\n",
              "    border-bottom-color: var(--fill-color);\n",
              "    animation:\n",
              "      spin 1s steps(1) infinite;\n",
              "  }\n",
              "\n",
              "  @keyframes spin {\n",
              "    0% {\n",
              "      border-color: transparent;\n",
              "      border-bottom-color: var(--fill-color);\n",
              "      border-left-color: var(--fill-color);\n",
              "    }\n",
              "    20% {\n",
              "      border-color: transparent;\n",
              "      border-left-color: var(--fill-color);\n",
              "      border-top-color: var(--fill-color);\n",
              "    }\n",
              "    30% {\n",
              "      border-color: transparent;\n",
              "      border-left-color: var(--fill-color);\n",
              "      border-top-color: var(--fill-color);\n",
              "      border-right-color: var(--fill-color);\n",
              "    }\n",
              "    40% {\n",
              "      border-color: transparent;\n",
              "      border-right-color: var(--fill-color);\n",
              "      border-top-color: var(--fill-color);\n",
              "    }\n",
              "    60% {\n",
              "      border-color: transparent;\n",
              "      border-right-color: var(--fill-color);\n",
              "    }\n",
              "    80% {\n",
              "      border-color: transparent;\n",
              "      border-right-color: var(--fill-color);\n",
              "      border-bottom-color: var(--fill-color);\n",
              "    }\n",
              "    90% {\n",
              "      border-color: transparent;\n",
              "      border-bottom-color: var(--fill-color);\n",
              "    }\n",
              "  }\n",
              "</style>\n",
              "\n",
              "  <script>\n",
              "    async function quickchart(key) {\n",
              "      const quickchartButtonEl =\n",
              "        document.querySelector('#' + key + ' button');\n",
              "      quickchartButtonEl.disabled = true;  // To prevent multiple clicks.\n",
              "      quickchartButtonEl.classList.add('colab-df-spinner');\n",
              "      try {\n",
              "        const charts = await google.colab.kernel.invokeFunction(\n",
              "            'suggestCharts', [key], {});\n",
              "      } catch (error) {\n",
              "        console.error('Error during call to suggestCharts:', error);\n",
              "      }\n",
              "      quickchartButtonEl.classList.remove('colab-df-spinner');\n",
              "      quickchartButtonEl.classList.add('colab-df-quickchart-complete');\n",
              "    }\n",
              "    (() => {\n",
              "      let quickchartButtonEl =\n",
              "        document.querySelector('#df-0fea70e6-08a0-47d3-9f68-0e9f8a11a4d5 button');\n",
              "      quickchartButtonEl.style.display =\n",
              "        google.colab.kernel.accessAllowed ? 'block' : 'none';\n",
              "    })();\n",
              "  </script>\n",
              "</div>\n",
              "    </div>\n",
              "  </div>\n"
            ]
          },
          "metadata": {},
          "execution_count": 398
        }
      ]
    },
    {
      "cell_type": "code",
      "source": [
        "data.iloc[:, :20].head()"
      ],
      "metadata": {
        "colab": {
          "base_uri": "https://localhost:8080/",
          "height": 295
        },
        "id": "1nUpZU7_aool",
        "outputId": "9c96e221-c60a-49eb-d88b-dcf7a7b3d2f1"
      },
      "execution_count": 399,
      "outputs": [
        {
          "output_type": "execute_result",
          "data": {
            "text/plain": [
              "         Year      Category  Displacement (ccm)  Power (hp)  Torque (Nm)  \\\n",
              "170  0.690553       Scooter           -1.008879   -1.090394    -1.081421   \n",
              "226 -0.484616       Scooter           -1.072241   -1.171969    -1.057079   \n",
              "227 -0.148854       Scooter           -1.072241   -1.171969    -1.111847   \n",
              "332  0.019028  Super motard           -1.435129   -1.370081    -1.493198   \n",
              "350  0.522672  Super motard           -1.435129   -1.370081    -1.493198   \n",
              "\n",
              "     Engine stroke  Bore (mm)  Stroke (mm)  Fuel capacity (lts)  \\\n",
              "170              1  -0.030336    -0.213950            -0.523159   \n",
              "226              1  -0.260257    -0.196779            -0.523159   \n",
              "227              1  -0.260257    -0.196779            -0.523159   \n",
              "332              1  -1.496081    -1.129758            -1.734643   \n",
              "350              1  -1.496081    -1.129758            -1.734643   \n",
              "\n",
              "     Dry weight (kg)  Wheelbase (mm)  Seat height (mm)  \\\n",
              "170         0.099404        0.668065         -0.021053   \n",
              "226        -0.402086        0.498666          0.128195   \n",
              "227        -0.402086        0.498666          0.128195   \n",
              "332        -1.461571       -1.407073          0.277442   \n",
              "350        -1.433318       -1.407073          0.098345   \n",
              "\n",
              "     Engine cylinder amount  Carburettor fuel system  Injection fuel system  \\\n",
              "170                       1                        0                      1   \n",
              "226                       1                        0                      1   \n",
              "227                       1                        0                      1   \n",
              "332                       1                        1                      0   \n",
              "350                       1                        1                      0   \n",
              "\n",
              "     n_disks_front  has_front_disk  n_pistons_front  n_disks_rear  \\\n",
              "170              1               1              1.0           1.0   \n",
              "226              1               1              1.0           1.0   \n",
              "227              1               1              1.0           1.0   \n",
              "332              1               1              1.0           1.0   \n",
              "350              1               1              2.0           1.0   \n",
              "\n",
              "     has_rear_disk  \n",
              "170              0  \n",
              "226              0  \n",
              "227              0  \n",
              "332              0  \n",
              "350              0  "
            ],
            "text/html": [
              "\n",
              "  <div id=\"df-26be869f-f098-480a-a137-422fc2735328\" class=\"colab-df-container\">\n",
              "    <div>\n",
              "<style scoped>\n",
              "    .dataframe tbody tr th:only-of-type {\n",
              "        vertical-align: middle;\n",
              "    }\n",
              "\n",
              "    .dataframe tbody tr th {\n",
              "        vertical-align: top;\n",
              "    }\n",
              "\n",
              "    .dataframe thead th {\n",
              "        text-align: right;\n",
              "    }\n",
              "</style>\n",
              "<table border=\"1\" class=\"dataframe\">\n",
              "  <thead>\n",
              "    <tr style=\"text-align: right;\">\n",
              "      <th></th>\n",
              "      <th>Year</th>\n",
              "      <th>Category</th>\n",
              "      <th>Displacement (ccm)</th>\n",
              "      <th>Power (hp)</th>\n",
              "      <th>Torque (Nm)</th>\n",
              "      <th>Engine stroke</th>\n",
              "      <th>Bore (mm)</th>\n",
              "      <th>Stroke (mm)</th>\n",
              "      <th>Fuel capacity (lts)</th>\n",
              "      <th>Dry weight (kg)</th>\n",
              "      <th>Wheelbase (mm)</th>\n",
              "      <th>Seat height (mm)</th>\n",
              "      <th>Engine cylinder amount</th>\n",
              "      <th>Carburettor fuel system</th>\n",
              "      <th>Injection fuel system</th>\n",
              "      <th>n_disks_front</th>\n",
              "      <th>has_front_disk</th>\n",
              "      <th>n_pistons_front</th>\n",
              "      <th>n_disks_rear</th>\n",
              "      <th>has_rear_disk</th>\n",
              "    </tr>\n",
              "  </thead>\n",
              "  <tbody>\n",
              "    <tr>\n",
              "      <th>170</th>\n",
              "      <td>0.690553</td>\n",
              "      <td>Scooter</td>\n",
              "      <td>-1.008879</td>\n",
              "      <td>-1.090394</td>\n",
              "      <td>-1.081421</td>\n",
              "      <td>1</td>\n",
              "      <td>-0.030336</td>\n",
              "      <td>-0.213950</td>\n",
              "      <td>-0.523159</td>\n",
              "      <td>0.099404</td>\n",
              "      <td>0.668065</td>\n",
              "      <td>-0.021053</td>\n",
              "      <td>1</td>\n",
              "      <td>0</td>\n",
              "      <td>1</td>\n",
              "      <td>1</td>\n",
              "      <td>1</td>\n",
              "      <td>1.0</td>\n",
              "      <td>1.0</td>\n",
              "      <td>0</td>\n",
              "    </tr>\n",
              "    <tr>\n",
              "      <th>226</th>\n",
              "      <td>-0.484616</td>\n",
              "      <td>Scooter</td>\n",
              "      <td>-1.072241</td>\n",
              "      <td>-1.171969</td>\n",
              "      <td>-1.057079</td>\n",
              "      <td>1</td>\n",
              "      <td>-0.260257</td>\n",
              "      <td>-0.196779</td>\n",
              "      <td>-0.523159</td>\n",
              "      <td>-0.402086</td>\n",
              "      <td>0.498666</td>\n",
              "      <td>0.128195</td>\n",
              "      <td>1</td>\n",
              "      <td>0</td>\n",
              "      <td>1</td>\n",
              "      <td>1</td>\n",
              "      <td>1</td>\n",
              "      <td>1.0</td>\n",
              "      <td>1.0</td>\n",
              "      <td>0</td>\n",
              "    </tr>\n",
              "    <tr>\n",
              "      <th>227</th>\n",
              "      <td>-0.148854</td>\n",
              "      <td>Scooter</td>\n",
              "      <td>-1.072241</td>\n",
              "      <td>-1.171969</td>\n",
              "      <td>-1.111847</td>\n",
              "      <td>1</td>\n",
              "      <td>-0.260257</td>\n",
              "      <td>-0.196779</td>\n",
              "      <td>-0.523159</td>\n",
              "      <td>-0.402086</td>\n",
              "      <td>0.498666</td>\n",
              "      <td>0.128195</td>\n",
              "      <td>1</td>\n",
              "      <td>0</td>\n",
              "      <td>1</td>\n",
              "      <td>1</td>\n",
              "      <td>1</td>\n",
              "      <td>1.0</td>\n",
              "      <td>1.0</td>\n",
              "      <td>0</td>\n",
              "    </tr>\n",
              "    <tr>\n",
              "      <th>332</th>\n",
              "      <td>0.019028</td>\n",
              "      <td>Super motard</td>\n",
              "      <td>-1.435129</td>\n",
              "      <td>-1.370081</td>\n",
              "      <td>-1.493198</td>\n",
              "      <td>1</td>\n",
              "      <td>-1.496081</td>\n",
              "      <td>-1.129758</td>\n",
              "      <td>-1.734643</td>\n",
              "      <td>-1.461571</td>\n",
              "      <td>-1.407073</td>\n",
              "      <td>0.277442</td>\n",
              "      <td>1</td>\n",
              "      <td>1</td>\n",
              "      <td>0</td>\n",
              "      <td>1</td>\n",
              "      <td>1</td>\n",
              "      <td>1.0</td>\n",
              "      <td>1.0</td>\n",
              "      <td>0</td>\n",
              "    </tr>\n",
              "    <tr>\n",
              "      <th>350</th>\n",
              "      <td>0.522672</td>\n",
              "      <td>Super motard</td>\n",
              "      <td>-1.435129</td>\n",
              "      <td>-1.370081</td>\n",
              "      <td>-1.493198</td>\n",
              "      <td>1</td>\n",
              "      <td>-1.496081</td>\n",
              "      <td>-1.129758</td>\n",
              "      <td>-1.734643</td>\n",
              "      <td>-1.433318</td>\n",
              "      <td>-1.407073</td>\n",
              "      <td>0.098345</td>\n",
              "      <td>1</td>\n",
              "      <td>1</td>\n",
              "      <td>0</td>\n",
              "      <td>1</td>\n",
              "      <td>1</td>\n",
              "      <td>2.0</td>\n",
              "      <td>1.0</td>\n",
              "      <td>0</td>\n",
              "    </tr>\n",
              "  </tbody>\n",
              "</table>\n",
              "</div>\n",
              "    <div class=\"colab-df-buttons\">\n",
              "\n",
              "  <div class=\"colab-df-container\">\n",
              "    <button class=\"colab-df-convert\" onclick=\"convertToInteractive('df-26be869f-f098-480a-a137-422fc2735328')\"\n",
              "            title=\"Convert this dataframe to an interactive table.\"\n",
              "            style=\"display:none;\">\n",
              "\n",
              "  <svg xmlns=\"http://www.w3.org/2000/svg\" height=\"24px\" viewBox=\"0 -960 960 960\">\n",
              "    <path d=\"M120-120v-720h720v720H120Zm60-500h600v-160H180v160Zm220 220h160v-160H400v160Zm0 220h160v-160H400v160ZM180-400h160v-160H180v160Zm440 0h160v-160H620v160ZM180-180h160v-160H180v160Zm440 0h160v-160H620v160Z\"/>\n",
              "  </svg>\n",
              "    </button>\n",
              "\n",
              "  <style>\n",
              "    .colab-df-container {\n",
              "      display:flex;\n",
              "      gap: 12px;\n",
              "    }\n",
              "\n",
              "    .colab-df-convert {\n",
              "      background-color: #E8F0FE;\n",
              "      border: none;\n",
              "      border-radius: 50%;\n",
              "      cursor: pointer;\n",
              "      display: none;\n",
              "      fill: #1967D2;\n",
              "      height: 32px;\n",
              "      padding: 0 0 0 0;\n",
              "      width: 32px;\n",
              "    }\n",
              "\n",
              "    .colab-df-convert:hover {\n",
              "      background-color: #E2EBFA;\n",
              "      box-shadow: 0px 1px 2px rgba(60, 64, 67, 0.3), 0px 1px 3px 1px rgba(60, 64, 67, 0.15);\n",
              "      fill: #174EA6;\n",
              "    }\n",
              "\n",
              "    .colab-df-buttons div {\n",
              "      margin-bottom: 4px;\n",
              "    }\n",
              "\n",
              "    [theme=dark] .colab-df-convert {\n",
              "      background-color: #3B4455;\n",
              "      fill: #D2E3FC;\n",
              "    }\n",
              "\n",
              "    [theme=dark] .colab-df-convert:hover {\n",
              "      background-color: #434B5C;\n",
              "      box-shadow: 0px 1px 3px 1px rgba(0, 0, 0, 0.15);\n",
              "      filter: drop-shadow(0px 1px 2px rgba(0, 0, 0, 0.3));\n",
              "      fill: #FFFFFF;\n",
              "    }\n",
              "  </style>\n",
              "\n",
              "    <script>\n",
              "      const buttonEl =\n",
              "        document.querySelector('#df-26be869f-f098-480a-a137-422fc2735328 button.colab-df-convert');\n",
              "      buttonEl.style.display =\n",
              "        google.colab.kernel.accessAllowed ? 'block' : 'none';\n",
              "\n",
              "      async function convertToInteractive(key) {\n",
              "        const element = document.querySelector('#df-26be869f-f098-480a-a137-422fc2735328');\n",
              "        const dataTable =\n",
              "          await google.colab.kernel.invokeFunction('convertToInteractive',\n",
              "                                                    [key], {});\n",
              "        if (!dataTable) return;\n",
              "\n",
              "        const docLinkHtml = 'Like what you see? Visit the ' +\n",
              "          '<a target=\"_blank\" href=https://colab.research.google.com/notebooks/data_table.ipynb>data table notebook</a>'\n",
              "          + ' to learn more about interactive tables.';\n",
              "        element.innerHTML = '';\n",
              "        dataTable['output_type'] = 'display_data';\n",
              "        await google.colab.output.renderOutput(dataTable, element);\n",
              "        const docLink = document.createElement('div');\n",
              "        docLink.innerHTML = docLinkHtml;\n",
              "        element.appendChild(docLink);\n",
              "      }\n",
              "    </script>\n",
              "  </div>\n",
              "\n",
              "\n",
              "<div id=\"df-46fc176e-d17d-4ba5-acdf-55d975c9ec85\">\n",
              "  <button class=\"colab-df-quickchart\" onclick=\"quickchart('df-46fc176e-d17d-4ba5-acdf-55d975c9ec85')\"\n",
              "            title=\"Suggest charts\"\n",
              "            style=\"display:none;\">\n",
              "\n",
              "<svg xmlns=\"http://www.w3.org/2000/svg\" height=\"24px\"viewBox=\"0 0 24 24\"\n",
              "     width=\"24px\">\n",
              "    <g>\n",
              "        <path d=\"M19 3H5c-1.1 0-2 .9-2 2v14c0 1.1.9 2 2 2h14c1.1 0 2-.9 2-2V5c0-1.1-.9-2-2-2zM9 17H7v-7h2v7zm4 0h-2V7h2v10zm4 0h-2v-4h2v4z\"/>\n",
              "    </g>\n",
              "</svg>\n",
              "  </button>\n",
              "\n",
              "<style>\n",
              "  .colab-df-quickchart {\n",
              "      --bg-color: #E8F0FE;\n",
              "      --fill-color: #1967D2;\n",
              "      --hover-bg-color: #E2EBFA;\n",
              "      --hover-fill-color: #174EA6;\n",
              "      --disabled-fill-color: #AAA;\n",
              "      --disabled-bg-color: #DDD;\n",
              "  }\n",
              "\n",
              "  [theme=dark] .colab-df-quickchart {\n",
              "      --bg-color: #3B4455;\n",
              "      --fill-color: #D2E3FC;\n",
              "      --hover-bg-color: #434B5C;\n",
              "      --hover-fill-color: #FFFFFF;\n",
              "      --disabled-bg-color: #3B4455;\n",
              "      --disabled-fill-color: #666;\n",
              "  }\n",
              "\n",
              "  .colab-df-quickchart {\n",
              "    background-color: var(--bg-color);\n",
              "    border: none;\n",
              "    border-radius: 50%;\n",
              "    cursor: pointer;\n",
              "    display: none;\n",
              "    fill: var(--fill-color);\n",
              "    height: 32px;\n",
              "    padding: 0;\n",
              "    width: 32px;\n",
              "  }\n",
              "\n",
              "  .colab-df-quickchart:hover {\n",
              "    background-color: var(--hover-bg-color);\n",
              "    box-shadow: 0 1px 2px rgba(60, 64, 67, 0.3), 0 1px 3px 1px rgba(60, 64, 67, 0.15);\n",
              "    fill: var(--button-hover-fill-color);\n",
              "  }\n",
              "\n",
              "  .colab-df-quickchart-complete:disabled,\n",
              "  .colab-df-quickchart-complete:disabled:hover {\n",
              "    background-color: var(--disabled-bg-color);\n",
              "    fill: var(--disabled-fill-color);\n",
              "    box-shadow: none;\n",
              "  }\n",
              "\n",
              "  .colab-df-spinner {\n",
              "    border: 2px solid var(--fill-color);\n",
              "    border-color: transparent;\n",
              "    border-bottom-color: var(--fill-color);\n",
              "    animation:\n",
              "      spin 1s steps(1) infinite;\n",
              "  }\n",
              "\n",
              "  @keyframes spin {\n",
              "    0% {\n",
              "      border-color: transparent;\n",
              "      border-bottom-color: var(--fill-color);\n",
              "      border-left-color: var(--fill-color);\n",
              "    }\n",
              "    20% {\n",
              "      border-color: transparent;\n",
              "      border-left-color: var(--fill-color);\n",
              "      border-top-color: var(--fill-color);\n",
              "    }\n",
              "    30% {\n",
              "      border-color: transparent;\n",
              "      border-left-color: var(--fill-color);\n",
              "      border-top-color: var(--fill-color);\n",
              "      border-right-color: var(--fill-color);\n",
              "    }\n",
              "    40% {\n",
              "      border-color: transparent;\n",
              "      border-right-color: var(--fill-color);\n",
              "      border-top-color: var(--fill-color);\n",
              "    }\n",
              "    60% {\n",
              "      border-color: transparent;\n",
              "      border-right-color: var(--fill-color);\n",
              "    }\n",
              "    80% {\n",
              "      border-color: transparent;\n",
              "      border-right-color: var(--fill-color);\n",
              "      border-bottom-color: var(--fill-color);\n",
              "    }\n",
              "    90% {\n",
              "      border-color: transparent;\n",
              "      border-bottom-color: var(--fill-color);\n",
              "    }\n",
              "  }\n",
              "</style>\n",
              "\n",
              "  <script>\n",
              "    async function quickchart(key) {\n",
              "      const quickchartButtonEl =\n",
              "        document.querySelector('#' + key + ' button');\n",
              "      quickchartButtonEl.disabled = true;  // To prevent multiple clicks.\n",
              "      quickchartButtonEl.classList.add('colab-df-spinner');\n",
              "      try {\n",
              "        const charts = await google.colab.kernel.invokeFunction(\n",
              "            'suggestCharts', [key], {});\n",
              "      } catch (error) {\n",
              "        console.error('Error during call to suggestCharts:', error);\n",
              "      }\n",
              "      quickchartButtonEl.classList.remove('colab-df-spinner');\n",
              "      quickchartButtonEl.classList.add('colab-df-quickchart-complete');\n",
              "    }\n",
              "    (() => {\n",
              "      let quickchartButtonEl =\n",
              "        document.querySelector('#df-46fc176e-d17d-4ba5-acdf-55d975c9ec85 button');\n",
              "      quickchartButtonEl.style.display =\n",
              "        google.colab.kernel.accessAllowed ? 'block' : 'none';\n",
              "    })();\n",
              "  </script>\n",
              "</div>\n",
              "    </div>\n",
              "  </div>\n"
            ]
          },
          "metadata": {},
          "execution_count": 399
        }
      ]
    },
    {
      "cell_type": "code",
      "source": [
        "le = LabelEncoder()\n",
        "data['Category'] = le.fit_transform(data_raw['Category'])"
      ],
      "metadata": {
        "id": "JOGlqGt7m8Oo"
      },
      "execution_count": 400,
      "outputs": []
    },
    {
      "cell_type": "markdown",
      "source": [
        "# Формирование data и target"
      ],
      "metadata": {
        "id": "ggwHxGQMmIyR"
      }
    },
    {
      "cell_type": "code",
      "source": [
        "data_go = data.copy()\n",
        "target = data_go['Category']\n",
        "data_go.drop(columns=['Category'], axis=1, inplace=True)"
      ],
      "metadata": {
        "id": "SHey7xbjf39V"
      },
      "execution_count": 401,
      "outputs": []
    },
    {
      "cell_type": "code",
      "source": [
        "X = data_go\n",
        "y = target\n",
        "from sklearn.model_selection import train_test_split"
      ],
      "metadata": {
        "id": "2aKDd3bSmcvg"
      },
      "execution_count": 402,
      "outputs": []
    },
    {
      "cell_type": "code",
      "source": [
        "X_train, X_test, y_train, y_test = train_test_split(X, y, test_size = 0.1, random_state = 27)\n",
        "\n",
        "N_train, _ = X_train.shape\n",
        "N_test, _ = X_test.shape\n",
        "\n",
        "N_train, N_test"
      ],
      "metadata": {
        "colab": {
          "base_uri": "https://localhost:8080/"
        },
        "id": "phNEC2TPmoo8",
        "outputId": "6d1c42bf-3448-4b4a-9b27-40bc9039ee5c"
      },
      "execution_count": 403,
      "outputs": [
        {
          "output_type": "execute_result",
          "data": {
            "text/plain": [
              "(1659, 185)"
            ]
          },
          "metadata": {},
          "execution_count": 403
        }
      ]
    },
    {
      "cell_type": "markdown",
      "source": [
        "# Методы машинного обучения"
      ],
      "metadata": {
        "id": "yjtyB70smVFJ"
      }
    },
    {
      "cell_type": "markdown",
      "source": [
        "## Метод k-ближайших соседей (kNN)"
      ],
      "metadata": {
        "id": "TbEdZ3nymMlK"
      }
    },
    {
      "cell_type": "code",
      "source": [
        "import sklearn\n",
        "from sklearn.model_selection import GridSearchCV\n",
        "from sklearn.neighbors import KNeighborsClassifier"
      ],
      "metadata": {
        "id": "ZahKiz9Gmuuj"
      },
      "execution_count": 404,
      "outputs": []
    },
    {
      "cell_type": "code",
      "source": [
        "from sklearn.metrics import accuracy_score"
      ],
      "metadata": {
        "id": "hIwJTvmVmxzr"
      },
      "execution_count": 405,
      "outputs": []
    },
    {
      "cell_type": "code",
      "source": [
        "%%time\n",
        "grid = GridSearchCV(KNeighborsClassifier(), param_grid = {\n",
        "        'n_neighbors': [1,3,4,5,6],\n",
        "        'algorithm': ['ball_tree', 'kd_tree'],\n",
        "        'p':[1,2]\n",
        "        })\n",
        "grid.fit(X_train, y_train)\n",
        "\n",
        "best_cv_err = 1 - grid.best_score_\n",
        "best_n_neighbors = grid.best_estimator_.n_neighbors\n",
        "\n",
        "print('Ошибка на кросс-валидации: ', best_cv_err)\n",
        "print('Оптимальное количество соседей: ', best_n_neighbors)\n",
        "print('Оптимальный алгоритм: ', grid.best_estimator_.algorithm)\n",
        "print('Оптимальная степень метрики: ', grid.best_estimator_.p)"
      ],
      "metadata": {
        "colab": {
          "base_uri": "https://localhost:8080/"
        },
        "id": "wDtbb5QZmyHX",
        "outputId": "50b97661-5e09-41a9-8abe-7be2d8942a9c"
      },
      "execution_count": 406,
      "outputs": [
        {
          "output_type": "stream",
          "name": "stdout",
          "text": [
            "Ошибка на кросс-валидации:  0.1898700542350671\n",
            "Оптимальное количество соседей:  1\n",
            "Оптимальный алгоритм:  ball_tree\n",
            "Оптимальная степень метрики:  1\n",
            "CPU times: user 6.22 s, sys: 18.7 ms, total: 6.24 s\n",
            "Wall time: 6.35 s\n"
          ]
        }
      ]
    },
    {
      "cell_type": "code",
      "source": [
        "%%time\n",
        "knn = KNeighborsClassifier()\n",
        "\n",
        "knn.set_params(n_neighbors = best_n_neighbors,\n",
        "               algorithm = grid.best_estimator_.algorithm,\n",
        "               p = grid.best_estimator_.p)\n",
        "knn.fit(X_train, y_train)\n",
        "\n",
        "err_train = np.mean(y_train != knn.predict(X_train))\n",
        "err_test  = np.mean(y_test  != knn.predict(X_test))\n",
        "acc_train = accuracy_score(y_true=y_train, y_pred=knn.predict(X_train))\n",
        "acc_test = accuracy_score(y_true=y_test, y_pred=knn.predict(X_test))\n",
        "\n",
        "print(f'''\n",
        "Точность на обучающей выборке: {acc_train}\n",
        "Точность на тестовой выборке: {acc_test}\n",
        "Ошибка на обучающей выборке: {err_train}\n",
        "Ошибка на тестовой выборке: {err_test}\n",
        "''')"
      ],
      "metadata": {
        "colab": {
          "base_uri": "https://localhost:8080/"
        },
        "id": "c_97NZOWoqL-",
        "outputId": "90b46faf-d84e-443d-8f4f-3e56d02c44ba"
      },
      "execution_count": 407,
      "outputs": [
        {
          "output_type": "stream",
          "name": "stdout",
          "text": [
            "\n",
            "Точность на обучающей выборке: 0.9963833634719711\n",
            "Точность на тестовой выборке: 0.8108108108108109\n",
            "Ошибка на обучающей выборке: 0.003616636528028933\n",
            "Ошибка на тестовой выборке: 0.1891891891891892\n",
            "\n",
            "CPU times: user 547 ms, sys: 7.09 ms, total: 554 ms\n",
            "Wall time: 555 ms\n"
          ]
        }
      ]
    },
    {
      "cell_type": "markdown",
      "source": [
        "## SVC"
      ],
      "metadata": {
        "id": "yt-MWXYZk-10"
      }
    },
    {
      "cell_type": "code",
      "source": [
        "from sklearn.svm import SVC"
      ],
      "metadata": {
        "id": "Wj_GnmHMlPF1"
      },
      "execution_count": 408,
      "outputs": []
    },
    {
      "cell_type": "code",
      "source": [
        "%%time\n",
        "svc = SVC(gamma = 'auto')\n",
        "svc.fit(X_train, y_train)\n",
        "\n",
        "err_train = np.mean(y_train != svc.predict(X_train))\n",
        "err_test  = np.mean(y_test  != svc.predict(X_test))\n",
        "acc_train = accuracy_score(y_true=y_train, y_pred=svc.predict(X_train))\n",
        "acc_test = accuracy_score(y_true=y_test, y_pred=svc.predict(X_test))\n",
        "\n",
        "print(f'''\n",
        "Ошибка на обучающей выборке: {err_train}\n",
        "Ошибка на тестовой выборке: {err_test}\n",
        "''')\n"
      ],
      "metadata": {
        "id": "HG--3nIZkzBv",
        "colab": {
          "base_uri": "https://localhost:8080/"
        },
        "outputId": "dc77ee30-690b-49e8-ba52-8cada9d4b970"
      },
      "execution_count": 409,
      "outputs": [
        {
          "output_type": "stream",
          "name": "stdout",
          "text": [
            "\n",
            "Ошибка на обучающей выборке: 0.18806509945750452\n",
            "Ошибка на тестовой выборке: 0.3081081081081081\n",
            "\n",
            "CPU times: user 1.25 s, sys: 0 ns, total: 1.25 s\n",
            "Wall time: 1.25 s\n"
          ]
        }
      ]
    },
    {
      "cell_type": "markdown",
      "source": [
        "## Random forest"
      ],
      "metadata": {
        "id": "xxd3mL9ClSuh"
      }
    },
    {
      "cell_type": "code",
      "source": [
        "from sklearn import ensemble"
      ],
      "metadata": {
        "id": "9KL-Otf_loKP"
      },
      "execution_count": 410,
      "outputs": []
    },
    {
      "cell_type": "code",
      "source": [
        "%%time\n",
        "rf = ensemble.RandomForestClassifier(n_estimators = 100)\n",
        "rf.fit(X_train, y_train)\n",
        "\n",
        "err_train = np.mean(y_train != rf.predict(X_train))\n",
        "err_test  = np.mean(y_test  != rf.predict(X_test))\n",
        "acc_train = accuracy_score(y_true=y_train, y_pred=rf.predict(X_train))\n",
        "acc_test = accuracy_score(y_true=y_test, y_pred=rf.predict(X_test))\n",
        "\n",
        "print(f'''\n",
        "Ошибка на обучающей выборке: {err_train}\n",
        "Ошибка на тестовой выборке: {err_test}\n",
        "''')"
      ],
      "metadata": {
        "id": "0bPeV5MXlpi0",
        "colab": {
          "base_uri": "https://localhost:8080/"
        },
        "outputId": "fc0394f0-9805-491f-d70d-ff1c4c6af38c"
      },
      "execution_count": 411,
      "outputs": [
        {
          "output_type": "stream",
          "name": "stdout",
          "text": [
            "\n",
            "Ошибка на обучающей выборке: 0.003616636528028933\n",
            "Ошибка на тестовой выборке: 0.13513513513513514\n",
            "\n",
            "CPU times: user 483 ms, sys: 0 ns, total: 483 ms\n",
            "Wall time: 487 ms\n"
          ]
        }
      ]
    },
    {
      "cell_type": "markdown",
      "source": [
        "## Extremely Randomized Trees"
      ],
      "metadata": {
        "id": "a64sv8MXltH1"
      }
    },
    {
      "cell_type": "code",
      "source": [
        "%%time\n",
        "ert = ensemble.ExtraTreesClassifier(n_estimators = 100).fit(X_train, y_train)\n",
        "\n",
        "err_train = np.mean(y_train != ert.predict(X_train))\n",
        "err_test  = np.mean(y_test  != ert.predict(X_test))\n",
        "acc_train = accuracy_score(y_true=y_train, y_pred=ert.predict(X_train))\n",
        "acc_test = accuracy_score(y_true=y_test, y_pred=ert.predict(X_test))\n",
        "\n",
        "print(f'''\n",
        "Ошибка на обучающей выборке: {err_train}\n",
        "Ошибка на тестовой выборке: {err_test}\n",
        "''')"
      ],
      "metadata": {
        "id": "wvhB2FQalwDU",
        "colab": {
          "base_uri": "https://localhost:8080/"
        },
        "outputId": "02080049-be57-4bc2-9511-ffe6596485df"
      },
      "execution_count": 412,
      "outputs": [
        {
          "output_type": "stream",
          "name": "stdout",
          "text": [
            "\n",
            "Ошибка на обучающей выборке: 0.003616636528028933\n",
            "Ошибка на тестовой выборке: 0.15135135135135136\n",
            "\n",
            "CPU times: user 431 ms, sys: 1.39 ms, total: 432 ms\n",
            "Wall time: 433 ms\n"
          ]
        }
      ]
    },
    {
      "cell_type": "markdown",
      "source": [
        "## AdaBoost"
      ],
      "metadata": {
        "id": "0DAlWevDlyqZ"
      }
    },
    {
      "cell_type": "code",
      "source": [
        "%%time\n",
        "ada = ensemble.AdaBoostClassifier(n_estimators = 100)\n",
        "ada.fit(X_train, y_train)\n",
        "\n",
        "err_train = np.mean(y_train != ada.predict(X_train))\n",
        "err_test  = np.mean(y_test  != ada.predict(X_test))\n",
        "acc_train = accuracy_score(y_true=y_train, y_pred=ada.predict(X_train))\n",
        "acc_test = accuracy_score(y_true=y_test, y_pred=ada.predict(X_test))\n",
        "\n",
        "print(f'''\n",
        "Ошибка на обучающей выборке: {err_train}\n",
        "Ошибка на тестовой выборке: {err_test}\n",
        "''')\n"
      ],
      "metadata": {
        "id": "VsS64yHolyHs",
        "colab": {
          "base_uri": "https://localhost:8080/"
        },
        "outputId": "c567bd6a-f26b-4aaa-8d98-0464187ed772"
      },
      "execution_count": 413,
      "outputs": [
        {
          "output_type": "stream",
          "name": "stdout",
          "text": [
            "\n",
            "Ошибка на обучающей выборке: 0.8679927667269439\n",
            "Ошибка на тестовой выборке: 0.8972972972972973\n",
            "\n",
            "CPU times: user 655 ms, sys: 3.99 ms, total: 659 ms\n",
            "Wall time: 662 ms\n"
          ]
        }
      ]
    },
    {
      "cell_type": "markdown",
      "source": [
        "## GBT"
      ],
      "metadata": {
        "id": "4cSDqYiLl4EQ"
      }
    },
    {
      "cell_type": "code",
      "source": [
        "%%time\n",
        "gbt = ensemble.GradientBoostingClassifier(n_estimators = 100)\n",
        "gbt.fit(X_train, y_train)\n",
        "\n",
        "err_train = np.mean(y_train != gbt.predict(X_train))\n",
        "err_test  = np.mean(y_test  != gbt.predict(X_test))\n",
        "acc_train = accuracy_score(y_true=y_train, y_pred=gbt.predict(X_train))\n",
        "acc_test = accuracy_score(y_true=y_test, y_pred=gbt.predict(X_test))\n",
        "\n",
        "print(f'''\n",
        "Ошибка на обучающей выборке: {err_train}\n",
        "Ошибка на тестовой выборке: {err_test}\n",
        "''')"
      ],
      "metadata": {
        "id": "w5Ptjatjl5U9",
        "colab": {
          "base_uri": "https://localhost:8080/"
        },
        "outputId": "415a1d73-e7d0-489d-81ca-8cf4f125695a"
      },
      "execution_count": 414,
      "outputs": [
        {
          "output_type": "stream",
          "name": "stdout",
          "text": [
            "\n",
            "Ошибка на обучающей выборке: 0.018083182640144666\n",
            "Ошибка на тестовой выборке: 0.12972972972972974\n",
            "\n",
            "CPU times: user 7.45 s, sys: 2.52 ms, total: 7.46 s\n",
            "Wall time: 7.56 s\n"
          ]
        }
      ]
    },
    {
      "cell_type": "markdown",
      "source": [
        "## Выводы по работе алгоритмов"
      ],
      "metadata": {
        "id": "XT4EGgKjxjOI"
      }
    },
    {
      "cell_type": "markdown",
      "source": [
        "Адекватно себя показали методы основанные на принципе ансамбля деревьев. У остальных методов ошибка кратно больше, особенно AdaBoost. Думаю, остальные методы показали плохие результаты из-за того, что выборка мала, а количество объектов классификации велико."
      ],
      "metadata": {
        "id": "3NKKdTPUyAP9"
      }
    },
    {
      "cell_type": "markdown",
      "source": [
        "**Extremely Randomized Trees** показал лучший результат ошибки в *~0.1513*.\n",
        "\n",
        "**Random forest** недалеко ушел от собрата, ошибка в *~0.1351*.\n",
        "\n",
        "Но лучшим оказался **GBT**: *~0.1297*.\n",
        "\n",
        "**KNeighbors** показал не очень удовлетворительный результат. Оптимальное количество соседей равное одному наводит на подозрения несостоятельности получившегося датасета, при этом ошибка в *~0.1891*.\n",
        "\n",
        "**SVC**: *~0.3405*.\n",
        "\n",
        "**AdaBoost** показал наихудший результат в *~0.8972*. По идее этот алгоритм чувствителен к шуму и выбросам, но этого в датасете остаться не дОлжно. Значит дело в обыкновенном недостатке примеров для обучения."
      ],
      "metadata": {
        "id": "JWICGR6dxEvR"
      }
    }
  ]
}